{
    "metadata": {
        "kernelspec": {
            "name": "SQL",
            "display_name": "SQL",
            "language": "sql"
        },
        "language_info": {
            "name": "sql",
            "version": ""
        }
    },
    "nbformat_minor": 2,
    "nbformat": 4,
    "cells": [
        {
            "cell_type": "code",
            "source": [
                "SELECT Szallashely.ROGZITETTE, Szallashely.CIM\r\n",
                "FROM Szallashely\r\n",
                "WHERE HELY LIKE 'Balaton%' AND MONTH(Szallashely.ROGZ_IDO) = 3\r\n",
                "ORDER BY CSILLAGOK_SZAMA DESC"
            ],
            "metadata": {
                "azdata_cell_guid": "0a98edbc-0cef-48f0-9649-3d01ffb1baab",
                "language": "sql"
            },
            "outputs": [
                {
                    "output_type": "display_data",
                    "data": {
                        "text/html": "(7 rows affected)"
                    },
                    "metadata": {}
                },
                {
                    "output_type": "display_data",
                    "data": {
                        "text/html": "Total execution time: 00:00:00.041"
                    },
                    "metadata": {}
                },
                {
                    "output_type": "execute_result",
                    "metadata": {},
                    "execution_count": 2,
                    "data": {
                        "application/vnd.dataresource+json": {
                            "schema": {
                                "fields": [
                                    {
                                        "name": "ROGZITETTE"
                                    },
                                    {
                                        "name": "CIM"
                                    }
                                ]
                            },
                            "data": [
                                {
                                    "ROGZITETTE": "Béla",
                                    "CIM": "8623 Balatonföldvár, Rákóczi Ferenc út 45."
                                },
                                {
                                    "ROGZITETTE": "Mari",
                                    "CIM": "8624 Balatonföldvár, Kiss u.2."
                                },
                                {
                                    "ROGZITETTE": "Béla",
                                    "CIM": "8600 Siófok (Széplak), Akácfa utca 1"
                                },
                                {
                                    "ROGZITETTE": "Béla",
                                    "CIM": "8600 Siófok, Virág utca 1"
                                },
                                {
                                    "ROGZITETTE": "Béla",
                                    "CIM": "8630 Balatonboglár, József Attila utca 25"
                                },
                                {
                                    "ROGZITETTE": "Mari",
                                    "CIM": "8630 Balatonboglár, Dózsa György utca 108"
                                },
                                {
                                    "ROGZITETTE": "Béla",
                                    "CIM": "8220 Balatonalmádi Neptun u. 23."
                                }
                            ]
                        },
                        "text/html": [
                            "<table>",
                            "<tr><th>ROGZITETTE</th><th>CIM</th></tr>",
                            "<tr><td>Béla</td><td>8623 Balatonföldvár, Rákóczi Ferenc út 45.</td></tr>",
                            "<tr><td>Mari</td><td>8624 Balatonföldvár, Kiss u.2.</td></tr>",
                            "<tr><td>Béla</td><td>8600 Siófok (Széplak), Akácfa utca 1</td></tr>",
                            "<tr><td>Béla</td><td>8600 Siófok, Virág utca 1</td></tr>",
                            "<tr><td>Béla</td><td>8630 Balatonboglár, József Attila utca 25</td></tr>",
                            "<tr><td>Mari</td><td>8630 Balatonboglár, Dózsa György utca 108</td></tr>",
                            "<tr><td>Béla</td><td>8220 Balatonalmádi Neptun u. 23.</td></tr>",
                            "</table>"
                        ]
                    }
                }
            ],
            "execution_count": 2
        },
        {
            "cell_type": "code",
            "source": [
                "SELECT szh.TIPUS, ROUND(COUNT(*),-2) \r\n",
                "FROM Foglalas f JOIN Szoba sz ON f.SZOBA_FK = sz.SZOBA_ID\r\n",
                "                JOIN Szallashely szh ON sz.SZALLAS_FK = szh.SZALLAS_ID\r\n",
                "GROUP BY szh.TIPUS\r\n",
                "HAVING COUNT(*) < 500"
            ],
            "metadata": {
                "azdata_cell_guid": "4b4d0b66-b9f1-47d8-94bd-0bb2231d14c9",
                "language": "sql"
            },
            "outputs": [
                {
                    "output_type": "display_data",
                    "data": {
                        "text/html": "(3 rows affected)"
                    },
                    "metadata": {}
                },
                {
                    "output_type": "display_data",
                    "data": {
                        "text/html": "Total execution time: 00:00:00.006"
                    },
                    "metadata": {}
                },
                {
                    "output_type": "execute_result",
                    "metadata": {},
                    "execution_count": 3,
                    "data": {
                        "application/vnd.dataresource+json": {
                            "schema": {
                                "fields": [
                                    {
                                        "name": "TIPUS"
                                    },
                                    {
                                        "name": "(No column name)"
                                    }
                                ]
                            },
                            "data": [
                                {
                                    "TIPUS": "Apartman",
                                    "(No column name)": "100"
                                },
                                {
                                    "TIPUS": "vendégház",
                                    "(No column name)": "100"
                                },
                                {
                                    "TIPUS": "panzió",
                                    "(No column name)": "200"
                                }
                            ]
                        },
                        "text/html": [
                            "<table>",
                            "<tr><th>TIPUS</th><th>(No column name)</th></tr>",
                            "<tr><td>Apartman</td><td>100</td></tr>",
                            "<tr><td>vendégház</td><td>100</td></tr>",
                            "<tr><td>panzió</td><td>200</td></tr>",
                            "</table>"
                        ]
                    }
                }
            ],
            "execution_count": 3
        },
        {
            "cell_type": "code",
            "source": [
                "SELECT sz.SZOBA_ID, sz.SZALLAS_FK, sz.SZOBA_SZAMA, sz.FEROHELY,sz.POTAGY,sz.KLIMAS, sza.SZALLAS_NEV, IIF(sza.TIPUS = 'panzió','IGEN','NEM')\r\n",
                "FROM Foglalas f RIGHT JOIN Szoba sz ON f.SZOBA_FK = sz.SZOBA_ID\r\n",
                "                RIGHT JOIN Szallashely sza ON sz.SZALLAS_FK = sza.SZALLAS_ID\r\n",
                "WHERE f.UGYFEL_FK IS NULL"
            ],
            "metadata": {
                "azdata_cell_guid": "f7102292-29f7-491a-89a2-092123fbeef7",
                "language": "sql"
            },
            "outputs": [
                {
                    "output_type": "display_data",
                    "data": {
                        "text/html": "(98 rows affected)"
                    },
                    "metadata": {}
                },
                {
                    "output_type": "display_data",
                    "data": {
                        "text/html": "Total execution time: 00:00:00.011"
                    },
                    "metadata": {}
                },
                {
                    "output_type": "execute_result",
                    "metadata": {},
                    "execution_count": 32,
                    "data": {
                        "application/vnd.dataresource+json": {
                            "schema": {
                                "fields": [
                                    {
                                        "name": "SZOBA_ID"
                                    },
                                    {
                                        "name": "SZALLAS_FK"
                                    },
                                    {
                                        "name": "SZOBA_SZAMA"
                                    },
                                    {
                                        "name": "FEROHELY"
                                    },
                                    {
                                        "name": "POTAGY"
                                    },
                                    {
                                        "name": "KLIMAS"
                                    },
                                    {
                                        "name": "SZALLAS_NEV"
                                    },
                                    {
                                        "name": "(No column name)"
                                    }
                                ]
                            },
                            "data": [
                                {
                                    "SZOBA_ID": "261",
                                    "SZALLAS_FK": "16",
                                    "SZOBA_SZAMA": "19",
                                    "FEROHELY": "1",
                                    "POTAGY": "1",
                                    "KLIMAS": "n",
                                    "SZALLAS_NEV": "Bagoly Hotel",
                                    "(No column name)": "NEM"
                                },
                                {
                                    "SZOBA_ID": "238",
                                    "SZALLAS_FK": "15",
                                    "SZOBA_SZAMA": "8",
                                    "FEROHELY": "3",
                                    "POTAGY": "1",
                                    "KLIMAS": "i",
                                    "SZALLAS_NEV": "Tímárház Panzió",
                                    "(No column name)": "IGEN"
                                },
                                {
                                    "SZOBA_ID": "215",
                                    "SZALLAS_FK": "13",
                                    "SZOBA_SZAMA": "1",
                                    "FEROHELY": "2",
                                    "POTAGY": "1",
                                    "KLIMAS": "i",
                                    "SZALLAS_NEV": "Riviéra Panzió",
                                    "(No column name)": "IGEN"
                                },
                                {
                                    "SZOBA_ID": "209",
                                    "SZALLAS_FK": "12",
                                    "SZOBA_SZAMA": "45",
                                    "FEROHELY": "3",
                                    "POTAGY": "2",
                                    "KLIMAS": "n",
                                    "SZALLAS_NEV": "Gold Hotel",
                                    "(No column name)": "NEM"
                                },
                                {
                                    "SZOBA_ID": "284",
                                    "SZALLAS_FK": "19",
                                    "SZOBA_SZAMA": "4",
                                    "FEROHELY": "2",
                                    "POTAGY": "2",
                                    "KLIMAS": "i",
                                    "SZALLAS_NEV": "Nyárfás Vendégház",
                                    "(No column name)": "NEM"
                                },
                                {
                                    "SZOBA_ID": "232",
                                    "SZALLAS_FK": "15",
                                    "SZOBA_SZAMA": "2",
                                    "FEROHELY": "2",
                                    "POTAGY": "0",
                                    "KLIMAS": "i",
                                    "SZALLAS_NEV": "Tímárház Panzió",
                                    "(No column name)": "IGEN"
                                },
                                {
                                    "SZOBA_ID": "278",
                                    "SZALLAS_FK": "18",
                                    "SZOBA_SZAMA": "1",
                                    "FEROHELY": "3",
                                    "POTAGY": "1",
                                    "KLIMAS": "i",
                                    "SZALLAS_NEV": "Fortuna Apartman",
                                    "(No column name)": "NEM"
                                },
                                {
                                    "SZOBA_ID": "221",
                                    "SZALLAS_FK": "13",
                                    "SZOBA_SZAMA": "7",
                                    "FEROHELY": "3",
                                    "POTAGY": "0",
                                    "KLIMAS": "i",
                                    "SZALLAS_NEV": "Riviéra Panzió",
                                    "(No column name)": "IGEN"
                                },
                                {
                                    "SZOBA_ID": "201",
                                    "SZALLAS_FK": "12",
                                    "SZOBA_SZAMA": "37",
                                    "FEROHELY": "3",
                                    "POTAGY": "1",
                                    "KLIMAS": "n",
                                    "SZALLAS_NEV": "Gold Hotel",
                                    "(No column name)": "NEM"
                                },
                                {
                                    "SZOBA_ID": "244",
                                    "SZALLAS_FK": "16",
                                    "SZOBA_SZAMA": "2",
                                    "FEROHELY": "2",
                                    "POTAGY": "1",
                                    "KLIMAS": "i",
                                    "SZALLAS_NEV": "Bagoly Hotel",
                                    "(No column name)": "NEM"
                                },
                                {
                                    "SZOBA_ID": "252",
                                    "SZALLAS_FK": "16",
                                    "SZOBA_SZAMA": "10",
                                    "FEROHELY": "3",
                                    "POTAGY": "1",
                                    "KLIMAS": "i",
                                    "SZALLAS_NEV": "Bagoly Hotel",
                                    "(No column name)": "NEM"
                                },
                                {
                                    "SZOBA_ID": "258",
                                    "SZALLAS_FK": "16",
                                    "SZOBA_SZAMA": "16",
                                    "FEROHELY": "2",
                                    "POTAGY": "0",
                                    "KLIMAS": "i",
                                    "SZALLAS_NEV": "Bagoly Hotel",
                                    "(No column name)": "NEM"
                                },
                                {
                                    "SZOBA_ID": "264",
                                    "SZALLAS_FK": "17",
                                    "SZOBA_SZAMA": "2",
                                    "FEROHELY": "3",
                                    "POTAGY": "0",
                                    "KLIMAS": "i",
                                    "SZALLAS_NEV": "Szarvas Hotel",
                                    "(No column name)": "NEM"
                                },
                                {
                                    "SZOBA_ID": "281",
                                    "SZALLAS_FK": "19",
                                    "SZOBA_SZAMA": "1",
                                    "FEROHELY": "2",
                                    "POTAGY": "0",
                                    "KLIMAS": "n",
                                    "SZALLAS_NEV": "Nyárfás Vendégház",
                                    "(No column name)": "NEM"
                                },
                                {
                                    "SZOBA_ID": "212",
                                    "SZALLAS_FK": "12",
                                    "SZOBA_SZAMA": "48",
                                    "FEROHELY": "3",
                                    "POTAGY": "0",
                                    "KLIMAS": "n",
                                    "SZALLAS_NEV": "Gold Hotel",
                                    "(No column name)": "NEM"
                                },
                                {
                                    "SZOBA_ID": "235",
                                    "SZALLAS_FK": "15",
                                    "SZOBA_SZAMA": "5",
                                    "FEROHELY": "3",
                                    "POTAGY": "0",
                                    "KLIMAS": "i",
                                    "SZALLAS_NEV": "Tímárház Panzió",
                                    "(No column name)": "IGEN"
                                },
                                {
                                    "SZOBA_ID": "218",
                                    "SZALLAS_FK": "13",
                                    "SZOBA_SZAMA": "4",
                                    "FEROHELY": "3",
                                    "POTAGY": "0",
                                    "KLIMAS": "i",
                                    "SZALLAS_NEV": "Riviéra Panzió",
                                    "(No column name)": "IGEN"
                                },
                                {
                                    "SZOBA_ID": "229",
                                    "SZALLAS_FK": "14",
                                    "SZOBA_SZAMA": "3",
                                    "FEROHELY": "2",
                                    "POTAGY": "0",
                                    "KLIMAS": "i",
                                    "SZALLAS_NEV": "Nyárfás Vendégház",
                                    "(No column name)": "NEM"
                                },
                                {
                                    "SZOBA_ID": "275",
                                    "SZALLAS_FK": "17",
                                    "SZOBA_SZAMA": "13",
                                    "FEROHELY": "2",
                                    "POTAGY": "1",
                                    "KLIMAS": "n",
                                    "SZALLAS_NEV": "Szarvas Hotel",
                                    "(No column name)": "NEM"
                                },
                                {
                                    "SZOBA_ID": "272",
                                    "SZALLAS_FK": "17",
                                    "SZOBA_SZAMA": "10",
                                    "FEROHELY": "3",
                                    "POTAGY": "0",
                                    "KLIMAS": "i",
                                    "SZALLAS_NEV": "Szarvas Hotel",
                                    "(No column name)": "NEM"
                                },
                                {
                                    "SZOBA_ID": "255",
                                    "SZALLAS_FK": "16",
                                    "SZOBA_SZAMA": "13",
                                    "FEROHELY": "3",
                                    "POTAGY": "0",
                                    "KLIMAS": "n",
                                    "SZALLAS_NEV": "Bagoly Hotel",
                                    "(No column name)": "NEM"
                                },
                                {
                                    "SZOBA_ID": "292",
                                    "SZALLAS_FK": "20",
                                    "SZOBA_SZAMA": "8",
                                    "FEROHELY": "2",
                                    "POTAGY": "1",
                                    "KLIMAS": "i",
                                    "SZALLAS_NEV": "Kollégium",
                                    "(No column name)": "NEM"
                                },
                                {
                                    "SZOBA_ID": "241",
                                    "SZALLAS_FK": "15",
                                    "SZOBA_SZAMA": "11",
                                    "FEROHELY": "2",
                                    "POTAGY": "0",
                                    "KLIMAS": "i",
                                    "SZALLAS_NEV": "Tímárház Panzió",
                                    "(No column name)": "IGEN"
                                },
                                {
                                    "SZOBA_ID": "213",
                                    "SZALLAS_FK": "12",
                                    "SZOBA_SZAMA": "49",
                                    "FEROHELY": "3",
                                    "POTAGY": "0",
                                    "KLIMAS": "i",
                                    "SZALLAS_NEV": "Gold Hotel",
                                    "(No column name)": "NEM"
                                },
                                {
                                    "SZOBA_ID": "236",
                                    "SZALLAS_FK": "15",
                                    "SZOBA_SZAMA": "6",
                                    "FEROHELY": "3",
                                    "POTAGY": "1",
                                    "KLIMAS": "n",
                                    "SZALLAS_NEV": "Tímárház Panzió",
                                    "(No column name)": "IGEN"
                                },
                                {
                                    "SZOBA_ID": "259",
                                    "SZALLAS_FK": "16",
                                    "SZOBA_SZAMA": "17",
                                    "FEROHELY": "2",
                                    "POTAGY": "0",
                                    "KLIMAS": "i",
                                    "SZALLAS_NEV": "Bagoly Hotel",
                                    "(No column name)": "NEM"
                                },
                                {
                                    "SZOBA_ID": "267",
                                    "SZALLAS_FK": "17",
                                    "SZOBA_SZAMA": "5",
                                    "FEROHELY": "2",
                                    "POTAGY": "1",
                                    "KLIMAS": "n",
                                    "SZALLAS_NEV": "Szarvas Hotel",
                                    "(No column name)": "NEM"
                                },
                                {
                                    "SZOBA_ID": "230",
                                    "SZALLAS_FK": "14",
                                    "SZOBA_SZAMA": "4",
                                    "FEROHELY": "3",
                                    "POTAGY": "2",
                                    "KLIMAS": "i",
                                    "SZALLAS_NEV": "Nyárfás Vendégház",
                                    "(No column name)": "NEM"
                                },
                                {
                                    "SZOBA_ID": "276",
                                    "SZALLAS_FK": "17",
                                    "SZOBA_SZAMA": "14",
                                    "FEROHELY": "2",
                                    "POTAGY": "0",
                                    "KLIMAS": "i",
                                    "SZALLAS_NEV": "Szarvas Hotel",
                                    "(No column name)": "NEM"
                                },
                                {
                                    "SZOBA_ID": "273",
                                    "SZALLAS_FK": "17",
                                    "SZOBA_SZAMA": "11",
                                    "FEROHELY": "2",
                                    "POTAGY": "1",
                                    "KLIMAS": "i",
                                    "SZALLAS_NEV": "Szarvas Hotel",
                                    "(No column name)": "NEM"
                                },
                                {
                                    "SZOBA_ID": "250",
                                    "SZALLAS_FK": "16",
                                    "SZOBA_SZAMA": "8",
                                    "FEROHELY": "3",
                                    "POTAGY": "1",
                                    "KLIMAS": "n",
                                    "SZALLAS_NEV": "Bagoly Hotel",
                                    "(No column name)": "NEM"
                                },
                                {
                                    "SZOBA_ID": "207",
                                    "SZALLAS_FK": "12",
                                    "SZOBA_SZAMA": "43",
                                    "FEROHELY": "2",
                                    "POTAGY": "1",
                                    "KLIMAS": "i",
                                    "SZALLAS_NEV": "Gold Hotel",
                                    "(No column name)": "NEM"
                                },
                                {
                                    "SZOBA_ID": "256",
                                    "SZALLAS_FK": "16",
                                    "SZOBA_SZAMA": "14",
                                    "FEROHELY": "3",
                                    "POTAGY": "1",
                                    "KLIMAS": "i",
                                    "SZALLAS_NEV": "Bagoly Hotel",
                                    "(No column name)": "NEM"
                                },
                                {
                                    "SZOBA_ID": "293",
                                    "SZALLAS_FK": "20",
                                    "SZOBA_SZAMA": "9",
                                    "FEROHELY": "2",
                                    "POTAGY": "1",
                                    "KLIMAS": "i",
                                    "SZALLAS_NEV": "Kollégium",
                                    "(No column name)": "NEM"
                                },
                                {
                                    "SZOBA_ID": "239",
                                    "SZALLAS_FK": "15",
                                    "SZOBA_SZAMA": "9",
                                    "FEROHELY": "2",
                                    "POTAGY": "2",
                                    "KLIMAS": "i",
                                    "SZALLAS_NEV": "Tímárház Panzió",
                                    "(No column name)": "IGEN"
                                },
                                {
                                    "SZOBA_ID": "216",
                                    "SZALLAS_FK": "13",
                                    "SZOBA_SZAMA": "2",
                                    "FEROHELY": "3",
                                    "POTAGY": "1",
                                    "KLIMAS": "i",
                                    "SZALLAS_NEV": "Riviéra Panzió",
                                    "(No column name)": "IGEN"
                                },
                                {
                                    "SZOBA_ID": "287",
                                    "SZALLAS_FK": "20",
                                    "SZOBA_SZAMA": "3",
                                    "FEROHELY": "3",
                                    "POTAGY": "0",
                                    "KLIMAS": "n",
                                    "SZALLAS_NEV": "Kollégium",
                                    "(No column name)": "NEM"
                                },
                                {
                                    "SZOBA_ID": "233",
                                    "SZALLAS_FK": "15",
                                    "SZOBA_SZAMA": "3",
                                    "FEROHELY": "3",
                                    "POTAGY": "0",
                                    "KLIMAS": "n",
                                    "SZALLAS_NEV": "Tímárház Panzió",
                                    "(No column name)": "IGEN"
                                },
                                {
                                    "SZOBA_ID": "210",
                                    "SZALLAS_FK": "12",
                                    "SZOBA_SZAMA": "46",
                                    "FEROHELY": "2",
                                    "POTAGY": "0",
                                    "KLIMAS": "i",
                                    "SZALLAS_NEV": "Gold Hotel",
                                    "(No column name)": "NEM"
                                },
                                {
                                    "SZOBA_ID": "279",
                                    "SZALLAS_FK": "18",
                                    "SZOBA_SZAMA": "2",
                                    "FEROHELY": "2",
                                    "POTAGY": "1",
                                    "KLIMAS": "i",
                                    "SZALLAS_NEV": "Fortuna Apartman",
                                    "(No column name)": "NEM"
                                },
                                {
                                    "SZOBA_ID": "270",
                                    "SZALLAS_FK": "17",
                                    "SZOBA_SZAMA": "8",
                                    "FEROHELY": "3",
                                    "POTAGY": "0",
                                    "KLIMAS": "n",
                                    "SZALLAS_NEV": "Szarvas Hotel",
                                    "(No column name)": "NEM"
                                },
                                {
                                    "SZOBA_ID": "224",
                                    "SZALLAS_FK": "13",
                                    "SZOBA_SZAMA": "10",
                                    "FEROHELY": "2",
                                    "POTAGY": "0",
                                    "KLIMAS": "i",
                                    "SZALLAS_NEV": "Riviéra Panzió",
                                    "(No column name)": "IGEN"
                                },
                                {
                                    "SZOBA_ID": "227",
                                    "SZALLAS_FK": "14",
                                    "SZOBA_SZAMA": "1",
                                    "FEROHELY": "2",
                                    "POTAGY": "1",
                                    "KLIMAS": "i",
                                    "SZALLAS_NEV": "Nyárfás Vendégház",
                                    "(No column name)": "NEM"
                                },
                                {
                                    "SZOBA_ID": "204",
                                    "SZALLAS_FK": "12",
                                    "SZOBA_SZAMA": "40",
                                    "FEROHELY": "3",
                                    "POTAGY": "1",
                                    "KLIMAS": "i",
                                    "SZALLAS_NEV": "Gold Hotel",
                                    "(No column name)": "NEM"
                                },
                                {
                                    "SZOBA_ID": "253",
                                    "SZALLAS_FK": "16",
                                    "SZOBA_SZAMA": "11",
                                    "FEROHELY": "2",
                                    "POTAGY": "0",
                                    "KLIMAS": "i",
                                    "SZALLAS_NEV": "Bagoly Hotel",
                                    "(No column name)": "NEM"
                                },
                                {
                                    "SZOBA_ID": "290",
                                    "SZALLAS_FK": "20",
                                    "SZOBA_SZAMA": "6",
                                    "FEROHELY": "2",
                                    "POTAGY": "1",
                                    "KLIMAS": "i",
                                    "SZALLAS_NEV": "Kollégium",
                                    "(No column name)": "NEM"
                                },
                                {
                                    "SZOBA_ID": "247",
                                    "SZALLAS_FK": "16",
                                    "SZOBA_SZAMA": "5",
                                    "FEROHELY": "2",
                                    "POTAGY": "0",
                                    "KLIMAS": "i",
                                    "SZALLAS_NEV": "Bagoly Hotel",
                                    "(No column name)": "NEM"
                                },
                                {
                                    "SZOBA_ID": "211",
                                    "SZALLAS_FK": "12",
                                    "SZOBA_SZAMA": "47",
                                    "FEROHELY": "2",
                                    "POTAGY": "1",
                                    "KLIMAS": "i",
                                    "SZALLAS_NEV": "Gold Hotel",
                                    "(No column name)": "NEM"
                                },
                                {
                                    "SZOBA_ID": "282",
                                    "SZALLAS_FK": "19",
                                    "SZOBA_SZAMA": "2",
                                    "FEROHELY": "2",
                                    "POTAGY": "0",
                                    "KLIMAS": "i",
                                    "SZALLAS_NEV": "Nyárfás Vendégház",
                                    "(No column name)": "NEM"
                                },
                                {
                                    "SZOBA_ID": "288",
                                    "SZALLAS_FK": "20",
                                    "SZOBA_SZAMA": "4",
                                    "FEROHELY": "2",
                                    "POTAGY": "1",
                                    "KLIMAS": "i",
                                    "SZALLAS_NEV": "Kollégium",
                                    "(No column name)": "NEM"
                                },
                                {
                                    "SZOBA_ID": "234",
                                    "SZALLAS_FK": "15",
                                    "SZOBA_SZAMA": "4",
                                    "FEROHELY": "3",
                                    "POTAGY": "1",
                                    "KLIMAS": "i",
                                    "SZALLAS_NEV": "Tímárház Panzió",
                                    "(No column name)": "IGEN"
                                },
                                {
                                    "SZOBA_ID": "219",
                                    "SZALLAS_FK": "13",
                                    "SZOBA_SZAMA": "5",
                                    "FEROHELY": "2",
                                    "POTAGY": "0",
                                    "KLIMAS": "n",
                                    "SZALLAS_NEV": "Riviéra Panzió",
                                    "(No column name)": "IGEN"
                                },
                                {
                                    "SZOBA_ID": "265",
                                    "SZALLAS_FK": "17",
                                    "SZOBA_SZAMA": "3",
                                    "FEROHELY": "3",
                                    "POTAGY": "0",
                                    "KLIMAS": "i",
                                    "SZALLAS_NEV": "Szarvas Hotel",
                                    "(No column name)": "NEM"
                                },
                                {
                                    "SZOBA_ID": "271",
                                    "SZALLAS_FK": "17",
                                    "SZOBA_SZAMA": "9",
                                    "FEROHELY": "3",
                                    "POTAGY": "0",
                                    "KLIMAS": "i",
                                    "SZALLAS_NEV": "Szarvas Hotel",
                                    "(No column name)": "NEM"
                                },
                                {
                                    "SZOBA_ID": "228",
                                    "SZALLAS_FK": "14",
                                    "SZOBA_SZAMA": "2",
                                    "FEROHELY": "3",
                                    "POTAGY": "0",
                                    "KLIMAS": "i",
                                    "SZALLAS_NEV": "Nyárfás Vendégház",
                                    "(No column name)": "NEM"
                                },
                                {
                                    "SZOBA_ID": "205",
                                    "SZALLAS_FK": "12",
                                    "SZOBA_SZAMA": "41",
                                    "FEROHELY": "3",
                                    "POTAGY": "0",
                                    "KLIMAS": "i",
                                    "SZALLAS_NEV": "Gold Hotel",
                                    "(No column name)": "NEM"
                                },
                                {
                                    "SZOBA_ID": "291",
                                    "SZALLAS_FK": "20",
                                    "SZOBA_SZAMA": "7",
                                    "FEROHELY": "2",
                                    "POTAGY": "1",
                                    "KLIMAS": "i",
                                    "SZALLAS_NEV": "Kollégium",
                                    "(No column name)": "NEM"
                                },
                                {
                                    "SZOBA_ID": "242",
                                    "SZALLAS_FK": "15",
                                    "SZOBA_SZAMA": "12",
                                    "FEROHELY": "2",
                                    "POTAGY": "1",
                                    "KLIMAS": "i",
                                    "SZALLAS_NEV": "Tímárház Panzió",
                                    "(No column name)": "IGEN"
                                },
                                {
                                    "SZOBA_ID": "254",
                                    "SZALLAS_FK": "16",
                                    "SZOBA_SZAMA": "12",
                                    "FEROHELY": "2",
                                    "POTAGY": "0",
                                    "KLIMAS": "i",
                                    "SZALLAS_NEV": "Bagoly Hotel",
                                    "(No column name)": "NEM"
                                },
                                {
                                    "SZOBA_ID": "199",
                                    "SZALLAS_FK": "12",
                                    "SZOBA_SZAMA": "35",
                                    "FEROHELY": "3",
                                    "POTAGY": "2",
                                    "KLIMAS": "i",
                                    "SZALLAS_NEV": "Gold Hotel",
                                    "(No column name)": "NEM"
                                },
                                {
                                    "SZOBA_ID": "248",
                                    "SZALLAS_FK": "16",
                                    "SZOBA_SZAMA": "6",
                                    "FEROHELY": "2",
                                    "POTAGY": "2",
                                    "KLIMAS": "i",
                                    "SZALLAS_NEV": "Bagoly Hotel",
                                    "(No column name)": "NEM"
                                },
                                {
                                    "SZOBA_ID": "285",
                                    "SZALLAS_FK": "20",
                                    "SZOBA_SZAMA": "1",
                                    "FEROHELY": "2",
                                    "POTAGY": "1",
                                    "KLIMAS": "i",
                                    "SZALLAS_NEV": "Kollégium",
                                    "(No column name)": "NEM"
                                },
                                {
                                    "SZOBA_ID": "262",
                                    "SZALLAS_FK": "16",
                                    "SZOBA_SZAMA": "20",
                                    "FEROHELY": "1",
                                    "POTAGY": "0",
                                    "KLIMAS": "n",
                                    "SZALLAS_NEV": "Bagoly Hotel",
                                    "(No column name)": "NEM"
                                },
                                {
                                    "SZOBA_ID": "231",
                                    "SZALLAS_FK": "15",
                                    "SZOBA_SZAMA": "1",
                                    "FEROHELY": "2",
                                    "POTAGY": "0",
                                    "KLIMAS": "i",
                                    "SZALLAS_NEV": "Tímárház Panzió",
                                    "(No column name)": "IGEN"
                                },
                                {
                                    "SZOBA_ID": "268",
                                    "SZALLAS_FK": "17",
                                    "SZOBA_SZAMA": "6",
                                    "FEROHELY": "2",
                                    "POTAGY": "2",
                                    "KLIMAS": "n",
                                    "SZALLAS_NEV": "Szarvas Hotel",
                                    "(No column name)": "NEM"
                                },
                                {
                                    "SZOBA_ID": "222",
                                    "SZALLAS_FK": "13",
                                    "SZOBA_SZAMA": "8",
                                    "FEROHELY": "2",
                                    "POTAGY": "0",
                                    "KLIMAS": "n",
                                    "SZALLAS_NEV": "Riviéra Panzió",
                                    "(No column name)": "IGEN"
                                },
                                {
                                    "SZOBA_ID": "202",
                                    "SZALLAS_FK": "12",
                                    "SZOBA_SZAMA": "38",
                                    "FEROHELY": "3",
                                    "POTAGY": "1",
                                    "KLIMAS": "i",
                                    "SZALLAS_NEV": "Gold Hotel",
                                    "(No column name)": "NEM"
                                },
                                {
                                    "SZOBA_ID": "225",
                                    "SZALLAS_FK": "13",
                                    "SZOBA_SZAMA": "11",
                                    "FEROHELY": "2",
                                    "POTAGY": "1",
                                    "KLIMAS": "i",
                                    "SZALLAS_NEV": "Riviéra Panzió",
                                    "(No column name)": "IGEN"
                                },
                                {
                                    "SZOBA_ID": "274",
                                    "SZALLAS_FK": "17",
                                    "SZOBA_SZAMA": "12",
                                    "FEROHELY": "3",
                                    "POTAGY": "1",
                                    "KLIMAS": "i",
                                    "SZALLAS_NEV": "Szarvas Hotel",
                                    "(No column name)": "NEM"
                                },
                                {
                                    "SZOBA_ID": "251",
                                    "SZALLAS_FK": "16",
                                    "SZOBA_SZAMA": "9",
                                    "FEROHELY": "3",
                                    "POTAGY": "0",
                                    "KLIMAS": "n",
                                    "SZALLAS_NEV": "Bagoly Hotel",
                                    "(No column name)": "NEM"
                                },
                                {
                                    "SZOBA_ID": "159",
                                    "SZALLAS_FK": "10",
                                    "SZOBA_SZAMA": "25",
                                    "FEROHELY": "3",
                                    "POTAGY": "1",
                                    "KLIMAS": "n",
                                    "SZALLAS_NEV": "Lagúna Hotel",
                                    "(No column name)": "NEM"
                                },
                                {
                                    "SZOBA_ID": "208",
                                    "SZALLAS_FK": "12",
                                    "SZOBA_SZAMA": "44",
                                    "FEROHELY": "2",
                                    "POTAGY": "1",
                                    "KLIMAS": "i",
                                    "SZALLAS_NEV": "Gold Hotel",
                                    "(No column name)": "NEM"
                                },
                                {
                                    "SZOBA_ID": "294",
                                    "SZALLAS_FK": "20",
                                    "SZOBA_SZAMA": "10",
                                    "FEROHELY": "3",
                                    "POTAGY": "0",
                                    "KLIMAS": "i",
                                    "SZALLAS_NEV": "Kollégium",
                                    "(No column name)": "NEM"
                                },
                                {
                                    "SZOBA_ID": "245",
                                    "SZALLAS_FK": "16",
                                    "SZOBA_SZAMA": "3",
                                    "FEROHELY": "2",
                                    "POTAGY": "1",
                                    "KLIMAS": "i",
                                    "SZALLAS_NEV": "Bagoly Hotel",
                                    "(No column name)": "NEM"
                                },
                                {
                                    "SZOBA_ID": "286",
                                    "SZALLAS_FK": "20",
                                    "SZOBA_SZAMA": "2",
                                    "FEROHELY": "3",
                                    "POTAGY": "0",
                                    "KLIMAS": "i",
                                    "SZALLAS_NEV": "Kollégium",
                                    "(No column name)": "NEM"
                                },
                                {
                                    "SZOBA_ID": "263",
                                    "SZALLAS_FK": "17",
                                    "SZOBA_SZAMA": "1",
                                    "FEROHELY": "2",
                                    "POTAGY": "2",
                                    "KLIMAS": "i",
                                    "SZALLAS_NEV": "Szarvas Hotel",
                                    "(No column name)": "NEM"
                                },
                                {
                                    "SZOBA_ID": "240",
                                    "SZALLAS_FK": "15",
                                    "SZOBA_SZAMA": "10",
                                    "FEROHELY": "3",
                                    "POTAGY": "0",
                                    "KLIMAS": "i",
                                    "SZALLAS_NEV": "Tímárház Panzió",
                                    "(No column name)": "IGEN"
                                },
                                {
                                    "SZOBA_ID": "257",
                                    "SZALLAS_FK": "16",
                                    "SZOBA_SZAMA": "15",
                                    "FEROHELY": "2",
                                    "POTAGY": "0",
                                    "KLIMAS": "i",
                                    "SZALLAS_NEV": "Bagoly Hotel",
                                    "(No column name)": "NEM"
                                },
                                {
                                    "SZOBA_ID": "280",
                                    "SZALLAS_FK": "18",
                                    "SZOBA_SZAMA": "3",
                                    "FEROHELY": "3",
                                    "POTAGY": "0",
                                    "KLIMAS": "n",
                                    "SZALLAS_NEV": "Fortuna Apartman",
                                    "(No column name)": "NEM"
                                },
                                {
                                    "SZOBA_ID": "217",
                                    "SZALLAS_FK": "13",
                                    "SZOBA_SZAMA": "3",
                                    "FEROHELY": "2",
                                    "POTAGY": "1",
                                    "KLIMAS": "n",
                                    "SZALLAS_NEV": "Riviéra Panzió",
                                    "(No column name)": "IGEN"
                                },
                                {
                                    "SZOBA_ID": "223",
                                    "SZALLAS_FK": "13",
                                    "SZOBA_SZAMA": "9",
                                    "FEROHELY": "2",
                                    "POTAGY": "1",
                                    "KLIMAS": "i",
                                    "SZALLAS_NEV": "Riviéra Panzió",
                                    "(No column name)": "IGEN"
                                },
                                {
                                    "SZOBA_ID": "269",
                                    "SZALLAS_FK": "17",
                                    "SZOBA_SZAMA": "7",
                                    "FEROHELY": "2",
                                    "POTAGY": "1",
                                    "KLIMAS": "i",
                                    "SZALLAS_NEV": "Szarvas Hotel",
                                    "(No column name)": "NEM"
                                },
                                {
                                    "SZOBA_ID": "226",
                                    "SZALLAS_FK": "13",
                                    "SZOBA_SZAMA": "12",
                                    "FEROHELY": "3",
                                    "POTAGY": "1",
                                    "KLIMAS": "n",
                                    "SZALLAS_NEV": "Riviéra Panzió",
                                    "(No column name)": "IGEN"
                                },
                                {
                                    "SZOBA_ID": "203",
                                    "SZALLAS_FK": "12",
                                    "SZOBA_SZAMA": "39",
                                    "FEROHELY": "3",
                                    "POTAGY": "0",
                                    "KLIMAS": "i",
                                    "SZALLAS_NEV": "Gold Hotel",
                                    "(No column name)": "NEM"
                                },
                                {
                                    "SZOBA_ID": "289",
                                    "SZALLAS_FK": "20",
                                    "SZOBA_SZAMA": "5",
                                    "FEROHELY": "3",
                                    "POTAGY": "0",
                                    "KLIMAS": "i",
                                    "SZALLAS_NEV": "Kollégium",
                                    "(No column name)": "NEM"
                                },
                                {
                                    "SZOBA_ID": "246",
                                    "SZALLAS_FK": "16",
                                    "SZOBA_SZAMA": "4",
                                    "FEROHELY": "2",
                                    "POTAGY": "0",
                                    "KLIMAS": "i",
                                    "SZALLAS_NEV": "Bagoly Hotel",
                                    "(No column name)": "NEM"
                                },
                                {
                                    "SZOBA_ID": "214",
                                    "SZALLAS_FK": "12",
                                    "SZOBA_SZAMA": "50",
                                    "FEROHELY": "3",
                                    "POTAGY": "1",
                                    "KLIMAS": "i",
                                    "SZALLAS_NEV": "Gold Hotel",
                                    "(No column name)": "NEM"
                                },
                                {
                                    "SZOBA_ID": "237",
                                    "SZALLAS_FK": "15",
                                    "SZOBA_SZAMA": "7",
                                    "FEROHELY": "2",
                                    "POTAGY": "2",
                                    "KLIMAS": "n",
                                    "SZALLAS_NEV": "Tímárház Panzió",
                                    "(No column name)": "IGEN"
                                },
                                {
                                    "SZOBA_ID": "260",
                                    "SZALLAS_FK": "16",
                                    "SZOBA_SZAMA": "18",
                                    "FEROHELY": "2",
                                    "POTAGY": "0",
                                    "KLIMAS": "i",
                                    "SZALLAS_NEV": "Bagoly Hotel",
                                    "(No column name)": "NEM"
                                },
                                {
                                    "SZOBA_ID": "283",
                                    "SZALLAS_FK": "19",
                                    "SZOBA_SZAMA": "3",
                                    "FEROHELY": "2",
                                    "POTAGY": "0",
                                    "KLIMAS": "n",
                                    "SZALLAS_NEV": "Nyárfás Vendégház",
                                    "(No column name)": "NEM"
                                },
                                {
                                    "SZOBA_ID": "220",
                                    "SZALLAS_FK": "13",
                                    "SZOBA_SZAMA": "6",
                                    "FEROHELY": "3",
                                    "POTAGY": "0",
                                    "KLIMAS": "i",
                                    "SZALLAS_NEV": "Riviéra Panzió",
                                    "(No column name)": "IGEN"
                                },
                                {
                                    "SZOBA_ID": "266",
                                    "SZALLAS_FK": "17",
                                    "SZOBA_SZAMA": "4",
                                    "FEROHELY": "2",
                                    "POTAGY": "1",
                                    "KLIMAS": "i",
                                    "SZALLAS_NEV": "Szarvas Hotel",
                                    "(No column name)": "NEM"
                                },
                                {
                                    "SZOBA_ID": "277",
                                    "SZALLAS_FK": "17",
                                    "SZOBA_SZAMA": "15",
                                    "FEROHELY": "2",
                                    "POTAGY": "0",
                                    "KLIMAS": "i",
                                    "SZALLAS_NEV": "Szarvas Hotel",
                                    "(No column name)": "NEM"
                                },
                                {
                                    "SZOBA_ID": "249",
                                    "SZALLAS_FK": "16",
                                    "SZOBA_SZAMA": "7",
                                    "FEROHELY": "2",
                                    "POTAGY": "1",
                                    "KLIMAS": "n",
                                    "SZALLAS_NEV": "Bagoly Hotel",
                                    "(No column name)": "NEM"
                                },
                                {
                                    "SZOBA_ID": "206",
                                    "SZALLAS_FK": "12",
                                    "SZOBA_SZAMA": "42",
                                    "FEROHELY": "2",
                                    "POTAGY": "1",
                                    "KLIMAS": "i",
                                    "SZALLAS_NEV": "Gold Hotel",
                                    "(No column name)": "NEM"
                                },
                                {
                                    "SZOBA_ID": "243",
                                    "SZALLAS_FK": "16",
                                    "SZOBA_SZAMA": "1",
                                    "FEROHELY": "2",
                                    "POTAGY": "0",
                                    "KLIMAS": "i",
                                    "SZALLAS_NEV": "Bagoly Hotel",
                                    "(No column name)": "NEM"
                                },
                                {
                                    "SZOBA_ID": "200",
                                    "SZALLAS_FK": "12",
                                    "SZOBA_SZAMA": "36",
                                    "FEROHELY": "2",
                                    "POTAGY": "0",
                                    "KLIMAS": "i",
                                    "SZALLAS_NEV": "Gold Hotel",
                                    "(No column name)": "NEM"
                                },
                                {
                                    "SZOBA_ID": "NULL",
                                    "SZALLAS_FK": "NULL",
                                    "SZOBA_SZAMA": "NULL",
                                    "FEROHELY": "NULL",
                                    "POTAGY": "NULL",
                                    "KLIMAS": "NULL",
                                    "SZALLAS_NEV": "Müller Vendégház",
                                    "(No column name)": "NEM"
                                }
                            ]
                        },
                        "text/html": [
                            "<table>",
                            "<tr><th>SZOBA_ID</th><th>SZALLAS_FK</th><th>SZOBA_SZAMA</th><th>FEROHELY</th><th>POTAGY</th><th>KLIMAS</th><th>SZALLAS_NEV</th><th>(No column name)</th></tr>",
                            "<tr><td>261</td><td>16</td><td>19</td><td>1</td><td>1</td><td>n</td><td>Bagoly Hotel</td><td>NEM</td></tr>",
                            "<tr><td>238</td><td>15</td><td>8</td><td>3</td><td>1</td><td>i</td><td>Tímárház Panzió</td><td>IGEN</td></tr>",
                            "<tr><td>215</td><td>13</td><td>1</td><td>2</td><td>1</td><td>i</td><td>Riviéra Panzió</td><td>IGEN</td></tr>",
                            "<tr><td>209</td><td>12</td><td>45</td><td>3</td><td>2</td><td>n</td><td>Gold Hotel</td><td>NEM</td></tr>",
                            "<tr><td>284</td><td>19</td><td>4</td><td>2</td><td>2</td><td>i</td><td>Nyárfás Vendégház</td><td>NEM</td></tr>",
                            "<tr><td>232</td><td>15</td><td>2</td><td>2</td><td>0</td><td>i</td><td>Tímárház Panzió</td><td>IGEN</td></tr>",
                            "<tr><td>278</td><td>18</td><td>1</td><td>3</td><td>1</td><td>i</td><td>Fortuna Apartman</td><td>NEM</td></tr>",
                            "<tr><td>221</td><td>13</td><td>7</td><td>3</td><td>0</td><td>i</td><td>Riviéra Panzió</td><td>IGEN</td></tr>",
                            "<tr><td>201</td><td>12</td><td>37</td><td>3</td><td>1</td><td>n</td><td>Gold Hotel</td><td>NEM</td></tr>",
                            "<tr><td>244</td><td>16</td><td>2</td><td>2</td><td>1</td><td>i</td><td>Bagoly Hotel</td><td>NEM</td></tr>",
                            "<tr><td>252</td><td>16</td><td>10</td><td>3</td><td>1</td><td>i</td><td>Bagoly Hotel</td><td>NEM</td></tr>",
                            "<tr><td>258</td><td>16</td><td>16</td><td>2</td><td>0</td><td>i</td><td>Bagoly Hotel</td><td>NEM</td></tr>",
                            "<tr><td>264</td><td>17</td><td>2</td><td>3</td><td>0</td><td>i</td><td>Szarvas Hotel</td><td>NEM</td></tr>",
                            "<tr><td>281</td><td>19</td><td>1</td><td>2</td><td>0</td><td>n</td><td>Nyárfás Vendégház</td><td>NEM</td></tr>",
                            "<tr><td>212</td><td>12</td><td>48</td><td>3</td><td>0</td><td>n</td><td>Gold Hotel</td><td>NEM</td></tr>",
                            "<tr><td>235</td><td>15</td><td>5</td><td>3</td><td>0</td><td>i</td><td>Tímárház Panzió</td><td>IGEN</td></tr>",
                            "<tr><td>218</td><td>13</td><td>4</td><td>3</td><td>0</td><td>i</td><td>Riviéra Panzió</td><td>IGEN</td></tr>",
                            "<tr><td>229</td><td>14</td><td>3</td><td>2</td><td>0</td><td>i</td><td>Nyárfás Vendégház</td><td>NEM</td></tr>",
                            "<tr><td>275</td><td>17</td><td>13</td><td>2</td><td>1</td><td>n</td><td>Szarvas Hotel</td><td>NEM</td></tr>",
                            "<tr><td>272</td><td>17</td><td>10</td><td>3</td><td>0</td><td>i</td><td>Szarvas Hotel</td><td>NEM</td></tr>",
                            "<tr><td>255</td><td>16</td><td>13</td><td>3</td><td>0</td><td>n</td><td>Bagoly Hotel</td><td>NEM</td></tr>",
                            "<tr><td>292</td><td>20</td><td>8</td><td>2</td><td>1</td><td>i</td><td>Kollégium</td><td>NEM</td></tr>",
                            "<tr><td>241</td><td>15</td><td>11</td><td>2</td><td>0</td><td>i</td><td>Tímárház Panzió</td><td>IGEN</td></tr>",
                            "<tr><td>213</td><td>12</td><td>49</td><td>3</td><td>0</td><td>i</td><td>Gold Hotel</td><td>NEM</td></tr>",
                            "<tr><td>236</td><td>15</td><td>6</td><td>3</td><td>1</td><td>n</td><td>Tímárház Panzió</td><td>IGEN</td></tr>",
                            "<tr><td>259</td><td>16</td><td>17</td><td>2</td><td>0</td><td>i</td><td>Bagoly Hotel</td><td>NEM</td></tr>",
                            "<tr><td>267</td><td>17</td><td>5</td><td>2</td><td>1</td><td>n</td><td>Szarvas Hotel</td><td>NEM</td></tr>",
                            "<tr><td>230</td><td>14</td><td>4</td><td>3</td><td>2</td><td>i</td><td>Nyárfás Vendégház</td><td>NEM</td></tr>",
                            "<tr><td>276</td><td>17</td><td>14</td><td>2</td><td>0</td><td>i</td><td>Szarvas Hotel</td><td>NEM</td></tr>",
                            "<tr><td>273</td><td>17</td><td>11</td><td>2</td><td>1</td><td>i</td><td>Szarvas Hotel</td><td>NEM</td></tr>",
                            "<tr><td>250</td><td>16</td><td>8</td><td>3</td><td>1</td><td>n</td><td>Bagoly Hotel</td><td>NEM</td></tr>",
                            "<tr><td>207</td><td>12</td><td>43</td><td>2</td><td>1</td><td>i</td><td>Gold Hotel</td><td>NEM</td></tr>",
                            "<tr><td>256</td><td>16</td><td>14</td><td>3</td><td>1</td><td>i</td><td>Bagoly Hotel</td><td>NEM</td></tr>",
                            "<tr><td>293</td><td>20</td><td>9</td><td>2</td><td>1</td><td>i</td><td>Kollégium</td><td>NEM</td></tr>",
                            "<tr><td>239</td><td>15</td><td>9</td><td>2</td><td>2</td><td>i</td><td>Tímárház Panzió</td><td>IGEN</td></tr>",
                            "<tr><td>216</td><td>13</td><td>2</td><td>3</td><td>1</td><td>i</td><td>Riviéra Panzió</td><td>IGEN</td></tr>",
                            "<tr><td>287</td><td>20</td><td>3</td><td>3</td><td>0</td><td>n</td><td>Kollégium</td><td>NEM</td></tr>",
                            "<tr><td>233</td><td>15</td><td>3</td><td>3</td><td>0</td><td>n</td><td>Tímárház Panzió</td><td>IGEN</td></tr>",
                            "<tr><td>210</td><td>12</td><td>46</td><td>2</td><td>0</td><td>i</td><td>Gold Hotel</td><td>NEM</td></tr>",
                            "<tr><td>279</td><td>18</td><td>2</td><td>2</td><td>1</td><td>i</td><td>Fortuna Apartman</td><td>NEM</td></tr>",
                            "<tr><td>270</td><td>17</td><td>8</td><td>3</td><td>0</td><td>n</td><td>Szarvas Hotel</td><td>NEM</td></tr>",
                            "<tr><td>224</td><td>13</td><td>10</td><td>2</td><td>0</td><td>i</td><td>Riviéra Panzió</td><td>IGEN</td></tr>",
                            "<tr><td>227</td><td>14</td><td>1</td><td>2</td><td>1</td><td>i</td><td>Nyárfás Vendégház</td><td>NEM</td></tr>",
                            "<tr><td>204</td><td>12</td><td>40</td><td>3</td><td>1</td><td>i</td><td>Gold Hotel</td><td>NEM</td></tr>",
                            "<tr><td>253</td><td>16</td><td>11</td><td>2</td><td>0</td><td>i</td><td>Bagoly Hotel</td><td>NEM</td></tr>",
                            "<tr><td>290</td><td>20</td><td>6</td><td>2</td><td>1</td><td>i</td><td>Kollégium</td><td>NEM</td></tr>",
                            "<tr><td>247</td><td>16</td><td>5</td><td>2</td><td>0</td><td>i</td><td>Bagoly Hotel</td><td>NEM</td></tr>",
                            "<tr><td>211</td><td>12</td><td>47</td><td>2</td><td>1</td><td>i</td><td>Gold Hotel</td><td>NEM</td></tr>",
                            "<tr><td>282</td><td>19</td><td>2</td><td>2</td><td>0</td><td>i</td><td>Nyárfás Vendégház</td><td>NEM</td></tr>",
                            "<tr><td>288</td><td>20</td><td>4</td><td>2</td><td>1</td><td>i</td><td>Kollégium</td><td>NEM</td></tr>",
                            "<tr><td>234</td><td>15</td><td>4</td><td>3</td><td>1</td><td>i</td><td>Tímárház Panzió</td><td>IGEN</td></tr>",
                            "<tr><td>219</td><td>13</td><td>5</td><td>2</td><td>0</td><td>n</td><td>Riviéra Panzió</td><td>IGEN</td></tr>",
                            "<tr><td>265</td><td>17</td><td>3</td><td>3</td><td>0</td><td>i</td><td>Szarvas Hotel</td><td>NEM</td></tr>",
                            "<tr><td>271</td><td>17</td><td>9</td><td>3</td><td>0</td><td>i</td><td>Szarvas Hotel</td><td>NEM</td></tr>",
                            "<tr><td>228</td><td>14</td><td>2</td><td>3</td><td>0</td><td>i</td><td>Nyárfás Vendégház</td><td>NEM</td></tr>",
                            "<tr><td>205</td><td>12</td><td>41</td><td>3</td><td>0</td><td>i</td><td>Gold Hotel</td><td>NEM</td></tr>",
                            "<tr><td>291</td><td>20</td><td>7</td><td>2</td><td>1</td><td>i</td><td>Kollégium</td><td>NEM</td></tr>",
                            "<tr><td>242</td><td>15</td><td>12</td><td>2</td><td>1</td><td>i</td><td>Tímárház Panzió</td><td>IGEN</td></tr>",
                            "<tr><td>254</td><td>16</td><td>12</td><td>2</td><td>0</td><td>i</td><td>Bagoly Hotel</td><td>NEM</td></tr>",
                            "<tr><td>199</td><td>12</td><td>35</td><td>3</td><td>2</td><td>i</td><td>Gold Hotel</td><td>NEM</td></tr>",
                            "<tr><td>248</td><td>16</td><td>6</td><td>2</td><td>2</td><td>i</td><td>Bagoly Hotel</td><td>NEM</td></tr>",
                            "<tr><td>285</td><td>20</td><td>1</td><td>2</td><td>1</td><td>i</td><td>Kollégium</td><td>NEM</td></tr>",
                            "<tr><td>262</td><td>16</td><td>20</td><td>1</td><td>0</td><td>n</td><td>Bagoly Hotel</td><td>NEM</td></tr>",
                            "<tr><td>231</td><td>15</td><td>1</td><td>2</td><td>0</td><td>i</td><td>Tímárház Panzió</td><td>IGEN</td></tr>",
                            "<tr><td>268</td><td>17</td><td>6</td><td>2</td><td>2</td><td>n</td><td>Szarvas Hotel</td><td>NEM</td></tr>",
                            "<tr><td>222</td><td>13</td><td>8</td><td>2</td><td>0</td><td>n</td><td>Riviéra Panzió</td><td>IGEN</td></tr>",
                            "<tr><td>202</td><td>12</td><td>38</td><td>3</td><td>1</td><td>i</td><td>Gold Hotel</td><td>NEM</td></tr>",
                            "<tr><td>225</td><td>13</td><td>11</td><td>2</td><td>1</td><td>i</td><td>Riviéra Panzió</td><td>IGEN</td></tr>",
                            "<tr><td>274</td><td>17</td><td>12</td><td>3</td><td>1</td><td>i</td><td>Szarvas Hotel</td><td>NEM</td></tr>",
                            "<tr><td>251</td><td>16</td><td>9</td><td>3</td><td>0</td><td>n</td><td>Bagoly Hotel</td><td>NEM</td></tr>",
                            "<tr><td>159</td><td>10</td><td>25</td><td>3</td><td>1</td><td>n</td><td>Lagúna Hotel</td><td>NEM</td></tr>",
                            "<tr><td>208</td><td>12</td><td>44</td><td>2</td><td>1</td><td>i</td><td>Gold Hotel</td><td>NEM</td></tr>",
                            "<tr><td>294</td><td>20</td><td>10</td><td>3</td><td>0</td><td>i</td><td>Kollégium</td><td>NEM</td></tr>",
                            "<tr><td>245</td><td>16</td><td>3</td><td>2</td><td>1</td><td>i</td><td>Bagoly Hotel</td><td>NEM</td></tr>",
                            "<tr><td>286</td><td>20</td><td>2</td><td>3</td><td>0</td><td>i</td><td>Kollégium</td><td>NEM</td></tr>",
                            "<tr><td>263</td><td>17</td><td>1</td><td>2</td><td>2</td><td>i</td><td>Szarvas Hotel</td><td>NEM</td></tr>",
                            "<tr><td>240</td><td>15</td><td>10</td><td>3</td><td>0</td><td>i</td><td>Tímárház Panzió</td><td>IGEN</td></tr>",
                            "<tr><td>257</td><td>16</td><td>15</td><td>2</td><td>0</td><td>i</td><td>Bagoly Hotel</td><td>NEM</td></tr>",
                            "<tr><td>280</td><td>18</td><td>3</td><td>3</td><td>0</td><td>n</td><td>Fortuna Apartman</td><td>NEM</td></tr>",
                            "<tr><td>217</td><td>13</td><td>3</td><td>2</td><td>1</td><td>n</td><td>Riviéra Panzió</td><td>IGEN</td></tr>",
                            "<tr><td>223</td><td>13</td><td>9</td><td>2</td><td>1</td><td>i</td><td>Riviéra Panzió</td><td>IGEN</td></tr>",
                            "<tr><td>269</td><td>17</td><td>7</td><td>2</td><td>1</td><td>i</td><td>Szarvas Hotel</td><td>NEM</td></tr>",
                            "<tr><td>226</td><td>13</td><td>12</td><td>3</td><td>1</td><td>n</td><td>Riviéra Panzió</td><td>IGEN</td></tr>",
                            "<tr><td>203</td><td>12</td><td>39</td><td>3</td><td>0</td><td>i</td><td>Gold Hotel</td><td>NEM</td></tr>",
                            "<tr><td>289</td><td>20</td><td>5</td><td>3</td><td>0</td><td>i</td><td>Kollégium</td><td>NEM</td></tr>",
                            "<tr><td>246</td><td>16</td><td>4</td><td>2</td><td>0</td><td>i</td><td>Bagoly Hotel</td><td>NEM</td></tr>",
                            "<tr><td>214</td><td>12</td><td>50</td><td>3</td><td>1</td><td>i</td><td>Gold Hotel</td><td>NEM</td></tr>",
                            "<tr><td>237</td><td>15</td><td>7</td><td>2</td><td>2</td><td>n</td><td>Tímárház Panzió</td><td>IGEN</td></tr>",
                            "<tr><td>260</td><td>16</td><td>18</td><td>2</td><td>0</td><td>i</td><td>Bagoly Hotel</td><td>NEM</td></tr>",
                            "<tr><td>283</td><td>19</td><td>3</td><td>2</td><td>0</td><td>n</td><td>Nyárfás Vendégház</td><td>NEM</td></tr>",
                            "<tr><td>220</td><td>13</td><td>6</td><td>3</td><td>0</td><td>i</td><td>Riviéra Panzió</td><td>IGEN</td></tr>",
                            "<tr><td>266</td><td>17</td><td>4</td><td>2</td><td>1</td><td>i</td><td>Szarvas Hotel</td><td>NEM</td></tr>",
                            "<tr><td>277</td><td>17</td><td>15</td><td>2</td><td>0</td><td>i</td><td>Szarvas Hotel</td><td>NEM</td></tr>",
                            "<tr><td>249</td><td>16</td><td>7</td><td>2</td><td>1</td><td>n</td><td>Bagoly Hotel</td><td>NEM</td></tr>",
                            "<tr><td>206</td><td>12</td><td>42</td><td>2</td><td>1</td><td>i</td><td>Gold Hotel</td><td>NEM</td></tr>",
                            "<tr><td>243</td><td>16</td><td>1</td><td>2</td><td>0</td><td>i</td><td>Bagoly Hotel</td><td>NEM</td></tr>",
                            "<tr><td>200</td><td>12</td><td>36</td><td>2</td><td>0</td><td>i</td><td>Gold Hotel</td><td>NEM</td></tr>",
                            "<tr><td>NULL</td><td>NULL</td><td>NULL</td><td>NULL</td><td>NULL</td><td>NULL</td><td>Müller Vendégház</td><td>NEM</td></tr>",
                            "</table>"
                        ]
                    }
                }
            ],
            "execution_count": 32
        }
    ]
}