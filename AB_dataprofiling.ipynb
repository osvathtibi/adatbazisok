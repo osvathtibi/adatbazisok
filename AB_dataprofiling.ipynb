{
    "metadata": {
        "kernelspec": {
            "name": "SQL",
            "display_name": "SQL",
            "language": "sql"
        },
        "language_info": {
            "name": "sql",
            "version": ""
        }
    },
    "nbformat_minor": 2,
    "nbformat": 4,
    "cells": [
        {
            "cell_type": "code",
            "source": [
                "SELECT MAX(len(Oktatok.nev)) as \"Leghosszabb név karakterszáma\", MIN(len(Oktatok.nev)) as \"Legrövidebb név karakterszáma\"\r\n",
                "FROM Oktatok"
            ],
            "metadata": {
                "azdata_cell_guid": "b10d7383-fe11-41ec-9be2-f1d555733579",
                "language": "sql"
            },
            "outputs": [
                {
                    "output_type": "display_data",
                    "data": {
                        "text/html": "(1 row affected)"
                    },
                    "metadata": {}
                },
                {
                    "output_type": "display_data",
                    "data": {
                        "text/html": "Total execution time: 00:00:00.012"
                    },
                    "metadata": {}
                },
                {
                    "output_type": "execute_result",
                    "metadata": {},
                    "execution_count": 7,
                    "data": {
                        "application/vnd.dataresource+json": {
                            "schema": {
                                "fields": [
                                    {
                                        "name": "Leghosszabb név karakterszáma"
                                    },
                                    {
                                        "name": "Legrövidebb név karakterszáma"
                                    }
                                ]
                            },
                            "data": [
                                {
                                    "Leghosszabb név karakterszáma": "18",
                                    "Legrövidebb név karakterszáma": "10"
                                }
                            ]
                        },
                        "text/html": [
                            "<table>",
                            "<tr><th>Leghosszabb név karakterszáma</th><th>Legrövidebb név karakterszáma</th></tr>",
                            "<tr><td>18</td><td>10</td></tr>",
                            "</table>"
                        ]
                    }
                }
            ],
            "execution_count": 7
        },
        {
            "cell_type": "code",
            "source": [
                "SELECT AVG(LEN(Oktatok.nev)) as \"Átlagos név karakterhossza\"\r\n",
                "FROM Oktatok"
            ],
            "metadata": {
                "azdata_cell_guid": "2630561a-65ca-4703-875b-50a9563ccab9",
                "language": "sql"
            },
            "outputs": [
                {
                    "output_type": "display_data",
                    "data": {
                        "text/html": "(1 row affected)"
                    },
                    "metadata": {}
                },
                {
                    "output_type": "display_data",
                    "data": {
                        "text/html": "Total execution time: 00:00:00.025"
                    },
                    "metadata": {}
                },
                {
                    "output_type": "execute_result",
                    "metadata": {},
                    "execution_count": 9,
                    "data": {
                        "application/vnd.dataresource+json": {
                            "schema": {
                                "fields": [
                                    {
                                        "name": "Átlagos név karakterhossza"
                                    }
                                ]
                            },
                            "data": [
                                {
                                    "Átlagos név karakterhossza": "12"
                                }
                            ]
                        },
                        "text/html": [
                            "<table>",
                            "<tr><th>Átlagos név karakterhossza</th></tr>",
                            "<tr><td>12</td></tr>",
                            "</table>"
                        ]
                    }
                }
            ],
            "execution_count": 9
        },
        {
            "cell_type": "code",
            "source": [
                "SELECT LEN(Oktatok.nev) AS \"Név hossza\",\r\n",
                "       count(*) AS \"Darabszám\"\r\n",
                "FROM Oktatok\r\n",
                "GROUP BY LEN(Oktatok.nev)\r\n",
                "ORDER BY 1"
            ],
            "metadata": {
                "azdata_cell_guid": "ba707897-dd2b-4189-8e2d-76d17b1eedd5",
                "language": "sql"
            },
            "outputs": [
                {
                    "output_type": "display_data",
                    "data": {
                        "text/html": "(7 rows affected)"
                    },
                    "metadata": {}
                },
                {
                    "output_type": "display_data",
                    "data": {
                        "text/html": "Total execution time: 00:00:00.029"
                    },
                    "metadata": {}
                },
                {
                    "output_type": "execute_result",
                    "metadata": {},
                    "execution_count": 11,
                    "data": {
                        "application/vnd.dataresource+json": {
                            "schema": {
                                "fields": [
                                    {
                                        "name": "Név hossza"
                                    },
                                    {
                                        "name": "Darabszám"
                                    }
                                ]
                            },
                            "data": [
                                {
                                    "Név hossza": "10",
                                    "Darabszám": "2"
                                },
                                {
                                    "Név hossza": "11",
                                    "Darabszám": "6"
                                },
                                {
                                    "Név hossza": "12",
                                    "Darabszám": "5"
                                },
                                {
                                    "Név hossza": "13",
                                    "Darabszám": "7"
                                },
                                {
                                    "Név hossza": "14",
                                    "Darabszám": "1"
                                },
                                {
                                    "Név hossza": "16",
                                    "Darabszám": "3"
                                },
                                {
                                    "Név hossza": "18",
                                    "Darabszám": "1"
                                }
                            ]
                        },
                        "text/html": [
                            "<table>",
                            "<tr><th>Név hossza</th><th>Darabszám</th></tr>",
                            "<tr><td>10</td><td>2</td></tr>",
                            "<tr><td>11</td><td>6</td></tr>",
                            "<tr><td>12</td><td>5</td></tr>",
                            "<tr><td>13</td><td>7</td></tr>",
                            "<tr><td>14</td><td>1</td></tr>",
                            "<tr><td>16</td><td>3</td></tr>",
                            "<tr><td>18</td><td>1</td></tr>",
                            "</table>"
                        ]
                    }
                }
            ],
            "execution_count": 11
        }
    ]
}