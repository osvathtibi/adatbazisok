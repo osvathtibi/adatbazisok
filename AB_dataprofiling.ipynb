{
    "metadata": {
        "kernelspec": {
            "name": "SQL",
            "display_name": "SQL",
            "language": "sql"
        },
        "language_info": {
            "name": "sql",
            "version": ""
        }
    },
    "nbformat_minor": 2,
    "nbformat": 4,
    "cells": [
        {
            "cell_type": "code",
            "source": [
                "SELECT MAX(len(nev)) as \"Leghosszabb név karakterszáma\", MIN(len(nev)) as \"Legrövidebb név karakterszáma\"\r\n",
                "FROM Oktatok"
            ],
            "metadata": {
                "azdata_cell_guid": "b10d7383-fe11-41ec-9be2-f1d555733579",
                "language": "sql"
            },
            "outputs": [
                {
                    "output_type": "display_data",
                    "data": {
                        "text/html": "(1 row affected)"
                    },
                    "metadata": {}
                },
                {
                    "output_type": "display_data",
                    "data": {
                        "text/html": "Total execution time: 00:00:00.012"
                    },
                    "metadata": {}
                },
                {
                    "output_type": "execute_result",
                    "metadata": {},
                    "execution_count": 33,
                    "data": {
                        "application/vnd.dataresource+json": {
                            "schema": {
                                "fields": [
                                    {
                                        "name": "Leghosszabb név karakterszáma"
                                    },
                                    {
                                        "name": "Legrövidebb név karakterszáma"
                                    }
                                ]
                            },
                            "data": [
                                {
                                    "Leghosszabb név karakterszáma": "18",
                                    "Legrövidebb név karakterszáma": "10"
                                }
                            ]
                        },
                        "text/html": [
                            "<table>",
                            "<tr><th>Leghosszabb név karakterszáma</th><th>Legrövidebb név karakterszáma</th></tr>",
                            "<tr><td>18</td><td>10</td></tr>",
                            "</table>"
                        ]
                    }
                }
            ],
            "execution_count": 33
        },
        {
            "cell_type": "code",
            "source": [
                "SELECT AVG(LEN(nev)) as \"Átlagos név karakterhossza\"\r\n",
                "FROM Oktatok\r\n",
                "WHERE nev IS NOT NULL"
            ],
            "metadata": {
                "azdata_cell_guid": "2630561a-65ca-4703-875b-50a9563ccab9",
                "language": "sql"
            },
            "outputs": [
                {
                    "output_type": "display_data",
                    "data": {
                        "text/html": "(1 row affected)"
                    },
                    "metadata": {}
                },
                {
                    "output_type": "display_data",
                    "data": {
                        "text/html": "Total execution time: 00:00:00.009"
                    },
                    "metadata": {}
                },
                {
                    "output_type": "execute_result",
                    "metadata": {},
                    "execution_count": 32,
                    "data": {
                        "application/vnd.dataresource+json": {
                            "schema": {
                                "fields": [
                                    {
                                        "name": "Átlagos név karakterhossza"
                                    }
                                ]
                            },
                            "data": [
                                {
                                    "Átlagos név karakterhossza": "12"
                                }
                            ]
                        },
                        "text/html": [
                            "<table>",
                            "<tr><th>Átlagos név karakterhossza</th></tr>",
                            "<tr><td>12</td></tr>",
                            "</table>"
                        ]
                    }
                }
            ],
            "execution_count": 32
        },
        {
            "cell_type": "code",
            "source": [
                "SELECT TOP 1 (titulus) as \"Leggyakoribb titulusnév\", COUNT(titulus) as \"Darabszám\"\r\n",
                "FROM Oktatok\r\n",
                "WHERE titulus IS NOT NULL\r\n",
                "GROUP BY titulus\r\n",
                ""
            ],
            "metadata": {
                "azdata_cell_guid": "6a242a9e-8be4-44c5-af20-abadf48e84f1",
                "language": "sql"
            },
            "outputs": [
                {
                    "output_type": "display_data",
                    "data": {
                        "text/html": "(1 row affected)"
                    },
                    "metadata": {}
                },
                {
                    "output_type": "display_data",
                    "data": {
                        "text/html": "Total execution time: 00:00:00.026"
                    },
                    "metadata": {}
                },
                {
                    "output_type": "execute_result",
                    "metadata": {},
                    "execution_count": 28,
                    "data": {
                        "application/vnd.dataresource+json": {
                            "schema": {
                                "fields": [
                                    {
                                        "name": "Leggyakoribb titulusnév"
                                    },
                                    {
                                        "name": "Darabszám"
                                    }
                                ]
                            },
                            "data": [
                                {
                                    "Leggyakoribb titulusnév": "Dr.",
                                    "Darabszám": "8"
                                }
                            ]
                        },
                        "text/html": [
                            "<table>",
                            "<tr><th>Leggyakoribb titulusnév</th><th>Darabszám</th></tr>",
                            "<tr><td>Dr.</td><td>8</td></tr>",
                            "</table>"
                        ]
                    }
                }
            ],
            "execution_count": 28
        },
        {
            "cell_type": "code",
            "source": [
                "SELECT LEN(nev) AS \"Név hossza\",\r\n",
                "       count(*) AS \"Darabszám\"\r\n",
                "FROM Oktatok\r\n",
                "WHERE nev IS NOT NULL\r\n",
                "GROUP BY LEN(nev)\r\n",
                "ORDER BY 1"
            ],
            "metadata": {
                "azdata_cell_guid": "ba707897-dd2b-4189-8e2d-76d17b1eedd5",
                "language": "sql"
            },
            "outputs": [
                {
                    "output_type": "display_data",
                    "data": {
                        "text/html": "(7 rows affected)"
                    },
                    "metadata": {}
                },
                {
                    "output_type": "display_data",
                    "data": {
                        "text/html": "Total execution time: 00:00:00.028"
                    },
                    "metadata": {}
                },
                {
                    "output_type": "execute_result",
                    "metadata": {},
                    "execution_count": 30,
                    "data": {
                        "application/vnd.dataresource+json": {
                            "schema": {
                                "fields": [
                                    {
                                        "name": "Név hossza"
                                    },
                                    {
                                        "name": "Darabszám"
                                    }
                                ]
                            },
                            "data": [
                                {
                                    "Név hossza": "10",
                                    "Darabszám": "2"
                                },
                                {
                                    "Név hossza": "11",
                                    "Darabszám": "6"
                                },
                                {
                                    "Név hossza": "12",
                                    "Darabszám": "5"
                                },
                                {
                                    "Név hossza": "13",
                                    "Darabszám": "7"
                                },
                                {
                                    "Név hossza": "14",
                                    "Darabszám": "1"
                                },
                                {
                                    "Név hossza": "16",
                                    "Darabszám": "3"
                                },
                                {
                                    "Név hossza": "18",
                                    "Darabszám": "1"
                                }
                            ]
                        },
                        "text/html": [
                            "<table>",
                            "<tr><th>Név hossza</th><th>Darabszám</th></tr>",
                            "<tr><td>10</td><td>2</td></tr>",
                            "<tr><td>11</td><td>6</td></tr>",
                            "<tr><td>12</td><td>5</td></tr>",
                            "<tr><td>13</td><td>7</td></tr>",
                            "<tr><td>14</td><td>1</td></tr>",
                            "<tr><td>16</td><td>3</td></tr>",
                            "<tr><td>18</td><td>1</td></tr>",
                            "</table>"
                        ]
                    }
                }
            ],
            "execution_count": 30
        },
        {
            "cell_type": "code",
            "source": [
                "SELECT ROUND(AVG(Kredit),0)\r\n",
                "FROM Tantárgyak\r\n",
                "WHERE Kredit is NOT NULL"
            ],
            "metadata": {
                "azdata_cell_guid": "55321de0-0270-425f-9da3-2e1d91529715",
                "language": "sql"
            },
            "outputs": [
                {
                    "output_type": "display_data",
                    "data": {
                        "text/html": "(1 row affected)"
                    },
                    "metadata": {}
                },
                {
                    "output_type": "display_data",
                    "data": {
                        "text/html": "Total execution time: 00:00:00.007"
                    },
                    "metadata": {}
                },
                {
                    "output_type": "execute_result",
                    "metadata": {},
                    "execution_count": 11,
                    "data": {
                        "application/vnd.dataresource+json": {
                            "schema": {
                                "fields": [
                                    {
                                        "name": "(No column name)"
                                    }
                                ]
                            },
                            "data": [
                                {
                                    "(No column name)": "2"
                                }
                            ]
                        },
                        "text/html": [
                            "<table>",
                            "<tr><th>(No column name)</th></tr>",
                            "<tr><td>2</td></tr>",
                            "</table>"
                        ]
                    }
                }
            ],
            "execution_count": 11
        },
        {
            "cell_type": "code",
            "source": [
                "SELECT Tantárgynév, Tantárgyfelelős, Kredit\r\n",
                "FROM Tantárgyak\r\n",
                "WHERE Kredit >= 6 OR Kredit <=2\r\n",
                "ORDER BY Kredit DESC"
            ],
            "metadata": {
                "azdata_cell_guid": "1e791337-5da7-4091-86de-e219c02e1eff",
                "language": "sql"
            },
            "outputs": [
                {
                    "output_type": "display_data",
                    "data": {
                        "text/html": "(7 rows affected)"
                    },
                    "metadata": {}
                },
                {
                    "output_type": "display_data",
                    "data": {
                        "text/html": "Total execution time: 00:00:00.012"
                    },
                    "metadata": {}
                },
                {
                    "output_type": "execute_result",
                    "metadata": {},
                    "execution_count": 19,
                    "data": {
                        "application/vnd.dataresource+json": {
                            "schema": {
                                "fields": [
                                    {
                                        "name": "Tantárgynév"
                                    },
                                    {
                                        "name": "Tantárgyfelelős"
                                    },
                                    {
                                        "name": "Kredit"
                                    }
                                ]
                            },
                            "data": [
                                {
                                    "Tantárgynév": "Ürgevitel",
                                    "Tantárgyfelelős": "10",
                                    "Kredit": "6"
                                },
                                {
                                    "Tantárgynév": "ü-business",
                                    "Tantárgyfelelős": "1",
                                    "Kredit": "2"
                                },
                                {
                                    "Tantárgynév": "Az ürgeöntés alapjai",
                                    "Tantárgyfelelős": "5",
                                    "Kredit": "2"
                                },
                                {
                                    "Tantárgynév": "Az ürgeöntés hydrológiai alapjai I.",
                                    "Tantárgyfelelős": "4",
                                    "Kredit": "2"
                                },
                                {
                                    "Tantárgynév": "Folyami gáttan",
                                    "Tantárgyfelelős": "12",
                                    "Kredit": "2"
                                },
                                {
                                    "Tantárgynév": "Ürgeöntés az EU-ban",
                                    "Tantárgyfelelős": "8",
                                    "Kredit": "1"
                                },
                                {
                                    "Tantárgynév": "Öntési gyakorlat",
                                    "Tantárgyfelelős": "8",
                                    "Kredit": "1"
                                }
                            ]
                        },
                        "text/html": [
                            "<table>",
                            "<tr><th>Tantárgynév</th><th>Tantárgyfelelős</th><th>Kredit</th></tr>",
                            "<tr><td>Ürgevitel</td><td>10</td><td>6</td></tr>",
                            "<tr><td>ü-business</td><td>1</td><td>2</td></tr>",
                            "<tr><td>Az ürgeöntés alapjai</td><td>5</td><td>2</td></tr>",
                            "<tr><td>Az ürgeöntés hydrológiai alapjai I.</td><td>4</td><td>2</td></tr>",
                            "<tr><td>Folyami gáttan</td><td>12</td><td>2</td></tr>",
                            "<tr><td>Ürgeöntés az EU-ban</td><td>8</td><td>1</td></tr>",
                            "<tr><td>Öntési gyakorlat</td><td>8</td><td>1</td></tr>",
                            "</table>"
                        ]
                    }
                }
            ],
            "execution_count": 19
        },
        {
            "cell_type": "code",
            "source": [
                "SELECT Tantárgyak.Tantárgyfelelős, Oktatok.nev, COUNT(*)\r\n",
                "FROM Tantárgyak JOIN Oktatok ON Tantárgyak.Tantárgyfelelős = Oktatok.oktato_id\r\n",
                "GROUP BY Tantárgyak.Tantárgyfelelős, Oktatok.nev\r\n",
                "HAVING COUNT(*) > 1\r\n",
                "ORDER BY 3 DESC"
            ],
            "metadata": {
                "azdata_cell_guid": "47bb61d4-5eeb-47e0-861e-f36f1186d76b",
                "language": "sql"
            },
            "outputs": [
{
    "output_type": "display_data",
    "data": {
        "text/html": "(3 rows affected)"
    },
    "metadata": {}
}, {
    "output_type": "display_data",
    "data": {
        "text/html": "Total execution time: 00:00:00.007"
    },
    "metadata": {}
}, {
    "output_type": "execute_result",
    "metadata": {},
    "execution_count": 47,
    "data": {
        "application/vnd.dataresource+json": {
            "schema": {
                "fields": [
                    {
                        "name": "Tantárgyfelelős"
                    },
                    {
                        "name": "nev"
                    },
                    {
                        "name": "(No column name)"
                    }
                ]
            },
            "data": [
                {
                    "Tantárgyfelelős": "1",
                    "nev": "Kovács László",
                    "(No column name)": "4"
                },
                {
                    "Tantárgyfelelős": "5",
                    "nev": "Balkán András",
                    "(No column name)": "3"
                },
                {
                    "Tantárgyfelelős": "8",
                    "nev": "Pelikán József",
                    "(No column name)": "3"
                }
            ]
        },
        "text/html": [
            "<table>",
            "<tr><th>Tantárgyfelelős</th><th>nev</th><th>(No column name)</th></tr>",
            "<tr><td>1</td><td>Kovács László</td><td>4</td></tr>",
            "<tr><td>5</td><td>Balkán András</td><td>3</td></tr>",
            "<tr><td>8</td><td>Pelikán József</td><td>3</td></tr>",
            "</table>"
        ]
    }
}
],
            "execution_count": 47
        }
    ]
}