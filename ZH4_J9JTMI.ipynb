{
    "metadata": {
        "kernelspec": {
            "name": "SQL",
            "display_name": "SQL",
            "language": "sql"
        },
        "language_info": {
            "name": "sql",
            "version": ""
        }
    },
    "nbformat_minor": 2,
    "nbformat": 4,
    "cells": [
        {
            "cell_type": "markdown",
            "source": [
                "Jelenítsük meg minden egyes szoba esetén, hogy hányszor foglalták le!\n",
                "\n",
                "- Csak a szoba azonosítója és a foglalások darabszáma jelenjen meg\n",
                "- Azok a szobák is jelenjenek meg, ahol nem történt foglalás"
            ],
            "metadata": {
                "azdata_cell_guid": "eb73679b-37c5-422b-a9a1-1e2e94c67ee4"
            },
            "attachments": {}
        },
        {
            "cell_type": "code",
            "source": [
                "SELECT sz.SZOBA_ID, COUNT(f.SZOBA_FK) AS \"Reservations\"\r\n",
                "FROM Szoba sz JOIN Foglalas f ON sz.SZOBA_ID = f.SZOBA_FK\r\n",
                "GROUP BY sz.SZOBA_ID"
            ],
            "metadata": {
                "azdata_cell_guid": "92ad9e92-56bf-478e-af0c-c9964c33bab2",
                "language": "sql",
                "tags": []
            },
            "outputs": [
                {
                    "output_type": "display_data",
                    "data": {
                        "text/html": "(197 rows affected)"
                    },
                    "metadata": {}
                },
                {
                    "output_type": "display_data",
                    "data": {
                        "text/html": "Total execution time: 00:00:00.012"
                    },
                    "metadata": {}
                },
                {
                    "output_type": "execute_result",
                    "execution_count": 19,
                    "data": {
                        "application/vnd.dataresource+json": {
                            "schema": {
                                "fields": [
                                    {
                                        "name": "SZOBA_ID"
                                    },
                                    {
                                        "name": "Reservations"
                                    }
                                ]
                            },
                            "data": [
                                {
                                    "SZOBA_ID": "1",
                                    "Reservations": "8"
                                },
                                {
                                    "SZOBA_ID": "2",
                                    "Reservations": "4"
                                },
                                {
                                    "SZOBA_ID": "3",
                                    "Reservations": "8"
                                },
                                {
                                    "SZOBA_ID": "4",
                                    "Reservations": "6"
                                },
                                {
                                    "SZOBA_ID": "5",
                                    "Reservations": "4"
                                },
                                {
                                    "SZOBA_ID": "6",
                                    "Reservations": "6"
                                },
                                {
                                    "SZOBA_ID": "7",
                                    "Reservations": "6"
                                },
                                {
                                    "SZOBA_ID": "8",
                                    "Reservations": "5"
                                },
                                {
                                    "SZOBA_ID": "9",
                                    "Reservations": "6"
                                },
                                {
                                    "SZOBA_ID": "10",
                                    "Reservations": "4"
                                },
                                {
                                    "SZOBA_ID": "11",
                                    "Reservations": "4"
                                },
                                {
                                    "SZOBA_ID": "12",
                                    "Reservations": "9"
                                },
                                {
                                    "SZOBA_ID": "13",
                                    "Reservations": "4"
                                },
                                {
                                    "SZOBA_ID": "14",
                                    "Reservations": "3"
                                },
                                {
                                    "SZOBA_ID": "15",
                                    "Reservations": "6"
                                },
                                {
                                    "SZOBA_ID": "16",
                                    "Reservations": "5"
                                },
                                {
                                    "SZOBA_ID": "17",
                                    "Reservations": "6"
                                },
                                {
                                    "SZOBA_ID": "18",
                                    "Reservations": "6"
                                },
                                {
                                    "SZOBA_ID": "19",
                                    "Reservations": "6"
                                },
                                {
                                    "SZOBA_ID": "20",
                                    "Reservations": "5"
                                },
                                {
                                    "SZOBA_ID": "21",
                                    "Reservations": "4"
                                },
                                {
                                    "SZOBA_ID": "22",
                                    "Reservations": "6"
                                },
                                {
                                    "SZOBA_ID": "23",
                                    "Reservations": "3"
                                },
                                {
                                    "SZOBA_ID": "24",
                                    "Reservations": "3"
                                },
                                {
                                    "SZOBA_ID": "25",
                                    "Reservations": "2"
                                },
                                {
                                    "SZOBA_ID": "26",
                                    "Reservations": "2"
                                },
                                {
                                    "SZOBA_ID": "27",
                                    "Reservations": "7"
                                },
                                {
                                    "SZOBA_ID": "28",
                                    "Reservations": "6"
                                },
                                {
                                    "SZOBA_ID": "29",
                                    "Reservations": "6"
                                },
                                {
                                    "SZOBA_ID": "30",
                                    "Reservations": "3"
                                },
                                {
                                    "SZOBA_ID": "31",
                                    "Reservations": "3"
                                },
                                {
                                    "SZOBA_ID": "32",
                                    "Reservations": "1"
                                },
                                {
                                    "SZOBA_ID": "33",
                                    "Reservations": "6"
                                },
                                {
                                    "SZOBA_ID": "34",
                                    "Reservations": "4"
                                },
                                {
                                    "SZOBA_ID": "35",
                                    "Reservations": "9"
                                },
                                {
                                    "SZOBA_ID": "36",
                                    "Reservations": "6"
                                },
                                {
                                    "SZOBA_ID": "37",
                                    "Reservations": "3"
                                },
                                {
                                    "SZOBA_ID": "38",
                                    "Reservations": "8"
                                },
                                {
                                    "SZOBA_ID": "39",
                                    "Reservations": "7"
                                },
                                {
                                    "SZOBA_ID": "40",
                                    "Reservations": "4"
                                },
                                {
                                    "SZOBA_ID": "41",
                                    "Reservations": "2"
                                },
                                {
                                    "SZOBA_ID": "42",
                                    "Reservations": "6"
                                },
                                {
                                    "SZOBA_ID": "43",
                                    "Reservations": "8"
                                },
                                {
                                    "SZOBA_ID": "44",
                                    "Reservations": "6"
                                },
                                {
                                    "SZOBA_ID": "45",
                                    "Reservations": "5"
                                },
                                {
                                    "SZOBA_ID": "46",
                                    "Reservations": "4"
                                },
                                {
                                    "SZOBA_ID": "47",
                                    "Reservations": "2"
                                },
                                {
                                    "SZOBA_ID": "48",
                                    "Reservations": "9"
                                },
                                {
                                    "SZOBA_ID": "49",
                                    "Reservations": "7"
                                },
                                {
                                    "SZOBA_ID": "50",
                                    "Reservations": "4"
                                },
                                {
                                    "SZOBA_ID": "51",
                                    "Reservations": "5"
                                },
                                {
                                    "SZOBA_ID": "52",
                                    "Reservations": "5"
                                },
                                {
                                    "SZOBA_ID": "53",
                                    "Reservations": "2"
                                },
                                {
                                    "SZOBA_ID": "54",
                                    "Reservations": "6"
                                },
                                {
                                    "SZOBA_ID": "55",
                                    "Reservations": "8"
                                },
                                {
                                    "SZOBA_ID": "56",
                                    "Reservations": "2"
                                },
                                {
                                    "SZOBA_ID": "57",
                                    "Reservations": "4"
                                },
                                {
                                    "SZOBA_ID": "58",
                                    "Reservations": "13"
                                },
                                {
                                    "SZOBA_ID": "59",
                                    "Reservations": "7"
                                },
                                {
                                    "SZOBA_ID": "60",
                                    "Reservations": "1"
                                },
                                {
                                    "SZOBA_ID": "61",
                                    "Reservations": "5"
                                },
                                {
                                    "SZOBA_ID": "62",
                                    "Reservations": "5"
                                },
                                {
                                    "SZOBA_ID": "63",
                                    "Reservations": "4"
                                },
                                {
                                    "SZOBA_ID": "64",
                                    "Reservations": "6"
                                },
                                {
                                    "SZOBA_ID": "65",
                                    "Reservations": "1"
                                },
                                {
                                    "SZOBA_ID": "66",
                                    "Reservations": "4"
                                },
                                {
                                    "SZOBA_ID": "67",
                                    "Reservations": "6"
                                },
                                {
                                    "SZOBA_ID": "68",
                                    "Reservations": "3"
                                },
                                {
                                    "SZOBA_ID": "69",
                                    "Reservations": "4"
                                },
                                {
                                    "SZOBA_ID": "70",
                                    "Reservations": "11"
                                },
                                {
                                    "SZOBA_ID": "71",
                                    "Reservations": "3"
                                },
                                {
                                    "SZOBA_ID": "72",
                                    "Reservations": "4"
                                },
                                {
                                    "SZOBA_ID": "73",
                                    "Reservations": "4"
                                },
                                {
                                    "SZOBA_ID": "74",
                                    "Reservations": "9"
                                },
                                {
                                    "SZOBA_ID": "75",
                                    "Reservations": "3"
                                },
                                {
                                    "SZOBA_ID": "76",
                                    "Reservations": "3"
                                },
                                {
                                    "SZOBA_ID": "77",
                                    "Reservations": "6"
                                },
                                {
                                    "SZOBA_ID": "78",
                                    "Reservations": "6"
                                },
                                {
                                    "SZOBA_ID": "79",
                                    "Reservations": "5"
                                },
                                {
                                    "SZOBA_ID": "80",
                                    "Reservations": "7"
                                },
                                {
                                    "SZOBA_ID": "81",
                                    "Reservations": "5"
                                },
                                {
                                    "SZOBA_ID": "82",
                                    "Reservations": "6"
                                },
                                {
                                    "SZOBA_ID": "83",
                                    "Reservations": "8"
                                },
                                {
                                    "SZOBA_ID": "84",
                                    "Reservations": "4"
                                },
                                {
                                    "SZOBA_ID": "85",
                                    "Reservations": "4"
                                },
                                {
                                    "SZOBA_ID": "86",
                                    "Reservations": "5"
                                },
                                {
                                    "SZOBA_ID": "87",
                                    "Reservations": "5"
                                },
                                {
                                    "SZOBA_ID": "88",
                                    "Reservations": "8"
                                },
                                {
                                    "SZOBA_ID": "89",
                                    "Reservations": "8"
                                },
                                {
                                    "SZOBA_ID": "90",
                                    "Reservations": "4"
                                },
                                {
                                    "SZOBA_ID": "91",
                                    "Reservations": "4"
                                },
                                {
                                    "SZOBA_ID": "92",
                                    "Reservations": "6"
                                },
                                {
                                    "SZOBA_ID": "93",
                                    "Reservations": "5"
                                },
                                {
                                    "SZOBA_ID": "94",
                                    "Reservations": "10"
                                },
                                {
                                    "SZOBA_ID": "95",
                                    "Reservations": "4"
                                },
                                {
                                    "SZOBA_ID": "96",
                                    "Reservations": "7"
                                },
                                {
                                    "SZOBA_ID": "97",
                                    "Reservations": "7"
                                },
                                {
                                    "SZOBA_ID": "98",
                                    "Reservations": "4"
                                },
                                {
                                    "SZOBA_ID": "99",
                                    "Reservations": "5"
                                },
                                {
                                    "SZOBA_ID": "100",
                                    "Reservations": "4"
                                },
                                {
                                    "SZOBA_ID": "101",
                                    "Reservations": "3"
                                },
                                {
                                    "SZOBA_ID": "102",
                                    "Reservations": "2"
                                },
                                {
                                    "SZOBA_ID": "103",
                                    "Reservations": "4"
                                },
                                {
                                    "SZOBA_ID": "104",
                                    "Reservations": "4"
                                },
                                {
                                    "SZOBA_ID": "105",
                                    "Reservations": "2"
                                },
                                {
                                    "SZOBA_ID": "106",
                                    "Reservations": "6"
                                },
                                {
                                    "SZOBA_ID": "107",
                                    "Reservations": "5"
                                },
                                {
                                    "SZOBA_ID": "108",
                                    "Reservations": "2"
                                },
                                {
                                    "SZOBA_ID": "109",
                                    "Reservations": "7"
                                },
                                {
                                    "SZOBA_ID": "110",
                                    "Reservations": "8"
                                },
                                {
                                    "SZOBA_ID": "111",
                                    "Reservations": "5"
                                },
                                {
                                    "SZOBA_ID": "112",
                                    "Reservations": "5"
                                },
                                {
                                    "SZOBA_ID": "113",
                                    "Reservations": "5"
                                },
                                {
                                    "SZOBA_ID": "114",
                                    "Reservations": "4"
                                },
                                {
                                    "SZOBA_ID": "115",
                                    "Reservations": "7"
                                },
                                {
                                    "SZOBA_ID": "116",
                                    "Reservations": "2"
                                },
                                {
                                    "SZOBA_ID": "117",
                                    "Reservations": "8"
                                },
                                {
                                    "SZOBA_ID": "118",
                                    "Reservations": "7"
                                },
                                {
                                    "SZOBA_ID": "119",
                                    "Reservations": "5"
                                },
                                {
                                    "SZOBA_ID": "120",
                                    "Reservations": "6"
                                },
                                {
                                    "SZOBA_ID": "121",
                                    "Reservations": "8"
                                },
                                {
                                    "SZOBA_ID": "122",
                                    "Reservations": "9"
                                },
                                {
                                    "SZOBA_ID": "123",
                                    "Reservations": "5"
                                },
                                {
                                    "SZOBA_ID": "124",
                                    "Reservations": "6"
                                },
                                {
                                    "SZOBA_ID": "125",
                                    "Reservations": "1"
                                },
                                {
                                    "SZOBA_ID": "126",
                                    "Reservations": "6"
                                },
                                {
                                    "SZOBA_ID": "127",
                                    "Reservations": "7"
                                },
                                {
                                    "SZOBA_ID": "128",
                                    "Reservations": "5"
                                },
                                {
                                    "SZOBA_ID": "129",
                                    "Reservations": "4"
                                },
                                {
                                    "SZOBA_ID": "130",
                                    "Reservations": "6"
                                },
                                {
                                    "SZOBA_ID": "131",
                                    "Reservations": "5"
                                },
                                {
                                    "SZOBA_ID": "132",
                                    "Reservations": "6"
                                },
                                {
                                    "SZOBA_ID": "133",
                                    "Reservations": "6"
                                },
                                {
                                    "SZOBA_ID": "134",
                                    "Reservations": "6"
                                },
                                {
                                    "SZOBA_ID": "135",
                                    "Reservations": "3"
                                },
                                {
                                    "SZOBA_ID": "136",
                                    "Reservations": "3"
                                },
                                {
                                    "SZOBA_ID": "137",
                                    "Reservations": "6"
                                },
                                {
                                    "SZOBA_ID": "138",
                                    "Reservations": "7"
                                },
                                {
                                    "SZOBA_ID": "139",
                                    "Reservations": "7"
                                },
                                {
                                    "SZOBA_ID": "140",
                                    "Reservations": "8"
                                },
                                {
                                    "SZOBA_ID": "141",
                                    "Reservations": "6"
                                },
                                {
                                    "SZOBA_ID": "142",
                                    "Reservations": "2"
                                },
                                {
                                    "SZOBA_ID": "143",
                                    "Reservations": "7"
                                },
                                {
                                    "SZOBA_ID": "144",
                                    "Reservations": "5"
                                },
                                {
                                    "SZOBA_ID": "145",
                                    "Reservations": "6"
                                },
                                {
                                    "SZOBA_ID": "146",
                                    "Reservations": "6"
                                },
                                {
                                    "SZOBA_ID": "147",
                                    "Reservations": "1"
                                },
                                {
                                    "SZOBA_ID": "148",
                                    "Reservations": "6"
                                },
                                {
                                    "SZOBA_ID": "149",
                                    "Reservations": "7"
                                },
                                {
                                    "SZOBA_ID": "150",
                                    "Reservations": "6"
                                },
                                {
                                    "SZOBA_ID": "151",
                                    "Reservations": "3"
                                },
                                {
                                    "SZOBA_ID": "152",
                                    "Reservations": "4"
                                },
                                {
                                    "SZOBA_ID": "153",
                                    "Reservations": "5"
                                },
                                {
                                    "SZOBA_ID": "154",
                                    "Reservations": "5"
                                },
                                {
                                    "SZOBA_ID": "155",
                                    "Reservations": "5"
                                },
                                {
                                    "SZOBA_ID": "156",
                                    "Reservations": "7"
                                },
                                {
                                    "SZOBA_ID": "157",
                                    "Reservations": "5"
                                },
                                {
                                    "SZOBA_ID": "158",
                                    "Reservations": "3"
                                },
                                {
                                    "SZOBA_ID": "160",
                                    "Reservations": "5"
                                },
                                {
                                    "SZOBA_ID": "161",
                                    "Reservations": "6"
                                },
                                {
                                    "SZOBA_ID": "162",
                                    "Reservations": "3"
                                },
                                {
                                    "SZOBA_ID": "163",
                                    "Reservations": "7"
                                },
                                {
                                    "SZOBA_ID": "164",
                                    "Reservations": "5"
                                },
                                {
                                    "SZOBA_ID": "165",
                                    "Reservations": "7"
                                },
                                {
                                    "SZOBA_ID": "166",
                                    "Reservations": "3"
                                },
                                {
                                    "SZOBA_ID": "167",
                                    "Reservations": "2"
                                },
                                {
                                    "SZOBA_ID": "168",
                                    "Reservations": "5"
                                },
                                {
                                    "SZOBA_ID": "169",
                                    "Reservations": "6"
                                },
                                {
                                    "SZOBA_ID": "170",
                                    "Reservations": "5"
                                },
                                {
                                    "SZOBA_ID": "171",
                                    "Reservations": "5"
                                },
                                {
                                    "SZOBA_ID": "172",
                                    "Reservations": "9"
                                },
                                {
                                    "SZOBA_ID": "173",
                                    "Reservations": "4"
                                },
                                {
                                    "SZOBA_ID": "174",
                                    "Reservations": "4"
                                },
                                {
                                    "SZOBA_ID": "175",
                                    "Reservations": "5"
                                },
                                {
                                    "SZOBA_ID": "176",
                                    "Reservations": "6"
                                },
                                {
                                    "SZOBA_ID": "177",
                                    "Reservations": "4"
                                },
                                {
                                    "SZOBA_ID": "178",
                                    "Reservations": "4"
                                },
                                {
                                    "SZOBA_ID": "179",
                                    "Reservations": "3"
                                },
                                {
                                    "SZOBA_ID": "180",
                                    "Reservations": "3"
                                },
                                {
                                    "SZOBA_ID": "181",
                                    "Reservations": "6"
                                },
                                {
                                    "SZOBA_ID": "182",
                                    "Reservations": "12"
                                },
                                {
                                    "SZOBA_ID": "183",
                                    "Reservations": "4"
                                },
                                {
                                    "SZOBA_ID": "184",
                                    "Reservations": "4"
                                },
                                {
                                    "SZOBA_ID": "185",
                                    "Reservations": "12"
                                },
                                {
                                    "SZOBA_ID": "186",
                                    "Reservations": "4"
                                },
                                {
                                    "SZOBA_ID": "187",
                                    "Reservations": "7"
                                },
                                {
                                    "SZOBA_ID": "188",
                                    "Reservations": "6"
                                },
                                {
                                    "SZOBA_ID": "189",
                                    "Reservations": "5"
                                },
                                {
                                    "SZOBA_ID": "190",
                                    "Reservations": "5"
                                },
                                {
                                    "SZOBA_ID": "191",
                                    "Reservations": "5"
                                },
                                {
                                    "SZOBA_ID": "192",
                                    "Reservations": "2"
                                },
                                {
                                    "SZOBA_ID": "193",
                                    "Reservations": "7"
                                },
                                {
                                    "SZOBA_ID": "194",
                                    "Reservations": "1"
                                },
                                {
                                    "SZOBA_ID": "195",
                                    "Reservations": "6"
                                },
                                {
                                    "SZOBA_ID": "196",
                                    "Reservations": "4"
                                },
                                {
                                    "SZOBA_ID": "197",
                                    "Reservations": "6"
                                },
                                {
                                    "SZOBA_ID": "198",
                                    "Reservations": "8"
                                }
                            ]
                        },
                        "text/html": "<table><tr><th>SZOBA_ID</th><th>Reservations</th></tr><tr><td>1</td><td>8</td></tr><tr><td>2</td><td>4</td></tr><tr><td>3</td><td>8</td></tr><tr><td>4</td><td>6</td></tr><tr><td>5</td><td>4</td></tr><tr><td>6</td><td>6</td></tr><tr><td>7</td><td>6</td></tr><tr><td>8</td><td>5</td></tr><tr><td>9</td><td>6</td></tr><tr><td>10</td><td>4</td></tr><tr><td>11</td><td>4</td></tr><tr><td>12</td><td>9</td></tr><tr><td>13</td><td>4</td></tr><tr><td>14</td><td>3</td></tr><tr><td>15</td><td>6</td></tr><tr><td>16</td><td>5</td></tr><tr><td>17</td><td>6</td></tr><tr><td>18</td><td>6</td></tr><tr><td>19</td><td>6</td></tr><tr><td>20</td><td>5</td></tr><tr><td>21</td><td>4</td></tr><tr><td>22</td><td>6</td></tr><tr><td>23</td><td>3</td></tr><tr><td>24</td><td>3</td></tr><tr><td>25</td><td>2</td></tr><tr><td>26</td><td>2</td></tr><tr><td>27</td><td>7</td></tr><tr><td>28</td><td>6</td></tr><tr><td>29</td><td>6</td></tr><tr><td>30</td><td>3</td></tr><tr><td>31</td><td>3</td></tr><tr><td>32</td><td>1</td></tr><tr><td>33</td><td>6</td></tr><tr><td>34</td><td>4</td></tr><tr><td>35</td><td>9</td></tr><tr><td>36</td><td>6</td></tr><tr><td>37</td><td>3</td></tr><tr><td>38</td><td>8</td></tr><tr><td>39</td><td>7</td></tr><tr><td>40</td><td>4</td></tr><tr><td>41</td><td>2</td></tr><tr><td>42</td><td>6</td></tr><tr><td>43</td><td>8</td></tr><tr><td>44</td><td>6</td></tr><tr><td>45</td><td>5</td></tr><tr><td>46</td><td>4</td></tr><tr><td>47</td><td>2</td></tr><tr><td>48</td><td>9</td></tr><tr><td>49</td><td>7</td></tr><tr><td>50</td><td>4</td></tr><tr><td>51</td><td>5</td></tr><tr><td>52</td><td>5</td></tr><tr><td>53</td><td>2</td></tr><tr><td>54</td><td>6</td></tr><tr><td>55</td><td>8</td></tr><tr><td>56</td><td>2</td></tr><tr><td>57</td><td>4</td></tr><tr><td>58</td><td>13</td></tr><tr><td>59</td><td>7</td></tr><tr><td>60</td><td>1</td></tr><tr><td>61</td><td>5</td></tr><tr><td>62</td><td>5</td></tr><tr><td>63</td><td>4</td></tr><tr><td>64</td><td>6</td></tr><tr><td>65</td><td>1</td></tr><tr><td>66</td><td>4</td></tr><tr><td>67</td><td>6</td></tr><tr><td>68</td><td>3</td></tr><tr><td>69</td><td>4</td></tr><tr><td>70</td><td>11</td></tr><tr><td>71</td><td>3</td></tr><tr><td>72</td><td>4</td></tr><tr><td>73</td><td>4</td></tr><tr><td>74</td><td>9</td></tr><tr><td>75</td><td>3</td></tr><tr><td>76</td><td>3</td></tr><tr><td>77</td><td>6</td></tr><tr><td>78</td><td>6</td></tr><tr><td>79</td><td>5</td></tr><tr><td>80</td><td>7</td></tr><tr><td>81</td><td>5</td></tr><tr><td>82</td><td>6</td></tr><tr><td>83</td><td>8</td></tr><tr><td>84</td><td>4</td></tr><tr><td>85</td><td>4</td></tr><tr><td>86</td><td>5</td></tr><tr><td>87</td><td>5</td></tr><tr><td>88</td><td>8</td></tr><tr><td>89</td><td>8</td></tr><tr><td>90</td><td>4</td></tr><tr><td>91</td><td>4</td></tr><tr><td>92</td><td>6</td></tr><tr><td>93</td><td>5</td></tr><tr><td>94</td><td>10</td></tr><tr><td>95</td><td>4</td></tr><tr><td>96</td><td>7</td></tr><tr><td>97</td><td>7</td></tr><tr><td>98</td><td>4</td></tr><tr><td>99</td><td>5</td></tr><tr><td>100</td><td>4</td></tr><tr><td>101</td><td>3</td></tr><tr><td>102</td><td>2</td></tr><tr><td>103</td><td>4</td></tr><tr><td>104</td><td>4</td></tr><tr><td>105</td><td>2</td></tr><tr><td>106</td><td>6</td></tr><tr><td>107</td><td>5</td></tr><tr><td>108</td><td>2</td></tr><tr><td>109</td><td>7</td></tr><tr><td>110</td><td>8</td></tr><tr><td>111</td><td>5</td></tr><tr><td>112</td><td>5</td></tr><tr><td>113</td><td>5</td></tr><tr><td>114</td><td>4</td></tr><tr><td>115</td><td>7</td></tr><tr><td>116</td><td>2</td></tr><tr><td>117</td><td>8</td></tr><tr><td>118</td><td>7</td></tr><tr><td>119</td><td>5</td></tr><tr><td>120</td><td>6</td></tr><tr><td>121</td><td>8</td></tr><tr><td>122</td><td>9</td></tr><tr><td>123</td><td>5</td></tr><tr><td>124</td><td>6</td></tr><tr><td>125</td><td>1</td></tr><tr><td>126</td><td>6</td></tr><tr><td>127</td><td>7</td></tr><tr><td>128</td><td>5</td></tr><tr><td>129</td><td>4</td></tr><tr><td>130</td><td>6</td></tr><tr><td>131</td><td>5</td></tr><tr><td>132</td><td>6</td></tr><tr><td>133</td><td>6</td></tr><tr><td>134</td><td>6</td></tr><tr><td>135</td><td>3</td></tr><tr><td>136</td><td>3</td></tr><tr><td>137</td><td>6</td></tr><tr><td>138</td><td>7</td></tr><tr><td>139</td><td>7</td></tr><tr><td>140</td><td>8</td></tr><tr><td>141</td><td>6</td></tr><tr><td>142</td><td>2</td></tr><tr><td>143</td><td>7</td></tr><tr><td>144</td><td>5</td></tr><tr><td>145</td><td>6</td></tr><tr><td>146</td><td>6</td></tr><tr><td>147</td><td>1</td></tr><tr><td>148</td><td>6</td></tr><tr><td>149</td><td>7</td></tr><tr><td>150</td><td>6</td></tr><tr><td>151</td><td>3</td></tr><tr><td>152</td><td>4</td></tr><tr><td>153</td><td>5</td></tr><tr><td>154</td><td>5</td></tr><tr><td>155</td><td>5</td></tr><tr><td>156</td><td>7</td></tr><tr><td>157</td><td>5</td></tr><tr><td>158</td><td>3</td></tr><tr><td>160</td><td>5</td></tr><tr><td>161</td><td>6</td></tr><tr><td>162</td><td>3</td></tr><tr><td>163</td><td>7</td></tr><tr><td>164</td><td>5</td></tr><tr><td>165</td><td>7</td></tr><tr><td>166</td><td>3</td></tr><tr><td>167</td><td>2</td></tr><tr><td>168</td><td>5</td></tr><tr><td>169</td><td>6</td></tr><tr><td>170</td><td>5</td></tr><tr><td>171</td><td>5</td></tr><tr><td>172</td><td>9</td></tr><tr><td>173</td><td>4</td></tr><tr><td>174</td><td>4</td></tr><tr><td>175</td><td>5</td></tr><tr><td>176</td><td>6</td></tr><tr><td>177</td><td>4</td></tr><tr><td>178</td><td>4</td></tr><tr><td>179</td><td>3</td></tr><tr><td>180</td><td>3</td></tr><tr><td>181</td><td>6</td></tr><tr><td>182</td><td>12</td></tr><tr><td>183</td><td>4</td></tr><tr><td>184</td><td>4</td></tr><tr><td>185</td><td>12</td></tr><tr><td>186</td><td>4</td></tr><tr><td>187</td><td>7</td></tr><tr><td>188</td><td>6</td></tr><tr><td>189</td><td>5</td></tr><tr><td>190</td><td>5</td></tr><tr><td>191</td><td>5</td></tr><tr><td>192</td><td>2</td></tr><tr><td>193</td><td>7</td></tr><tr><td>194</td><td>1</td></tr><tr><td>195</td><td>6</td></tr><tr><td>196</td><td>4</td></tr><tr><td>197</td><td>6</td></tr><tr><td>198</td><td>8</td></tr></table>"
                    },
                    "metadata": {}
                }
            ],
            "execution_count": 19
        },
        {
            "cell_type": "markdown",
            "source": [
                "Listázzuk azon vendégek adatait, akik a legtöbb férőhelyes szobát (vagy szobákat) már lefoglalták!\n",
                "\n",
                "- Csak klímás szoba jöhet számításba"
            ],
            "metadata": {
                "azdata_cell_guid": "476e9e2b-9432-4f92-be7d-f1667cdad69a"
            },
            "attachments": {}
        },
        {
            "cell_type": "code",
            "source": [
                "SELECT v.USERNEV AS 'Username', v.NEV AS 'Name', v.EMAIL AS 'Email', v.SZAML_CIM AS 'Address', v.SZUL_DAT AS 'Birth date'\r\n",
                "FROM szoba sz JOIN foglalas f ON sz.SZOBA_ID = f.SZOBA_FK JOIN vendeg v ON v.usernev = f.ugyfel_fk\r\n",
                "WHERE sz.FEROHELY IN (SELECT max(FEROHELY) FROM szoba WHERE KLIMAS = 'i')\r\n",
                "GROUP BY v.USERNEV, v.NEV, v.EMAIL, v.SZAML_CIM, v.SZUL_DAT, sz.FEROHELY"
            ],
            "metadata": {
                "azdata_cell_guid": "94d0d4c1-0225-46a0-90d1-e1067585e4b1",
                "language": "sql",
                "tags": []
            },
            "outputs": [
                {
                    "output_type": "display_data",
                    "data": {
                        "text/html": "(3 rows affected)"
                    },
                    "metadata": {}
                },
                {
                    "output_type": "display_data",
                    "data": {
                        "text/html": "Total execution time: 00:00:00.024"
                    },
                    "metadata": {}
                },
                {
                    "output_type": "execute_result",
                    "execution_count": 21,
                    "data": {
                        "application/vnd.dataresource+json": {
                            "schema": {
                                "fields": [
                                    {
                                        "name": "Username"
                                    },
                                    {
                                        "name": "Name"
                                    },
                                    {
                                        "name": "Email"
                                    },
                                    {
                                        "name": "Address"
                                    },
                                    {
                                        "name": "Birth date"
                                    }
                                ]
                            },
                            "data": [
                                {
                                    "Username": "JOZSEFG",
                                    "Name": "Gyuris József",
                                    "Email": "józsef.gyuris@mail.hu",
                                    "Address": "2660 Balassagyarmat Petőfi utca 1/2.",
                                    "Birth date": "1975-05-26"
                                },
                                {
                                    "Username": "PETERB",
                                    "Name": "Berendi Péter",
                                    "Email": "péter.berendi@mail.hu",
                                    "Address": "3980 Sátoraljaújhely Vasút utca 4/10.",
                                    "Birth date": "1969-01-01"
                                },
                                {
                                    "Username": "tunde",
                                    "Name": "Turcsik Tünde",
                                    "Email": "tunde@gmail.com",
                                    "Address": "7130 Tolna Fő út 122.",
                                    "Birth date": "1974-02-12"
                                }
                            ]
                        },
                        "text/html": "<table><tr><th>Username</th><th>Name</th><th>Email</th><th>Address</th><th>Birth date</th></tr><tr><td>JOZSEFG</td><td>Gyuris József</td><td>józsef.gyuris@mail.hu</td><td>2660 Balassagyarmat Petőfi utca 1/2.</td><td>1975-05-26</td></tr><tr><td>PETERB</td><td>Berendi Péter</td><td>péter.berendi@mail.hu</td><td>3980 Sátoraljaújhely Vasút utca 4/10.</td><td>1969-01-01</td></tr><tr><td>tunde</td><td>Turcsik Tünde</td><td>tunde@gmail.com</td><td>7130 Tolna Fő út 122.</td><td>1974-02-12</td></tr></table>"
                    },
                    "metadata": {}
                }
            ],
            "execution_count": 21
        },
        {
            "cell_type": "markdown",
            "source": [
                "Jelenítsük meg, hogy az egyes szálláshelyek szobáit esetén a legutolsó 5 foglalás átlagosan hány főre történt!\n",
                "\n",
                "- A számításnál vegyük figyelembe a felnőtteket és a gyermekeket is\n",
                "- A foglalás dátumánál a METTOL mezőt használjuk\n",
                "\n",
                "Válaszszöveg 3 kérdés\n",
                "\n",
                "Rich text szerkesztő"
            ],
            "metadata": {
                "azdata_cell_guid": "4392fc21-3d4a-4150-95bd-bcc70c8fa293"
            },
            "attachments": {}
        },
        {
            "cell_type": "code",
            "source": [
                "SELECT szh.SZALLAS_NEV, sz.SZOBA_SZAMA, AVG(f.FELNOTT_SZAM + f.GYERMEK_SZAM) OVER (PARTITION BY szh.SZALLAS_NEV ORDER BY f.METTOL ROWS 5 PRECEDING) AS 'Average guests' \r\n",
                "FROM Szoba sz JOIN Foglalas f ON sz.SZOBA_ID = f.SZOBA_FK\r\n",
                "                JOIN Szallashely szh ON sz.SZALLAS_FK = szh.SZALLAS_ID"
            ],
            "metadata": {
                "azdata_cell_guid": "f9e5cb3f-992a-43a0-98e8-1ff771ca4398",
                "language": "sql",
                "tags": []
            },
            "outputs": [
                {
                    "output_type": "display_data",
                    "data": {
                        "text/html": "(1027 rows affected)"
                    },
                    "metadata": {}
                },
                {
                    "output_type": "display_data",
                    "data": {
                        "text/html": "Total execution time: 00:00:00.021"
                    },
                    "metadata": {}
                },
                {
                    "output_type": "execute_result",
                    "execution_count": 60,
                    "data": {
                        "application/vnd.dataresource+json": {
                            "schema": {
                                "fields": [
                                    {
                                        "name": "SZALLAS_NEV"
                                    },
                                    {
                                        "name": "SZOBA_SZAMA"
                                    },
                                    {
                                        "name": "Average guests"
                                    }
                                ]
                            },
                            "data": [
                                {
                                    "SZALLAS_NEV": "Családi Ház",
                                    "SZOBA_SZAMA": "2",
                                    "Average guests": "4"
                                },
                                {
                                    "SZALLAS_NEV": "Családi Ház",
                                    "SZOBA_SZAMA": "4",
                                    "Average guests": "4"
                                },
                                {
                                    "SZALLAS_NEV": "Családi Ház",
                                    "SZOBA_SZAMA": "4",
                                    "Average guests": "3"
                                },
                                {
                                    "SZALLAS_NEV": "Családi Ház",
                                    "SZOBA_SZAMA": "4",
                                    "Average guests": "3"
                                },
                                {
                                    "SZALLAS_NEV": "Családi Ház",
                                    "SZOBA_SZAMA": "3",
                                    "Average guests": "3"
                                },
                                {
                                    "SZALLAS_NEV": "Családi Ház",
                                    "SZOBA_SZAMA": "4",
                                    "Average guests": "3"
                                },
                                {
                                    "SZALLAS_NEV": "Családi Ház",
                                    "SZOBA_SZAMA": "1",
                                    "Average guests": "3"
                                },
                                {
                                    "SZALLAS_NEV": "Családi Ház",
                                    "SZOBA_SZAMA": "3",
                                    "Average guests": "2"
                                },
                                {
                                    "SZALLAS_NEV": "Családi Ház",
                                    "SZOBA_SZAMA": "2",
                                    "Average guests": "2"
                                },
                                {
                                    "SZALLAS_NEV": "Családi Ház",
                                    "SZOBA_SZAMA": "1",
                                    "Average guests": "2"
                                },
                                {
                                    "SZALLAS_NEV": "Családi Ház",
                                    "SZOBA_SZAMA": "3",
                                    "Average guests": "2"
                                },
                                {
                                    "SZALLAS_NEV": "Családi Ház",
                                    "SZOBA_SZAMA": "3",
                                    "Average guests": "2"
                                },
                                {
                                    "SZALLAS_NEV": "Családi Ház",
                                    "SZOBA_SZAMA": "1",
                                    "Average guests": "2"
                                },
                                {
                                    "SZALLAS_NEV": "Családi Ház",
                                    "SZOBA_SZAMA": "3",
                                    "Average guests": "2"
                                },
                                {
                                    "SZALLAS_NEV": "Családi Ház",
                                    "SZOBA_SZAMA": "3",
                                    "Average guests": "2"
                                },
                                {
                                    "SZALLAS_NEV": "Családi Ház",
                                    "SZOBA_SZAMA": "1",
                                    "Average guests": "2"
                                },
                                {
                                    "SZALLAS_NEV": "Családi Ház",
                                    "SZOBA_SZAMA": "4",
                                    "Average guests": "2"
                                },
                                {
                                    "SZALLAS_NEV": "Családi Ház",
                                    "SZOBA_SZAMA": "2",
                                    "Average guests": "2"
                                },
                                {
                                    "SZALLAS_NEV": "Fortuna Apartman",
                                    "SZOBA_SZAMA": "5",
                                    "Average guests": "2"
                                },
                                {
                                    "SZALLAS_NEV": "Fortuna Apartman",
                                    "SZOBA_SZAMA": "1",
                                    "Average guests": "3"
                                },
                                {
                                    "SZALLAS_NEV": "Fortuna Apartman",
                                    "SZOBA_SZAMA": "2",
                                    "Average guests": "2"
                                },
                                {
                                    "SZALLAS_NEV": "Fortuna Apartman",
                                    "SZOBA_SZAMA": "5",
                                    "Average guests": "2"
                                },
                                {
                                    "SZALLAS_NEV": "Fortuna Apartman",
                                    "SZOBA_SZAMA": "8",
                                    "Average guests": "2"
                                },
                                {
                                    "SZALLAS_NEV": "Fortuna Apartman",
                                    "SZOBA_SZAMA": "6",
                                    "Average guests": "2"
                                },
                                {
                                    "SZALLAS_NEV": "Fortuna Apartman",
                                    "SZOBA_SZAMA": "1",
                                    "Average guests": "2"
                                },
                                {
                                    "SZALLAS_NEV": "Fortuna Apartman",
                                    "SZOBA_SZAMA": "7",
                                    "Average guests": "2"
                                },
                                {
                                    "SZALLAS_NEV": "Fortuna Apartman",
                                    "SZOBA_SZAMA": "7",
                                    "Average guests": "2"
                                },
                                {
                                    "SZALLAS_NEV": "Fortuna Apartman",
                                    "SZOBA_SZAMA": "3",
                                    "Average guests": "1"
                                },
                                {
                                    "SZALLAS_NEV": "Fortuna Apartman",
                                    "SZOBA_SZAMA": "6",
                                    "Average guests": "1"
                                },
                                {
                                    "SZALLAS_NEV": "Fortuna Apartman",
                                    "SZOBA_SZAMA": "3",
                                    "Average guests": "1"
                                },
                                {
                                    "SZALLAS_NEV": "Fortuna Apartman",
                                    "SZOBA_SZAMA": "1",
                                    "Average guests": "1"
                                },
                                {
                                    "SZALLAS_NEV": "Fortuna Apartman",
                                    "SZOBA_SZAMA": "1",
                                    "Average guests": "1"
                                },
                                {
                                    "SZALLAS_NEV": "Fortuna Apartman",
                                    "SZOBA_SZAMA": "4",
                                    "Average guests": "1"
                                },
                                {
                                    "SZALLAS_NEV": "Fortuna Apartman",
                                    "SZOBA_SZAMA": "2",
                                    "Average guests": "2"
                                },
                                {
                                    "SZALLAS_NEV": "Fortuna Apartman",
                                    "SZOBA_SZAMA": "3",
                                    "Average guests": "2"
                                },
                                {
                                    "SZALLAS_NEV": "Fortuna Apartman",
                                    "SZOBA_SZAMA": "5",
                                    "Average guests": "2"
                                },
                                {
                                    "SZALLAS_NEV": "Fortuna Apartman",
                                    "SZOBA_SZAMA": "4",
                                    "Average guests": "2"
                                },
                                {
                                    "SZALLAS_NEV": "Fortuna Apartman",
                                    "SZOBA_SZAMA": "7",
                                    "Average guests": "2"
                                },
                                {
                                    "SZALLAS_NEV": "Fortuna Apartman",
                                    "SZOBA_SZAMA": "2",
                                    "Average guests": "2"
                                },
                                {
                                    "SZALLAS_NEV": "Fortuna Apartman",
                                    "SZOBA_SZAMA": "4",
                                    "Average guests": "2"
                                },
                                {
                                    "SZALLAS_NEV": "Fortuna Apartman",
                                    "SZOBA_SZAMA": "4",
                                    "Average guests": "2"
                                },
                                {
                                    "SZALLAS_NEV": "Fortuna Apartman",
                                    "SZOBA_SZAMA": "4",
                                    "Average guests": "2"
                                },
                                {
                                    "SZALLAS_NEV": "Fortuna Apartman",
                                    "SZOBA_SZAMA": "6",
                                    "Average guests": "3"
                                },
                                {
                                    "SZALLAS_NEV": "Fortuna Apartman",
                                    "SZOBA_SZAMA": "3",
                                    "Average guests": "3"
                                },
                                {
                                    "SZALLAS_NEV": "Fortuna Apartman",
                                    "SZOBA_SZAMA": "8",
                                    "Average guests": "3"
                                },
                                {
                                    "SZALLAS_NEV": "Fortuna Apartman",
                                    "SZOBA_SZAMA": "2",
                                    "Average guests": "3"
                                },
                                {
                                    "SZALLAS_NEV": "Fortuna Apartman",
                                    "SZOBA_SZAMA": "6",
                                    "Average guests": "3"
                                },
                                {
                                    "SZALLAS_NEV": "Fortuna Apartman",
                                    "SZOBA_SZAMA": "2",
                                    "Average guests": "3"
                                },
                                {
                                    "SZALLAS_NEV": "Fortuna Apartman",
                                    "SZOBA_SZAMA": "6",
                                    "Average guests": "3"
                                },
                                {
                                    "SZALLAS_NEV": "Fortuna Apartman",
                                    "SZOBA_SZAMA": "5",
                                    "Average guests": "3"
                                },
                                {
                                    "SZALLAS_NEV": "Fortuna Apartman",
                                    "SZOBA_SZAMA": "3",
                                    "Average guests": "3"
                                },
                                {
                                    "SZALLAS_NEV": "Fortuna Apartman",
                                    "SZOBA_SZAMA": "6",
                                    "Average guests": "2"
                                },
                                {
                                    "SZALLAS_NEV": "Fortuna Apartman",
                                    "SZOBA_SZAMA": "1",
                                    "Average guests": "2"
                                },
                                {
                                    "SZALLAS_NEV": "Fortuna Apartman",
                                    "SZOBA_SZAMA": "8",
                                    "Average guests": "3"
                                },
                                {
                                    "SZALLAS_NEV": "Fortuna Apartman",
                                    "SZOBA_SZAMA": "2",
                                    "Average guests": "3"
                                },
                                {
                                    "SZALLAS_NEV": "Fortuna Apartman",
                                    "SZOBA_SZAMA": "3",
                                    "Average guests": "3"
                                },
                                {
                                    "SZALLAS_NEV": "Fortuna Apartman",
                                    "SZOBA_SZAMA": "1",
                                    "Average guests": "3"
                                },
                                {
                                    "SZALLAS_NEV": "Fortuna Panzió",
                                    "SZOBA_SZAMA": "3",
                                    "Average guests": "2"
                                },
                                {
                                    "SZALLAS_NEV": "Fortuna Panzió",
                                    "SZOBA_SZAMA": "5",
                                    "Average guests": "2"
                                },
                                {
                                    "SZALLAS_NEV": "Fortuna Panzió",
                                    "SZOBA_SZAMA": "3",
                                    "Average guests": "2"
                                },
                                {
                                    "SZALLAS_NEV": "Fortuna panzió",
                                    "SZOBA_SZAMA": "7",
                                    "Average guests": "2"
                                },
                                {
                                    "SZALLAS_NEV": "Fortuna panzió",
                                    "SZOBA_SZAMA": "15",
                                    "Average guests": "2"
                                },
                                {
                                    "SZALLAS_NEV": "Fortuna Panzió",
                                    "SZOBA_SZAMA": "9",
                                    "Average guests": "2"
                                },
                                {
                                    "SZALLAS_NEV": "Fortuna panzió",
                                    "SZOBA_SZAMA": "6",
                                    "Average guests": "2"
                                },
                                {
                                    "SZALLAS_NEV": "Fortuna panzió",
                                    "SZOBA_SZAMA": "7",
                                    "Average guests": "2"
                                },
                                {
                                    "SZALLAS_NEV": "Fortuna panzió",
                                    "SZOBA_SZAMA": "5",
                                    "Average guests": "2"
                                },
                                {
                                    "SZALLAS_NEV": "Fortuna panzió",
                                    "SZOBA_SZAMA": "14",
                                    "Average guests": "2"
                                },
                                {
                                    "SZALLAS_NEV": "Fortuna panzió",
                                    "SZOBA_SZAMA": "9",
                                    "Average guests": "3"
                                },
                                {
                                    "SZALLAS_NEV": "Fortuna Panzió",
                                    "SZOBA_SZAMA": "9",
                                    "Average guests": "3"
                                },
                                {
                                    "SZALLAS_NEV": "Fortuna Panzió",
                                    "SZOBA_SZAMA": "5",
                                    "Average guests": "3"
                                },
                                {
                                    "SZALLAS_NEV": "Fortuna Panzió",
                                    "SZOBA_SZAMA": "3",
                                    "Average guests": "3"
                                },
                                {
                                    "SZALLAS_NEV": "Fortuna panzió",
                                    "SZOBA_SZAMA": "10",
                                    "Average guests": "3"
                                },
                                {
                                    "SZALLAS_NEV": "Fortuna panzió",
                                    "SZOBA_SZAMA": "4",
                                    "Average guests": "2"
                                },
                                {
                                    "SZALLAS_NEV": "Fortuna panzió",
                                    "SZOBA_SZAMA": "4",
                                    "Average guests": "2"
                                },
                                {
                                    "SZALLAS_NEV": "Fortuna Panzió",
                                    "SZOBA_SZAMA": "10",
                                    "Average guests": "2"
                                },
                                {
                                    "SZALLAS_NEV": "Fortuna panzió",
                                    "SZOBA_SZAMA": "5",
                                    "Average guests": "2"
                                },
                                {
                                    "SZALLAS_NEV": "Fortuna panzió",
                                    "SZOBA_SZAMA": "12",
                                    "Average guests": "2"
                                },
                                {
                                    "SZALLAS_NEV": "Fortuna panzió",
                                    "SZOBA_SZAMA": "15",
                                    "Average guests": "2"
                                },
                                {
                                    "SZALLAS_NEV": "Fortuna panzió",
                                    "SZOBA_SZAMA": "4",
                                    "Average guests": "2"
                                },
                                {
                                    "SZALLAS_NEV": "Fortuna panzió",
                                    "SZOBA_SZAMA": "10",
                                    "Average guests": "2"
                                },
                                {
                                    "SZALLAS_NEV": "Fortuna Panzió",
                                    "SZOBA_SZAMA": "9",
                                    "Average guests": "2"
                                },
                                {
                                    "SZALLAS_NEV": "Fortuna panzió",
                                    "SZOBA_SZAMA": "12",
                                    "Average guests": "2"
                                },
                                {
                                    "SZALLAS_NEV": "Fortuna panzió",
                                    "SZOBA_SZAMA": "8",
                                    "Average guests": "2"
                                },
                                {
                                    "SZALLAS_NEV": "Fortuna Panzió",
                                    "SZOBA_SZAMA": "1",
                                    "Average guests": "2"
                                },
                                {
                                    "SZALLAS_NEV": "Fortuna Panzió",
                                    "SZOBA_SZAMA": "1",
                                    "Average guests": "2"
                                },
                                {
                                    "SZALLAS_NEV": "Fortuna Panzió",
                                    "SZOBA_SZAMA": "8",
                                    "Average guests": "2"
                                },
                                {
                                    "SZALLAS_NEV": "Fortuna Panzió",
                                    "SZOBA_SZAMA": "2",
                                    "Average guests": "2"
                                },
                                {
                                    "SZALLAS_NEV": "Fortuna panzió",
                                    "SZOBA_SZAMA": "11",
                                    "Average guests": "2"
                                },
                                {
                                    "SZALLAS_NEV": "Fortuna panzió",
                                    "SZOBA_SZAMA": "11",
                                    "Average guests": "2"
                                },
                                {
                                    "SZALLAS_NEV": "Fortuna panzió",
                                    "SZOBA_SZAMA": "12",
                                    "Average guests": "2"
                                },
                                {
                                    "SZALLAS_NEV": "Fortuna Panzió",
                                    "SZOBA_SZAMA": "9",
                                    "Average guests": "2"
                                },
                                {
                                    "SZALLAS_NEV": "Fortuna panzió",
                                    "SZOBA_SZAMA": "12",
                                    "Average guests": "3"
                                },
                                {
                                    "SZALLAS_NEV": "Fortuna panzió",
                                    "SZOBA_SZAMA": "9",
                                    "Average guests": "3"
                                },
                                {
                                    "SZALLAS_NEV": "Fortuna Panzió",
                                    "SZOBA_SZAMA": "1",
                                    "Average guests": "2"
                                },
                                {
                                    "SZALLAS_NEV": "Fortuna Panzió",
                                    "SZOBA_SZAMA": "4",
                                    "Average guests": "2"
                                },
                                {
                                    "SZALLAS_NEV": "Fortuna panzió",
                                    "SZOBA_SZAMA": "6",
                                    "Average guests": "2"
                                },
                                {
                                    "SZALLAS_NEV": "Fortuna Panzió",
                                    "SZOBA_SZAMA": "4",
                                    "Average guests": "2"
                                },
                                {
                                    "SZALLAS_NEV": "Fortuna panzió",
                                    "SZOBA_SZAMA": "11",
                                    "Average guests": "2"
                                },
                                {
                                    "SZALLAS_NEV": "Fortuna panzió",
                                    "SZOBA_SZAMA": "13",
                                    "Average guests": "2"
                                },
                                {
                                    "SZALLAS_NEV": "Fortuna panzió",
                                    "SZOBA_SZAMA": "13",
                                    "Average guests": "2"
                                },
                                {
                                    "SZALLAS_NEV": "Fortuna panzió",
                                    "SZOBA_SZAMA": "11",
                                    "Average guests": "2"
                                },
                                {
                                    "SZALLAS_NEV": "Fortuna panzió",
                                    "SZOBA_SZAMA": "4",
                                    "Average guests": "2"
                                },
                                {
                                    "SZALLAS_NEV": "Fortuna panzió",
                                    "SZOBA_SZAMA": "7",
                                    "Average guests": "2"
                                },
                                {
                                    "SZALLAS_NEV": "Fortuna panzió",
                                    "SZOBA_SZAMA": "12",
                                    "Average guests": "2"
                                },
                                {
                                    "SZALLAS_NEV": "Fortuna panzió",
                                    "SZOBA_SZAMA": "12",
                                    "Average guests": "3"
                                },
                                {
                                    "SZALLAS_NEV": "Fortuna Panzió",
                                    "SZOBA_SZAMA": "7",
                                    "Average guests": "3"
                                },
                                {
                                    "SZALLAS_NEV": "Fortuna panzió",
                                    "SZOBA_SZAMA": "3",
                                    "Average guests": "3"
                                },
                                {
                                    "SZALLAS_NEV": "Fortuna Panzió",
                                    "SZOBA_SZAMA": "3",
                                    "Average guests": "3"
                                },
                                {
                                    "SZALLAS_NEV": "Fortuna panzió",
                                    "SZOBA_SZAMA": "10",
                                    "Average guests": "3"
                                },
                                {
                                    "SZALLAS_NEV": "Fortuna Panzió",
                                    "SZOBA_SZAMA": "10",
                                    "Average guests": "3"
                                },
                                {
                                    "SZALLAS_NEV": "Fortuna Panzió",
                                    "SZOBA_SZAMA": "6",
                                    "Average guests": "2"
                                },
                                {
                                    "SZALLAS_NEV": "Fortuna Panzió",
                                    "SZOBA_SZAMA": "6",
                                    "Average guests": "2"
                                },
                                {
                                    "SZALLAS_NEV": "Fortuna panzió",
                                    "SZOBA_SZAMA": "3",
                                    "Average guests": "2"
                                },
                                {
                                    "SZALLAS_NEV": "Fortuna panzió",
                                    "SZOBA_SZAMA": "10",
                                    "Average guests": "2"
                                },
                                {
                                    "SZALLAS_NEV": "Fortuna Panzió",
                                    "SZOBA_SZAMA": "5",
                                    "Average guests": "2"
                                },
                                {
                                    "SZALLAS_NEV": "Fortuna Panzió",
                                    "SZOBA_SZAMA": "9",
                                    "Average guests": "2"
                                },
                                {
                                    "SZALLAS_NEV": "Fortuna Panzió",
                                    "SZOBA_SZAMA": "10",
                                    "Average guests": "2"
                                },
                                {
                                    "SZALLAS_NEV": "Fortuna panzió",
                                    "SZOBA_SZAMA": "11",
                                    "Average guests": "2"
                                },
                                {
                                    "SZALLAS_NEV": "Fortuna Panzió",
                                    "SZOBA_SZAMA": "6",
                                    "Average guests": "2"
                                },
                                {
                                    "SZALLAS_NEV": "Fortuna panzió",
                                    "SZOBA_SZAMA": "3",
                                    "Average guests": "2"
                                },
                                {
                                    "SZALLAS_NEV": "Fortuna panzió",
                                    "SZOBA_SZAMA": "14",
                                    "Average guests": "2"
                                },
                                {
                                    "SZALLAS_NEV": "Fortuna panzió",
                                    "SZOBA_SZAMA": "1",
                                    "Average guests": "2"
                                },
                                {
                                    "SZALLAS_NEV": "Fortuna panzió",
                                    "SZOBA_SZAMA": "9",
                                    "Average guests": "2"
                                },
                                {
                                    "SZALLAS_NEV": "Fortuna Panzió",
                                    "SZOBA_SZAMA": "8",
                                    "Average guests": "2"
                                },
                                {
                                    "SZALLAS_NEV": "Fortuna panzió",
                                    "SZOBA_SZAMA": "14",
                                    "Average guests": "2"
                                },
                                {
                                    "SZALLAS_NEV": "Fortuna Panzió",
                                    "SZOBA_SZAMA": "10",
                                    "Average guests": "2"
                                },
                                {
                                    "SZALLAS_NEV": "Fortuna panzió",
                                    "SZOBA_SZAMA": "5",
                                    "Average guests": "2"
                                },
                                {
                                    "SZALLAS_NEV": "Fortuna panzió",
                                    "SZOBA_SZAMA": "14",
                                    "Average guests": "2"
                                },
                                {
                                    "SZALLAS_NEV": "Fortuna panzió",
                                    "SZOBA_SZAMA": "3",
                                    "Average guests": "2"
                                },
                                {
                                    "SZALLAS_NEV": "Fortuna Panzió",
                                    "SZOBA_SZAMA": "4",
                                    "Average guests": "2"
                                },
                                {
                                    "SZALLAS_NEV": "Fortuna Panzió",
                                    "SZOBA_SZAMA": "1",
                                    "Average guests": "2"
                                },
                                {
                                    "SZALLAS_NEV": "Fortuna Panzió",
                                    "SZOBA_SZAMA": "6",
                                    "Average guests": "2"
                                },
                                {
                                    "SZALLAS_NEV": "Fortuna panzió",
                                    "SZOBA_SZAMA": "6",
                                    "Average guests": "2"
                                },
                                {
                                    "SZALLAS_NEV": "Fortuna Panzió",
                                    "SZOBA_SZAMA": "2",
                                    "Average guests": "2"
                                },
                                {
                                    "SZALLAS_NEV": "Fortuna panzió",
                                    "SZOBA_SZAMA": "4",
                                    "Average guests": "2"
                                },
                                {
                                    "SZALLAS_NEV": "Fortuna panzió",
                                    "SZOBA_SZAMA": "2",
                                    "Average guests": "2"
                                },
                                {
                                    "SZALLAS_NEV": "Fortuna panzió",
                                    "SZOBA_SZAMA": "5",
                                    "Average guests": "2"
                                },
                                {
                                    "SZALLAS_NEV": "Fortuna Panzió",
                                    "SZOBA_SZAMA": "7",
                                    "Average guests": "2"
                                },
                                {
                                    "SZALLAS_NEV": "Fortuna Panzió",
                                    "SZOBA_SZAMA": "10",
                                    "Average guests": "2"
                                },
                                {
                                    "SZALLAS_NEV": "Fortuna Panzió",
                                    "SZOBA_SZAMA": "4",
                                    "Average guests": "2"
                                },
                                {
                                    "SZALLAS_NEV": "Fortuna panzió",
                                    "SZOBA_SZAMA": "15",
                                    "Average guests": "2"
                                },
                                {
                                    "SZALLAS_NEV": "Fortuna Panzió",
                                    "SZOBA_SZAMA": "10",
                                    "Average guests": "2"
                                },
                                {
                                    "SZALLAS_NEV": "Fortuna Panzió",
                                    "SZOBA_SZAMA": "4",
                                    "Average guests": "2"
                                },
                                {
                                    "SZALLAS_NEV": "Fortuna panzió",
                                    "SZOBA_SZAMA": "5",
                                    "Average guests": "2"
                                },
                                {
                                    "SZALLAS_NEV": "Fortuna Panzió",
                                    "SZOBA_SZAMA": "9",
                                    "Average guests": "2"
                                },
                                {
                                    "SZALLAS_NEV": "Fortuna Panzió",
                                    "SZOBA_SZAMA": "4",
                                    "Average guests": "2"
                                },
                                {
                                    "SZALLAS_NEV": "Fortuna panzió",
                                    "SZOBA_SZAMA": "3",
                                    "Average guests": "2"
                                },
                                {
                                    "SZALLAS_NEV": "Fortuna Panzió",
                                    "SZOBA_SZAMA": "7",
                                    "Average guests": "2"
                                },
                                {
                                    "SZALLAS_NEV": "Fortuna Panzió",
                                    "SZOBA_SZAMA": "5",
                                    "Average guests": "2"
                                },
                                {
                                    "SZALLAS_NEV": "Fortuna Panzió",
                                    "SZOBA_SZAMA": "6",
                                    "Average guests": "2"
                                },
                                {
                                    "SZALLAS_NEV": "Fortuna Panzió",
                                    "SZOBA_SZAMA": "3",
                                    "Average guests": "2"
                                },
                                {
                                    "SZALLAS_NEV": "Fortuna panzió",
                                    "SZOBA_SZAMA": "9",
                                    "Average guests": "2"
                                },
                                {
                                    "SZALLAS_NEV": "Fortuna panzió",
                                    "SZOBA_SZAMA": "13",
                                    "Average guests": "2"
                                },
                                {
                                    "SZALLAS_NEV": "Fortuna panzió",
                                    "SZOBA_SZAMA": "9",
                                    "Average guests": "2"
                                },
                                {
                                    "SZALLAS_NEV": "Fortuna panzió",
                                    "SZOBA_SZAMA": "14",
                                    "Average guests": "2"
                                },
                                {
                                    "SZALLAS_NEV": "Fortuna panzió",
                                    "SZOBA_SZAMA": "1",
                                    "Average guests": "2"
                                },
                                {
                                    "SZALLAS_NEV": "Fortuna panzió",
                                    "SZOBA_SZAMA": "3",
                                    "Average guests": "2"
                                },
                                {
                                    "SZALLAS_NEV": "Fortuna panzió",
                                    "SZOBA_SZAMA": "15",
                                    "Average guests": "2"
                                },
                                {
                                    "SZALLAS_NEV": "Fortuna panzió",
                                    "SZOBA_SZAMA": "9",
                                    "Average guests": "2"
                                },
                                {
                                    "SZALLAS_NEV": "Fortuna panzió",
                                    "SZOBA_SZAMA": "2",
                                    "Average guests": "2"
                                },
                                {
                                    "SZALLAS_NEV": "Fortuna panzió",
                                    "SZOBA_SZAMA": "11",
                                    "Average guests": "2"
                                },
                                {
                                    "SZALLAS_NEV": "Fortuna panzió",
                                    "SZOBA_SZAMA": "11",
                                    "Average guests": "2"
                                },
                                {
                                    "SZALLAS_NEV": "Fortuna panzió",
                                    "SZOBA_SZAMA": "14",
                                    "Average guests": "2"
                                },
                                {
                                    "SZALLAS_NEV": "Fortuna Panzió",
                                    "SZOBA_SZAMA": "5",
                                    "Average guests": "2"
                                },
                                {
                                    "SZALLAS_NEV": "Fortuna panzió",
                                    "SZOBA_SZAMA": "15",
                                    "Average guests": "2"
                                },
                                {
                                    "SZALLAS_NEV": "Fortuna panzió",
                                    "SZOBA_SZAMA": "11",
                                    "Average guests": "2"
                                },
                                {
                                    "SZALLAS_NEV": "Fortuna Panzió",
                                    "SZOBA_SZAMA": "3",
                                    "Average guests": "2"
                                },
                                {
                                    "SZALLAS_NEV": "Fortuna panzió",
                                    "SZOBA_SZAMA": "15",
                                    "Average guests": "2"
                                },
                                {
                                    "SZALLAS_NEV": "Fortuna panzió",
                                    "SZOBA_SZAMA": "4",
                                    "Average guests": "2"
                                },
                                {
                                    "SZALLAS_NEV": "Fortuna panzió",
                                    "SZOBA_SZAMA": "3",
                                    "Average guests": "2"
                                },
                                {
                                    "SZALLAS_NEV": "Fortuna panzió",
                                    "SZOBA_SZAMA": "14",
                                    "Average guests": "2"
                                },
                                {
                                    "SZALLAS_NEV": "Fortuna Panzió",
                                    "SZOBA_SZAMA": "7",
                                    "Average guests": "2"
                                },
                                {
                                    "SZALLAS_NEV": "Fortuna Panzió",
                                    "SZOBA_SZAMA": "4",
                                    "Average guests": "2"
                                },
                                {
                                    "SZALLAS_NEV": "Fortuna panzió",
                                    "SZOBA_SZAMA": "11",
                                    "Average guests": "2"
                                },
                                {
                                    "SZALLAS_NEV": "Fortuna Panzió",
                                    "SZOBA_SZAMA": "10",
                                    "Average guests": "2"
                                },
                                {
                                    "SZALLAS_NEV": "Fortuna panzió",
                                    "SZOBA_SZAMA": "15",
                                    "Average guests": "2"
                                },
                                {
                                    "SZALLAS_NEV": "Fortuna Panzió",
                                    "SZOBA_SZAMA": "9",
                                    "Average guests": "2"
                                },
                                {
                                    "SZALLAS_NEV": "Fortuna Panzió",
                                    "SZOBA_SZAMA": "9",
                                    "Average guests": "2"
                                },
                                {
                                    "SZALLAS_NEV": "Fortuna Panzió",
                                    "SZOBA_SZAMA": "5",
                                    "Average guests": "2"
                                },
                                {
                                    "SZALLAS_NEV": "Fortuna Panzió",
                                    "SZOBA_SZAMA": "4",
                                    "Average guests": "2"
                                },
                                {
                                    "SZALLAS_NEV": "Fortuna panzió",
                                    "SZOBA_SZAMA": "14",
                                    "Average guests": "2"
                                },
                                {
                                    "SZALLAS_NEV": "Fortuna panzió",
                                    "SZOBA_SZAMA": "5",
                                    "Average guests": "2"
                                },
                                {
                                    "SZALLAS_NEV": "Fortuna Panzió",
                                    "SZOBA_SZAMA": "9",
                                    "Average guests": "2"
                                },
                                {
                                    "SZALLAS_NEV": "Gold Hotel",
                                    "SZOBA_SZAMA": "6",
                                    "Average guests": "1"
                                },
                                {
                                    "SZALLAS_NEV": "Gold Hotel",
                                    "SZOBA_SZAMA": "18",
                                    "Average guests": "1"
                                },
                                {
                                    "SZALLAS_NEV": "Gold Hotel",
                                    "SZOBA_SZAMA": "5",
                                    "Average guests": "1"
                                },
                                {
                                    "SZALLAS_NEV": "Gold Hotel",
                                    "SZOBA_SZAMA": "7",
                                    "Average guests": "1"
                                },
                                {
                                    "SZALLAS_NEV": "Gold Hotel",
                                    "SZOBA_SZAMA": "21",
                                    "Average guests": "2"
                                },
                                {
                                    "SZALLAS_NEV": "Gold Hotel",
                                    "SZOBA_SZAMA": "12",
                                    "Average guests": "2"
                                },
                                {
                                    "SZALLAS_NEV": "Gold Hotel",
                                    "SZOBA_SZAMA": "26",
                                    "Average guests": "2"
                                },
                                {
                                    "SZALLAS_NEV": "Gold Hotel",
                                    "SZOBA_SZAMA": "20",
                                    "Average guests": "2"
                                },
                                {
                                    "SZALLAS_NEV": "Gold Hotel",
                                    "SZOBA_SZAMA": "22",
                                    "Average guests": "2"
                                },
                                {
                                    "SZALLAS_NEV": "Gold Hotel",
                                    "SZOBA_SZAMA": "23",
                                    "Average guests": "2"
                                },
                                {
                                    "SZALLAS_NEV": "Gold Hotel",
                                    "SZOBA_SZAMA": "29",
                                    "Average guests": "2"
                                },
                                {
                                    "SZALLAS_NEV": "Gold Hotel",
                                    "SZOBA_SZAMA": "1",
                                    "Average guests": "2"
                                },
                                {
                                    "SZALLAS_NEV": "Gold Hotel",
                                    "SZOBA_SZAMA": "2",
                                    "Average guests": "2"
                                },
                                {
                                    "SZALLAS_NEV": "Gold Hotel",
                                    "SZOBA_SZAMA": "5",
                                    "Average guests": "2"
                                },
                                {
                                    "SZALLAS_NEV": "Gold Hotel",
                                    "SZOBA_SZAMA": "15",
                                    "Average guests": "2"
                                },
                                {
                                    "SZALLAS_NEV": "Gold Hotel",
                                    "SZOBA_SZAMA": "3",
                                    "Average guests": "2"
                                },
                                {
                                    "SZALLAS_NEV": "Gold Hotel",
                                    "SZOBA_SZAMA": "1",
                                    "Average guests": "2"
                                },
                                {
                                    "SZALLAS_NEV": "Gold Hotel",
                                    "SZOBA_SZAMA": "21",
                                    "Average guests": "2"
                                },
                                {
                                    "SZALLAS_NEV": "Gold Hotel",
                                    "SZOBA_SZAMA": "11",
                                    "Average guests": "2"
                                },
                                {
                                    "SZALLAS_NEV": "Gold Hotel",
                                    "SZOBA_SZAMA": "23",
                                    "Average guests": "2"
                                },
                                {
                                    "SZALLAS_NEV": "Gold Hotel",
                                    "SZOBA_SZAMA": "20",
                                    "Average guests": "1"
                                },
                                {
                                    "SZALLAS_NEV": "Gold Hotel",
                                    "SZOBA_SZAMA": "1",
                                    "Average guests": "1"
                                },
                                {
                                    "SZALLAS_NEV": "Gold Hotel",
                                    "SZOBA_SZAMA": "21",
                                    "Average guests": "2"
                                },
                                {
                                    "SZALLAS_NEV": "Gold Hotel",
                                    "SZOBA_SZAMA": "1",
                                    "Average guests": "1"
                                },
                                {
                                    "SZALLAS_NEV": "Gold Hotel",
                                    "SZOBA_SZAMA": "1",
                                    "Average guests": "2"
                                },
                                {
                                    "SZALLAS_NEV": "Gold Hotel",
                                    "SZOBA_SZAMA": "16",
                                    "Average guests": "2"
                                },
                                {
                                    "SZALLAS_NEV": "Gold Hotel",
                                    "SZOBA_SZAMA": "28",
                                    "Average guests": "2"
                                },
                                {
                                    "SZALLAS_NEV": "Gold Hotel",
                                    "SZOBA_SZAMA": "24",
                                    "Average guests": "2"
                                },
                                {
                                    "SZALLAS_NEV": "Gold Hotel",
                                    "SZOBA_SZAMA": "9",
                                    "Average guests": "2"
                                },
                                {
                                    "SZALLAS_NEV": "Gold Hotel",
                                    "SZOBA_SZAMA": "10",
                                    "Average guests": "2"
                                },
                                {
                                    "SZALLAS_NEV": "Gold Hotel",
                                    "SZOBA_SZAMA": "18",
                                    "Average guests": "2"
                                },
                                {
                                    "SZALLAS_NEV": "Gold Hotel",
                                    "SZOBA_SZAMA": "4",
                                    "Average guests": "2"
                                },
                                {
                                    "SZALLAS_NEV": "Gold Hotel",
                                    "SZOBA_SZAMA": "21",
                                    "Average guests": "2"
                                },
                                {
                                    "SZALLAS_NEV": "Gold Hotel",
                                    "SZOBA_SZAMA": "29",
                                    "Average guests": "3"
                                },
                                {
                                    "SZALLAS_NEV": "Gold Hotel",
                                    "SZOBA_SZAMA": "17",
                                    "Average guests": "3"
                                },
                                {
                                    "SZALLAS_NEV": "Gold Hotel",
                                    "SZOBA_SZAMA": "19",
                                    "Average guests": "3"
                                },
                                {
                                    "SZALLAS_NEV": "Gold Hotel",
                                    "SZOBA_SZAMA": "6",
                                    "Average guests": "3"
                                },
                                {
                                    "SZALLAS_NEV": "Gold Hotel",
                                    "SZOBA_SZAMA": "32",
                                    "Average guests": "3"
                                },
                                {
                                    "SZALLAS_NEV": "Gold Hotel",
                                    "SZOBA_SZAMA": "23",
                                    "Average guests": "3"
                                },
                                {
                                    "SZALLAS_NEV": "Gold Hotel",
                                    "SZOBA_SZAMA": "17",
                                    "Average guests": "2"
                                },
                                {
                                    "SZALLAS_NEV": "Gold Hotel",
                                    "SZOBA_SZAMA": "5",
                                    "Average guests": "2"
                                },
                                {
                                    "SZALLAS_NEV": "Gold Hotel",
                                    "SZOBA_SZAMA": "29",
                                    "Average guests": "2"
                                },
                                {
                                    "SZALLAS_NEV": "Gold Hotel",
                                    "SZOBA_SZAMA": "34",
                                    "Average guests": "3"
                                },
                                {
                                    "SZALLAS_NEV": "Gold Hotel",
                                    "SZOBA_SZAMA": "7",
                                    "Average guests": "2"
                                },
                                {
                                    "SZALLAS_NEV": "Gold Hotel",
                                    "SZOBA_SZAMA": "8",
                                    "Average guests": "2"
                                },
                                {
                                    "SZALLAS_NEV": "Gold Hotel",
                                    "SZOBA_SZAMA": "26",
                                    "Average guests": "2"
                                },
                                {
                                    "SZALLAS_NEV": "Gold Hotel",
                                    "SZOBA_SZAMA": "14",
                                    "Average guests": "2"
                                },
                                {
                                    "SZALLAS_NEV": "Gold Hotel",
                                    "SZOBA_SZAMA": "33",
                                    "Average guests": "2"
                                },
                                {
                                    "SZALLAS_NEV": "Gold Hotel",
                                    "SZOBA_SZAMA": "34",
                                    "Average guests": "2"
                                },
                                {
                                    "SZALLAS_NEV": "Gold Hotel",
                                    "SZOBA_SZAMA": "18",
                                    "Average guests": "2"
                                },
                                {
                                    "SZALLAS_NEV": "Gold Hotel",
                                    "SZOBA_SZAMA": "10",
                                    "Average guests": "2"
                                },
                                {
                                    "SZALLAS_NEV": "Gold Hotel",
                                    "SZOBA_SZAMA": "26",
                                    "Average guests": "2"
                                },
                                {
                                    "SZALLAS_NEV": "Gold Hotel",
                                    "SZOBA_SZAMA": "15",
                                    "Average guests": "2"
                                },
                                {
                                    "SZALLAS_NEV": "Gold Hotel",
                                    "SZOBA_SZAMA": "17",
                                    "Average guests": "2"
                                },
                                {
                                    "SZALLAS_NEV": "Gold Hotel",
                                    "SZOBA_SZAMA": "9",
                                    "Average guests": "2"
                                },
                                {
                                    "SZALLAS_NEV": "Gold Hotel",
                                    "SZOBA_SZAMA": "21",
                                    "Average guests": "2"
                                },
                                {
                                    "SZALLAS_NEV": "Gold Hotel",
                                    "SZOBA_SZAMA": "32",
                                    "Average guests": "2"
                                },
                                {
                                    "SZALLAS_NEV": "Gold Hotel",
                                    "SZOBA_SZAMA": "29",
                                    "Average guests": "2"
                                },
                                {
                                    "SZALLAS_NEV": "Gold Hotel",
                                    "SZOBA_SZAMA": "17",
                                    "Average guests": "2"
                                },
                                {
                                    "SZALLAS_NEV": "Gold Hotel",
                                    "SZOBA_SZAMA": "21",
                                    "Average guests": "2"
                                },
                                {
                                    "SZALLAS_NEV": "Gold Hotel",
                                    "SZOBA_SZAMA": "28",
                                    "Average guests": "2"
                                },
                                {
                                    "SZALLAS_NEV": "Gold Hotel",
                                    "SZOBA_SZAMA": "10",
                                    "Average guests": "2"
                                },
                                {
                                    "SZALLAS_NEV": "Gold Hotel",
                                    "SZOBA_SZAMA": "20",
                                    "Average guests": "2"
                                },
                                {
                                    "SZALLAS_NEV": "Gold Hotel",
                                    "SZOBA_SZAMA": "24",
                                    "Average guests": "2"
                                },
                                {
                                    "SZALLAS_NEV": "Gold Hotel",
                                    "SZOBA_SZAMA": "21",
                                    "Average guests": "2"
                                },
                                {
                                    "SZALLAS_NEV": "Gold Hotel",
                                    "SZOBA_SZAMA": "25",
                                    "Average guests": "1"
                                },
                                {
                                    "SZALLAS_NEV": "Gold Hotel",
                                    "SZOBA_SZAMA": "23",
                                    "Average guests": "2"
                                },
                                {
                                    "SZALLAS_NEV": "Gold Hotel",
                                    "SZOBA_SZAMA": "8",
                                    "Average guests": "1"
                                },
                                {
                                    "SZALLAS_NEV": "Gold Hotel",
                                    "SZOBA_SZAMA": "24",
                                    "Average guests": "2"
                                },
                                {
                                    "SZALLAS_NEV": "Gold Hotel",
                                    "SZOBA_SZAMA": "21",
                                    "Average guests": "2"
                                },
                                {
                                    "SZALLAS_NEV": "Gold Hotel",
                                    "SZOBA_SZAMA": "31",
                                    "Average guests": "2"
                                },
                                {
                                    "SZALLAS_NEV": "Gold Hotel",
                                    "SZOBA_SZAMA": "17",
                                    "Average guests": "2"
                                },
                                {
                                    "SZALLAS_NEV": "Gold Hotel",
                                    "SZOBA_SZAMA": "18",
                                    "Average guests": "2"
                                },
                                {
                                    "SZALLAS_NEV": "Gold Hotel",
                                    "SZOBA_SZAMA": "23",
                                    "Average guests": "2"
                                },
                                {
                                    "SZALLAS_NEV": "Gold Hotel",
                                    "SZOBA_SZAMA": "5",
                                    "Average guests": "2"
                                },
                                {
                                    "SZALLAS_NEV": "Gold Hotel",
                                    "SZOBA_SZAMA": "24",
                                    "Average guests": "2"
                                },
                                {
                                    "SZALLAS_NEV": "Gold Hotel",
                                    "SZOBA_SZAMA": "8",
                                    "Average guests": "2"
                                },
                                {
                                    "SZALLAS_NEV": "Gold Hotel",
                                    "SZOBA_SZAMA": "25",
                                    "Average guests": "2"
                                },
                                {
                                    "SZALLAS_NEV": "Gold Hotel",
                                    "SZOBA_SZAMA": "33",
                                    "Average guests": "2"
                                },
                                {
                                    "SZALLAS_NEV": "Gold Hotel",
                                    "SZOBA_SZAMA": "23",
                                    "Average guests": "2"
                                },
                                {
                                    "SZALLAS_NEV": "Gold Hotel",
                                    "SZOBA_SZAMA": "26",
                                    "Average guests": "2"
                                },
                                {
                                    "SZALLAS_NEV": "Gold Hotel",
                                    "SZOBA_SZAMA": "4",
                                    "Average guests": "2"
                                },
                                {
                                    "SZALLAS_NEV": "Gold Hotel",
                                    "SZOBA_SZAMA": "2",
                                    "Average guests": "2"
                                },
                                {
                                    "SZALLAS_NEV": "Gold Hotel",
                                    "SZOBA_SZAMA": "13",
                                    "Average guests": "2"
                                },
                                {
                                    "SZALLAS_NEV": "Gold Hotel",
                                    "SZOBA_SZAMA": "4",
                                    "Average guests": "2"
                                },
                                {
                                    "SZALLAS_NEV": "Gold Hotel",
                                    "SZOBA_SZAMA": "11",
                                    "Average guests": "2"
                                },
                                {
                                    "SZALLAS_NEV": "Gold Hotel",
                                    "SZOBA_SZAMA": "14",
                                    "Average guests": "2"
                                },
                                {
                                    "SZALLAS_NEV": "Gold Hotel",
                                    "SZOBA_SZAMA": "13",
                                    "Average guests": "2"
                                },
                                {
                                    "SZALLAS_NEV": "Gold Hotel",
                                    "SZOBA_SZAMA": "29",
                                    "Average guests": "3"
                                },
                                {
                                    "SZALLAS_NEV": "Gold Hotel",
                                    "SZOBA_SZAMA": "8",
                                    "Average guests": "2"
                                },
                                {
                                    "SZALLAS_NEV": "Gold Hotel",
                                    "SZOBA_SZAMA": "31",
                                    "Average guests": "2"
                                },
                                {
                                    "SZALLAS_NEV": "Gold Hotel",
                                    "SZOBA_SZAMA": "24",
                                    "Average guests": "2"
                                },
                                {
                                    "SZALLAS_NEV": "Gold Hotel",
                                    "SZOBA_SZAMA": "27",
                                    "Average guests": "2"
                                },
                                {
                                    "SZALLAS_NEV": "Gold Hotel",
                                    "SZOBA_SZAMA": "29",
                                    "Average guests": "2"
                                },
                                {
                                    "SZALLAS_NEV": "Gold Hotel",
                                    "SZOBA_SZAMA": "34",
                                    "Average guests": "2"
                                },
                                {
                                    "SZALLAS_NEV": "Gold Hotel",
                                    "SZOBA_SZAMA": "19",
                                    "Average guests": "2"
                                },
                                {
                                    "SZALLAS_NEV": "Gold Hotel",
                                    "SZOBA_SZAMA": "31",
                                    "Average guests": "2"
                                },
                                {
                                    "SZALLAS_NEV": "Gold Hotel",
                                    "SZOBA_SZAMA": "33",
                                    "Average guests": "2"
                                },
                                {
                                    "SZALLAS_NEV": "Gold Hotel",
                                    "SZOBA_SZAMA": "11",
                                    "Average guests": "2"
                                },
                                {
                                    "SZALLAS_NEV": "Gold Hotel",
                                    "SZOBA_SZAMA": "30",
                                    "Average guests": "2"
                                },
                                {
                                    "SZALLAS_NEV": "Gold Hotel",
                                    "SZOBA_SZAMA": "34",
                                    "Average guests": "2"
                                },
                                {
                                    "SZALLAS_NEV": "Gold Hotel",
                                    "SZOBA_SZAMA": "21",
                                    "Average guests": "2"
                                },
                                {
                                    "SZALLAS_NEV": "Gold Hotel",
                                    "SZOBA_SZAMA": "11",
                                    "Average guests": "2"
                                },
                                {
                                    "SZALLAS_NEV": "Gold Hotel",
                                    "SZOBA_SZAMA": "34",
                                    "Average guests": "2"
                                },
                                {
                                    "SZALLAS_NEV": "Gold Hotel",
                                    "SZOBA_SZAMA": "1",
                                    "Average guests": "2"
                                },
                                {
                                    "SZALLAS_NEV": "Gold Hotel",
                                    "SZOBA_SZAMA": "8",
                                    "Average guests": "2"
                                },
                                {
                                    "SZALLAS_NEV": "Gold Hotel",
                                    "SZOBA_SZAMA": "12",
                                    "Average guests": "2"
                                },
                                {
                                    "SZALLAS_NEV": "Gold Hotel",
                                    "SZOBA_SZAMA": "19",
                                    "Average guests": "2"
                                },
                                {
                                    "SZALLAS_NEV": "Gold Hotel",
                                    "SZOBA_SZAMA": "22",
                                    "Average guests": "2"
                                },
                                {
                                    "SZALLAS_NEV": "Gold Hotel",
                                    "SZOBA_SZAMA": "34",
                                    "Average guests": "2"
                                },
                                {
                                    "SZALLAS_NEV": "Gold Hotel",
                                    "SZOBA_SZAMA": "8",
                                    "Average guests": "2"
                                },
                                {
                                    "SZALLAS_NEV": "Gold Hotel",
                                    "SZOBA_SZAMA": "33",
                                    "Average guests": "2"
                                },
                                {
                                    "SZALLAS_NEV": "Gold Hotel",
                                    "SZOBA_SZAMA": "13",
                                    "Average guests": "2"
                                },
                                {
                                    "SZALLAS_NEV": "Gold Hotel",
                                    "SZOBA_SZAMA": "7",
                                    "Average guests": "2"
                                },
                                {
                                    "SZALLAS_NEV": "Gold Hotel",
                                    "SZOBA_SZAMA": "21",
                                    "Average guests": "2"
                                },
                                {
                                    "SZALLAS_NEV": "Gold Hotel",
                                    "SZOBA_SZAMA": "31",
                                    "Average guests": "2"
                                },
                                {
                                    "SZALLAS_NEV": "Gold Hotel",
                                    "SZOBA_SZAMA": "18",
                                    "Average guests": "2"
                                },
                                {
                                    "SZALLAS_NEV": "Gold Hotel",
                                    "SZOBA_SZAMA": "6",
                                    "Average guests": "2"
                                },
                                {
                                    "SZALLAS_NEV": "Gold Hotel",
                                    "SZOBA_SZAMA": "25",
                                    "Average guests": "2"
                                },
                                {
                                    "SZALLAS_NEV": "Gold Hotel",
                                    "SZOBA_SZAMA": "14",
                                    "Average guests": "2"
                                },
                                {
                                    "SZALLAS_NEV": "Gold Hotel",
                                    "SZOBA_SZAMA": "34",
                                    "Average guests": "2"
                                },
                                {
                                    "SZALLAS_NEV": "Gold Hotel",
                                    "SZOBA_SZAMA": "18",
                                    "Average guests": "2"
                                },
                                {
                                    "SZALLAS_NEV": "Gold Hotel",
                                    "SZOBA_SZAMA": "18",
                                    "Average guests": "2"
                                },
                                {
                                    "SZALLAS_NEV": "Gold Hotel",
                                    "SZOBA_SZAMA": "29",
                                    "Average guests": "2"
                                },
                                {
                                    "SZALLAS_NEV": "Gold Hotel",
                                    "SZOBA_SZAMA": "14",
                                    "Average guests": "2"
                                },
                                {
                                    "SZALLAS_NEV": "Gold Hotel",
                                    "SZOBA_SZAMA": "22",
                                    "Average guests": "2"
                                },
                                {
                                    "SZALLAS_NEV": "Gold Hotel",
                                    "SZOBA_SZAMA": "4",
                                    "Average guests": "2"
                                },
                                {
                                    "SZALLAS_NEV": "Gold Hotel",
                                    "SZOBA_SZAMA": "20",
                                    "Average guests": "2"
                                },
                                {
                                    "SZALLAS_NEV": "Gold Hotel",
                                    "SZOBA_SZAMA": "4",
                                    "Average guests": "2"
                                },
                                {
                                    "SZALLAS_NEV": "Gold Hotel",
                                    "SZOBA_SZAMA": "6",
                                    "Average guests": "2"
                                },
                                {
                                    "SZALLAS_NEV": "Gold Hotel",
                                    "SZOBA_SZAMA": "10",
                                    "Average guests": "1"
                                },
                                {
                                    "SZALLAS_NEV": "Gold Hotel",
                                    "SZOBA_SZAMA": "12",
                                    "Average guests": "2"
                                },
                                {
                                    "SZALLAS_NEV": "Gold Hotel",
                                    "SZOBA_SZAMA": "27",
                                    "Average guests": "2"
                                },
                                {
                                    "SZALLAS_NEV": "Gold Hotel",
                                    "SZOBA_SZAMA": "33",
                                    "Average guests": "2"
                                },
                                {
                                    "SZALLAS_NEV": "Gold Hotel",
                                    "SZOBA_SZAMA": "18",
                                    "Average guests": "2"
                                },
                                {
                                    "SZALLAS_NEV": "Gold Hotel",
                                    "SZOBA_SZAMA": "32",
                                    "Average guests": "2"
                                },
                                {
                                    "SZALLAS_NEV": "Gold Hotel",
                                    "SZOBA_SZAMA": "18",
                                    "Average guests": "2"
                                },
                                {
                                    "SZALLAS_NEV": "Gold Hotel",
                                    "SZOBA_SZAMA": "27",
                                    "Average guests": "2"
                                },
                                {
                                    "SZALLAS_NEV": "Gold Hotel",
                                    "SZOBA_SZAMA": "18",
                                    "Average guests": "2"
                                },
                                {
                                    "SZALLAS_NEV": "Gold Hotel",
                                    "SZOBA_SZAMA": "7",
                                    "Average guests": "1"
                                },
                                {
                                    "SZALLAS_NEV": "Gold Hotel",
                                    "SZOBA_SZAMA": "8",
                                    "Average guests": "1"
                                },
                                {
                                    "SZALLAS_NEV": "Gold Hotel",
                                    "SZOBA_SZAMA": "32",
                                    "Average guests": "2"
                                },
                                {
                                    "SZALLAS_NEV": "Gold Hotel",
                                    "SZOBA_SZAMA": "6",
                                    "Average guests": "1"
                                },
                                {
                                    "SZALLAS_NEV": "Gold Hotel",
                                    "SZOBA_SZAMA": "17",
                                    "Average guests": "1"
                                },
                                {
                                    "SZALLAS_NEV": "Gold Hotel",
                                    "SZOBA_SZAMA": "9",
                                    "Average guests": "1"
                                },
                                {
                                    "SZALLAS_NEV": "Gold Hotel",
                                    "SZOBA_SZAMA": "5",
                                    "Average guests": "2"
                                },
                                {
                                    "SZALLAS_NEV": "Gold Hotel",
                                    "SZOBA_SZAMA": "1",
                                    "Average guests": "2"
                                },
                                {
                                    "SZALLAS_NEV": "Gold Hotel",
                                    "SZOBA_SZAMA": "12",
                                    "Average guests": "2"
                                },
                                {
                                    "SZALLAS_NEV": "Gold Hotel",
                                    "SZOBA_SZAMA": "33",
                                    "Average guests": "2"
                                },
                                {
                                    "SZALLAS_NEV": "Gold Hotel",
                                    "SZOBA_SZAMA": "24",
                                    "Average guests": "2"
                                },
                                {
                                    "SZALLAS_NEV": "Gold Hotel",
                                    "SZOBA_SZAMA": "23",
                                    "Average guests": "2"
                                },
                                {
                                    "SZALLAS_NEV": "Gold Hotel",
                                    "SZOBA_SZAMA": "11",
                                    "Average guests": "2"
                                },
                                {
                                    "SZALLAS_NEV": "Gold Hotel",
                                    "SZOBA_SZAMA": "18",
                                    "Average guests": "2"
                                },
                                {
                                    "SZALLAS_NEV": "Gold Hotel",
                                    "SZOBA_SZAMA": "3",
                                    "Average guests": "2"
                                },
                                {
                                    "SZALLAS_NEV": "Gold Hotel",
                                    "SZOBA_SZAMA": "34",
                                    "Average guests": "2"
                                },
                                {
                                    "SZALLAS_NEV": "Gold Hotel",
                                    "SZOBA_SZAMA": "8",
                                    "Average guests": "2"
                                },
                                {
                                    "SZALLAS_NEV": "Gold Hotel",
                                    "SZOBA_SZAMA": "18",
                                    "Average guests": "1"
                                },
                                {
                                    "SZALLAS_NEV": "Gold Hotel",
                                    "SZOBA_SZAMA": "5",
                                    "Average guests": "1"
                                },
                                {
                                    "SZALLAS_NEV": "Gold Hotel",
                                    "SZOBA_SZAMA": "9",
                                    "Average guests": "1"
                                },
                                {
                                    "SZALLAS_NEV": "Gold Hotel",
                                    "SZOBA_SZAMA": "19",
                                    "Average guests": "1"
                                },
                                {
                                    "SZALLAS_NEV": "Gold Hotel",
                                    "SZOBA_SZAMA": "21",
                                    "Average guests": "2"
                                },
                                {
                                    "SZALLAS_NEV": "Gold Hotel",
                                    "SZOBA_SZAMA": "25",
                                    "Average guests": "2"
                                },
                                {
                                    "SZALLAS_NEV": "Gold Hotel",
                                    "SZOBA_SZAMA": "21",
                                    "Average guests": "2"
                                },
                                {
                                    "SZALLAS_NEV": "Gold Hotel",
                                    "SZOBA_SZAMA": "22",
                                    "Average guests": "2"
                                },
                                {
                                    "SZALLAS_NEV": "Gold Hotel",
                                    "SZOBA_SZAMA": "31",
                                    "Average guests": "2"
                                },
                                {
                                    "SZALLAS_NEV": "Gold Hotel",
                                    "SZOBA_SZAMA": "31",
                                    "Average guests": "2"
                                },
                                {
                                    "SZALLAS_NEV": "Gold Hotel",
                                    "SZOBA_SZAMA": "8",
                                    "Average guests": "2"
                                },
                                {
                                    "SZALLAS_NEV": "Gold Hotel",
                                    "SZOBA_SZAMA": "15",
                                    "Average guests": "2"
                                },
                                {
                                    "SZALLAS_NEV": "Gold Hotel",
                                    "SZOBA_SZAMA": "27",
                                    "Average guests": "2"
                                },
                                {
                                    "SZALLAS_NEV": "Gold Hotel",
                                    "SZOBA_SZAMA": "13",
                                    "Average guests": "2"
                                },
                                {
                                    "SZALLAS_NEV": "Gold Hotel",
                                    "SZOBA_SZAMA": "27",
                                    "Average guests": "2"
                                },
                                {
                                    "SZALLAS_NEV": "Gold Hotel",
                                    "SZOBA_SZAMA": "12",
                                    "Average guests": "2"
                                },
                                {
                                    "SZALLAS_NEV": "Gold Hotel",
                                    "SZOBA_SZAMA": "26",
                                    "Average guests": "2"
                                },
                                {
                                    "SZALLAS_NEV": "Gold Hotel",
                                    "SZOBA_SZAMA": "2",
                                    "Average guests": "2"
                                },
                                {
                                    "SZALLAS_NEV": "Gold Hotel",
                                    "SZOBA_SZAMA": "16",
                                    "Average guests": "2"
                                },
                                {
                                    "SZALLAS_NEV": "Gold Hotel",
                                    "SZOBA_SZAMA": "16",
                                    "Average guests": "2"
                                },
                                {
                                    "SZALLAS_NEV": "Gold Hotel",
                                    "SZOBA_SZAMA": "7",
                                    "Average guests": "3"
                                },
                                {
                                    "SZALLAS_NEV": "Gold Hotel",
                                    "SZOBA_SZAMA": "12",
                                    "Average guests": "2"
                                },
                                {
                                    "SZALLAS_NEV": "Gold Hotel",
                                    "SZOBA_SZAMA": "25",
                                    "Average guests": "2"
                                },
                                {
                                    "SZALLAS_NEV": "Hotel Három Hattyú",
                                    "SZOBA_SZAMA": "35",
                                    "Average guests": "3"
                                },
                                {
                                    "SZALLAS_NEV": "Hotel Három Hattyú",
                                    "SZOBA_SZAMA": "17",
                                    "Average guests": "2"
                                },
                                {
                                    "SZALLAS_NEV": "Hotel Három Hattyú",
                                    "SZOBA_SZAMA": "33",
                                    "Average guests": "1"
                                },
                                {
                                    "SZALLAS_NEV": "Hotel Három Hattyú",
                                    "SZOBA_SZAMA": "25",
                                    "Average guests": "2"
                                },
                                {
                                    "SZALLAS_NEV": "Hotel Három Hattyú",
                                    "SZOBA_SZAMA": "10",
                                    "Average guests": "2"
                                },
                                {
                                    "SZALLAS_NEV": "Hotel Három Hattyú",
                                    "SZOBA_SZAMA": "21",
                                    "Average guests": "2"
                                },
                                {
                                    "SZALLAS_NEV": "Hotel Három Hattyú",
                                    "SZOBA_SZAMA": "6",
                                    "Average guests": "2"
                                },
                                {
                                    "SZALLAS_NEV": "Hotel Három Hattyú",
                                    "SZOBA_SZAMA": "16",
                                    "Average guests": "2"
                                },
                                {
                                    "SZALLAS_NEV": "Hotel Három Hattyú",
                                    "SZOBA_SZAMA": "27",
                                    "Average guests": "2"
                                },
                                {
                                    "SZALLAS_NEV": "Hotel Három Hattyú",
                                    "SZOBA_SZAMA": "19",
                                    "Average guests": "2"
                                },
                                {
                                    "SZALLAS_NEV": "Hotel Három Hattyú",
                                    "SZOBA_SZAMA": "4",
                                    "Average guests": "2"
                                },
                                {
                                    "SZALLAS_NEV": "Hotel Három Hattyú",
                                    "SZOBA_SZAMA": "27",
                                    "Average guests": "2"
                                },
                                {
                                    "SZALLAS_NEV": "Hotel Három Hattyú",
                                    "SZOBA_SZAMA": "15",
                                    "Average guests": "2"
                                },
                                {
                                    "SZALLAS_NEV": "Hotel Három Hattyú",
                                    "SZOBA_SZAMA": "19",
                                    "Average guests": "2"
                                },
                                {
                                    "SZALLAS_NEV": "Hotel Három Hattyú",
                                    "SZOBA_SZAMA": "6",
                                    "Average guests": "2"
                                },
                                {
                                    "SZALLAS_NEV": "Hotel Három Hattyú",
                                    "SZOBA_SZAMA": "8",
                                    "Average guests": "2"
                                },
                                {
                                    "SZALLAS_NEV": "Hotel Három Hattyú",
                                    "SZOBA_SZAMA": "9",
                                    "Average guests": "2"
                                },
                                {
                                    "SZALLAS_NEV": "Hotel Három Hattyú",
                                    "SZOBA_SZAMA": "7",
                                    "Average guests": "2"
                                },
                                {
                                    "SZALLAS_NEV": "Hotel Három Hattyú",
                                    "SZOBA_SZAMA": "1",
                                    "Average guests": "2"
                                },
                                {
                                    "SZALLAS_NEV": "Hotel Három Hattyú",
                                    "SZOBA_SZAMA": "10",
                                    "Average guests": "2"
                                },
                                {
                                    "SZALLAS_NEV": "Hotel Három Hattyú",
                                    "SZOBA_SZAMA": "37",
                                    "Average guests": "2"
                                },
                                {
                                    "SZALLAS_NEV": "Hotel Három Hattyú",
                                    "SZOBA_SZAMA": "19",
                                    "Average guests": "2"
                                },
                                {
                                    "SZALLAS_NEV": "Hotel Három Hattyú",
                                    "SZOBA_SZAMA": "5",
                                    "Average guests": "2"
                                },
                                {
                                    "SZALLAS_NEV": "Hotel Három Hattyú",
                                    "SZOBA_SZAMA": "37",
                                    "Average guests": "2"
                                },
                                {
                                    "SZALLAS_NEV": "Hotel Három Hattyú",
                                    "SZOBA_SZAMA": "31",
                                    "Average guests": "1"
                                },
                                {
                                    "SZALLAS_NEV": "Hotel Három Hattyú",
                                    "SZOBA_SZAMA": "34",
                                    "Average guests": "2"
                                },
                                {
                                    "SZALLAS_NEV": "Hotel Három Hattyú",
                                    "SZOBA_SZAMA": "28",
                                    "Average guests": "2"
                                },
                                {
                                    "SZALLAS_NEV": "Hotel Három Hattyú",
                                    "SZOBA_SZAMA": "37",
                                    "Average guests": "2"
                                },
                                {
                                    "SZALLAS_NEV": "Hotel Három Hattyú",
                                    "SZOBA_SZAMA": "8",
                                    "Average guests": "1"
                                },
                                {
                                    "SZALLAS_NEV": "Hotel Három Hattyú",
                                    "SZOBA_SZAMA": "22",
                                    "Average guests": "2"
                                },
                                {
                                    "SZALLAS_NEV": "Hotel Három Hattyú",
                                    "SZOBA_SZAMA": "20",
                                    "Average guests": "2"
                                },
                                {
                                    "SZALLAS_NEV": "Hotel Három Hattyú",
                                    "SZOBA_SZAMA": "33",
                                    "Average guests": "1"
                                },
                                {
                                    "SZALLAS_NEV": "Hotel Három Hattyú",
                                    "SZOBA_SZAMA": "2",
                                    "Average guests": "2"
                                },
                                {
                                    "SZALLAS_NEV": "Hotel Három Hattyú",
                                    "SZOBA_SZAMA": "25",
                                    "Average guests": "2"
                                },
                                {
                                    "SZALLAS_NEV": "Hotel Három Hattyú",
                                    "SZOBA_SZAMA": "27",
                                    "Average guests": "2"
                                },
                                {
                                    "SZALLAS_NEV": "Hotel Három Hattyú",
                                    "SZOBA_SZAMA": "21",
                                    "Average guests": "2"
                                },
                                {
                                    "SZALLAS_NEV": "Hotel Három Hattyú",
                                    "SZOBA_SZAMA": "27",
                                    "Average guests": "2"
                                },
                                {
                                    "SZALLAS_NEV": "Hotel Három Hattyú",
                                    "SZOBA_SZAMA": "20",
                                    "Average guests": "2"
                                },
                                {
                                    "SZALLAS_NEV": "Hotel Három Hattyú",
                                    "SZOBA_SZAMA": "24",
                                    "Average guests": "2"
                                },
                                {
                                    "SZALLAS_NEV": "Hotel Három Hattyú",
                                    "SZOBA_SZAMA": "33",
                                    "Average guests": "2"
                                },
                                {
                                    "SZALLAS_NEV": "Hotel Három Hattyú",
                                    "SZOBA_SZAMA": "13",
                                    "Average guests": "2"
                                },
                                {
                                    "SZALLAS_NEV": "Hotel Három Hattyú",
                                    "SZOBA_SZAMA": "4",
                                    "Average guests": "2"
                                },
                                {
                                    "SZALLAS_NEV": "Hotel Három Hattyú",
                                    "SZOBA_SZAMA": "13",
                                    "Average guests": "2"
                                },
                                {
                                    "SZALLAS_NEV": "Hotel Három Hattyú",
                                    "SZOBA_SZAMA": "28",
                                    "Average guests": "2"
                                },
                                {
                                    "SZALLAS_NEV": "Hotel Három Hattyú",
                                    "SZOBA_SZAMA": "28",
                                    "Average guests": "2"
                                },
                                {
                                    "SZALLAS_NEV": "Hotel Három Hattyú",
                                    "SZOBA_SZAMA": "30",
                                    "Average guests": "2"
                                },
                                {
                                    "SZALLAS_NEV": "Hotel Három Hattyú",
                                    "SZOBA_SZAMA": "27",
                                    "Average guests": "2"
                                },
                                {
                                    "SZALLAS_NEV": "Hotel Három Hattyú",
                                    "SZOBA_SZAMA": "32",
                                    "Average guests": "3"
                                },
                                {
                                    "SZALLAS_NEV": "Hotel Három Hattyú",
                                    "SZOBA_SZAMA": "2",
                                    "Average guests": "3"
                                },
                                {
                                    "SZALLAS_NEV": "Hotel Három Hattyú",
                                    "SZOBA_SZAMA": "29",
                                    "Average guests": "3"
                                },
                                {
                                    "SZALLAS_NEV": "Hotel Három Hattyú",
                                    "SZOBA_SZAMA": "4",
                                    "Average guests": "2"
                                },
                                {
                                    "SZALLAS_NEV": "Hotel Három Hattyú",
                                    "SZOBA_SZAMA": "6",
                                    "Average guests": "2"
                                },
                                {
                                    "SZALLAS_NEV": "Hotel Három Hattyú",
                                    "SZOBA_SZAMA": "20",
                                    "Average guests": "2"
                                },
                                {
                                    "SZALLAS_NEV": "Hotel Három Hattyú",
                                    "SZOBA_SZAMA": "12",
                                    "Average guests": "2"
                                },
                                {
                                    "SZALLAS_NEV": "Hotel Három Hattyú",
                                    "SZOBA_SZAMA": "9",
                                    "Average guests": "1"
                                },
                                {
                                    "SZALLAS_NEV": "Hotel Három Hattyú",
                                    "SZOBA_SZAMA": "29",
                                    "Average guests": "2"
                                },
                                {
                                    "SZALLAS_NEV": "Hotel Három Hattyú",
                                    "SZOBA_SZAMA": "16",
                                    "Average guests": "1"
                                },
                                {
                                    "SZALLAS_NEV": "Hotel Három Hattyú",
                                    "SZOBA_SZAMA": "11",
                                    "Average guests": "1"
                                },
                                {
                                    "SZALLAS_NEV": "Hotel Három Hattyú",
                                    "SZOBA_SZAMA": "28",
                                    "Average guests": "1"
                                },
                                {
                                    "SZALLAS_NEV": "Hotel Három Hattyú",
                                    "SZOBA_SZAMA": "38",
                                    "Average guests": "2"
                                },
                                {
                                    "SZALLAS_NEV": "Hotel Három Hattyú",
                                    "SZOBA_SZAMA": "7",
                                    "Average guests": "2"
                                },
                                {
                                    "SZALLAS_NEV": "Hotel Három Hattyú",
                                    "SZOBA_SZAMA": "29",
                                    "Average guests": "2"
                                },
                                {
                                    "SZALLAS_NEV": "Hotel Három Hattyú",
                                    "SZOBA_SZAMA": "39",
                                    "Average guests": "2"
                                },
                                {
                                    "SZALLAS_NEV": "Hotel Három Hattyú",
                                    "SZOBA_SZAMA": "7",
                                    "Average guests": "3"
                                },
                                {
                                    "SZALLAS_NEV": "Hotel Három Hattyú",
                                    "SZOBA_SZAMA": "4",
                                    "Average guests": "2"
                                },
                                {
                                    "SZALLAS_NEV": "Hotel Három Hattyú",
                                    "SZOBA_SZAMA": "1",
                                    "Average guests": "2"
                                },
                                {
                                    "SZALLAS_NEV": "Hotel Három Hattyú",
                                    "SZOBA_SZAMA": "31",
                                    "Average guests": "2"
                                },
                                {
                                    "SZALLAS_NEV": "Hotel Három Hattyú",
                                    "SZOBA_SZAMA": "24",
                                    "Average guests": "2"
                                },
                                {
                                    "SZALLAS_NEV": "Hotel Három Hattyú",
                                    "SZOBA_SZAMA": "3",
                                    "Average guests": "2"
                                },
                                {
                                    "SZALLAS_NEV": "Hotel Három Hattyú",
                                    "SZOBA_SZAMA": "31",
                                    "Average guests": "2"
                                },
                                {
                                    "SZALLAS_NEV": "Hotel Három Hattyú",
                                    "SZOBA_SZAMA": "36",
                                    "Average guests": "2"
                                },
                                {
                                    "SZALLAS_NEV": "Hotel Három Hattyú",
                                    "SZOBA_SZAMA": "30",
                                    "Average guests": "2"
                                },
                                {
                                    "SZALLAS_NEV": "Hotel Három Hattyú",
                                    "SZOBA_SZAMA": "22",
                                    "Average guests": "2"
                                },
                                {
                                    "SZALLAS_NEV": "Hotel Három Hattyú",
                                    "SZOBA_SZAMA": "6",
                                    "Average guests": "2"
                                },
                                {
                                    "SZALLAS_NEV": "Hotel Három Hattyú",
                                    "SZOBA_SZAMA": "21",
                                    "Average guests": "2"
                                },
                                {
                                    "SZALLAS_NEV": "Hotel Három Hattyú",
                                    "SZOBA_SZAMA": "22",
                                    "Average guests": "2"
                                },
                                {
                                    "SZALLAS_NEV": "Hotel Három Hattyú",
                                    "SZOBA_SZAMA": "36",
                                    "Average guests": "2"
                                },
                                {
                                    "SZALLAS_NEV": "Hotel Három Hattyú",
                                    "SZOBA_SZAMA": "2",
                                    "Average guests": "2"
                                },
                                {
                                    "SZALLAS_NEV": "Hotel Három Hattyú",
                                    "SZOBA_SZAMA": "19",
                                    "Average guests": "2"
                                },
                                {
                                    "SZALLAS_NEV": "Hotel Három Hattyú",
                                    "SZOBA_SZAMA": "38",
                                    "Average guests": "2"
                                },
                                {
                                    "SZALLAS_NEV": "Hotel Három Hattyú",
                                    "SZOBA_SZAMA": "24",
                                    "Average guests": "2"
                                },
                                {
                                    "SZALLAS_NEV": "Hotel Három Hattyú",
                                    "SZOBA_SZAMA": "7",
                                    "Average guests": "2"
                                },
                                {
                                    "SZALLAS_NEV": "Hotel Három Hattyú",
                                    "SZOBA_SZAMA": "14",
                                    "Average guests": "2"
                                },
                                {
                                    "SZALLAS_NEV": "Hotel Három Hattyú",
                                    "SZOBA_SZAMA": "2",
                                    "Average guests": "2"
                                },
                                {
                                    "SZALLAS_NEV": "Hotel Három Hattyú",
                                    "SZOBA_SZAMA": "23",
                                    "Average guests": "3"
                                },
                                {
                                    "SZALLAS_NEV": "Hotel Három Hattyú",
                                    "SZOBA_SZAMA": "37",
                                    "Average guests": "2"
                                },
                                {
                                    "SZALLAS_NEV": "Hotel Három Hattyú",
                                    "SZOBA_SZAMA": "32",
                                    "Average guests": "3"
                                },
                                {
                                    "SZALLAS_NEV": "Hotel Három Hattyú",
                                    "SZOBA_SZAMA": "20",
                                    "Average guests": "3"
                                },
                                {
                                    "SZALLAS_NEV": "Hotel Három Hattyú",
                                    "SZOBA_SZAMA": "5",
                                    "Average guests": "2"
                                },
                                {
                                    "SZALLAS_NEV": "Hotel Három Hattyú",
                                    "SZOBA_SZAMA": "31",
                                    "Average guests": "2"
                                },
                                {
                                    "SZALLAS_NEV": "Hotel Három Hattyú",
                                    "SZOBA_SZAMA": "8",
                                    "Average guests": "2"
                                },
                                {
                                    "SZALLAS_NEV": "Hotel Három Hattyú",
                                    "SZOBA_SZAMA": "32",
                                    "Average guests": "2"
                                },
                                {
                                    "SZALLAS_NEV": "Hotel Három Hattyú",
                                    "SZOBA_SZAMA": "9",
                                    "Average guests": "2"
                                },
                                {
                                    "SZALLAS_NEV": "Hotel Három Hattyú",
                                    "SZOBA_SZAMA": "19",
                                    "Average guests": "2"
                                },
                                {
                                    "SZALLAS_NEV": "Hotel Három Hattyú",
                                    "SZOBA_SZAMA": "23",
                                    "Average guests": "2"
                                },
                                {
                                    "SZALLAS_NEV": "Hotel Három Hattyú",
                                    "SZOBA_SZAMA": "30",
                                    "Average guests": "2"
                                },
                                {
                                    "SZALLAS_NEV": "Hotel Három Hattyú",
                                    "SZOBA_SZAMA": "20",
                                    "Average guests": "2"
                                },
                                {
                                    "SZALLAS_NEV": "Hotel Három Hattyú",
                                    "SZOBA_SZAMA": "5",
                                    "Average guests": "2"
                                },
                                {
                                    "SZALLAS_NEV": "Hotel Három Hattyú",
                                    "SZOBA_SZAMA": "18",
                                    "Average guests": "2"
                                },
                                {
                                    "SZALLAS_NEV": "Hotel Három Hattyú",
                                    "SZOBA_SZAMA": "25",
                                    "Average guests": "2"
                                },
                                {
                                    "SZALLAS_NEV": "Hotel Három Hattyú",
                                    "SZOBA_SZAMA": "22",
                                    "Average guests": "2"
                                },
                                {
                                    "SZALLAS_NEV": "Hotel Három Hattyú",
                                    "SZOBA_SZAMA": "36",
                                    "Average guests": "2"
                                },
                                {
                                    "SZALLAS_NEV": "Hotel Három Hattyú",
                                    "SZOBA_SZAMA": "31",
                                    "Average guests": "2"
                                },
                                {
                                    "SZALLAS_NEV": "Hotel Három Hattyú",
                                    "SZOBA_SZAMA": "25",
                                    "Average guests": "2"
                                },
                                {
                                    "SZALLAS_NEV": "Hotel Három Hattyú",
                                    "SZOBA_SZAMA": "20",
                                    "Average guests": "2"
                                },
                                {
                                    "SZALLAS_NEV": "Hotel Három Hattyú",
                                    "SZOBA_SZAMA": "32",
                                    "Average guests": "2"
                                },
                                {
                                    "SZALLAS_NEV": "Hotel Három Hattyú",
                                    "SZOBA_SZAMA": "3",
                                    "Average guests": "1"
                                },
                                {
                                    "SZALLAS_NEV": "Hotel Három Hattyú",
                                    "SZOBA_SZAMA": "14",
                                    "Average guests": "2"
                                },
                                {
                                    "SZALLAS_NEV": "Hotel Három Hattyú",
                                    "SZOBA_SZAMA": "27",
                                    "Average guests": "1"
                                },
                                {
                                    "SZALLAS_NEV": "Hotel Három Hattyú",
                                    "SZOBA_SZAMA": "1",
                                    "Average guests": "1"
                                },
                                {
                                    "SZALLAS_NEV": "Hotel Három Hattyú",
                                    "SZOBA_SZAMA": "32",
                                    "Average guests": "2"
                                },
                                {
                                    "SZALLAS_NEV": "Hotel Három Hattyú",
                                    "SZOBA_SZAMA": "34",
                                    "Average guests": "2"
                                },
                                {
                                    "SZALLAS_NEV": "Hotel Három Hattyú",
                                    "SZOBA_SZAMA": "3",
                                    "Average guests": "2"
                                },
                                {
                                    "SZALLAS_NEV": "Hotel Három Hattyú",
                                    "SZOBA_SZAMA": "31",
                                    "Average guests": "2"
                                },
                                {
                                    "SZALLAS_NEV": "Hotel Három Hattyú",
                                    "SZOBA_SZAMA": "37",
                                    "Average guests": "3"
                                },
                                {
                                    "SZALLAS_NEV": "Hotel Három Hattyú",
                                    "SZOBA_SZAMA": "16",
                                    "Average guests": "3"
                                },
                                {
                                    "SZALLAS_NEV": "Hotel Három Hattyú",
                                    "SZOBA_SZAMA": "33",
                                    "Average guests": "3"
                                },
                                {
                                    "SZALLAS_NEV": "Hotel Három Hattyú",
                                    "SZOBA_SZAMA": "4",
                                    "Average guests": "2"
                                },
                                {
                                    "SZALLAS_NEV": "Hotel Három Hattyú",
                                    "SZOBA_SZAMA": "32",
                                    "Average guests": "2"
                                },
                                {
                                    "SZALLAS_NEV": "Hotel Három Hattyú",
                                    "SZOBA_SZAMA": "17",
                                    "Average guests": "2"
                                },
                                {
                                    "SZALLAS_NEV": "Hotel Három Hattyú",
                                    "SZOBA_SZAMA": "27",
                                    "Average guests": "2"
                                },
                                {
                                    "SZALLAS_NEV": "Hotel Három Hattyú",
                                    "SZOBA_SZAMA": "23",
                                    "Average guests": "2"
                                },
                                {
                                    "SZALLAS_NEV": "Hotel Három Hattyú",
                                    "SZOBA_SZAMA": "16",
                                    "Average guests": "2"
                                },
                                {
                                    "SZALLAS_NEV": "Hotel Három Hattyú",
                                    "SZOBA_SZAMA": "33",
                                    "Average guests": "2"
                                },
                                {
                                    "SZALLAS_NEV": "Hotel Három Hattyú",
                                    "SZOBA_SZAMA": "37",
                                    "Average guests": "2"
                                },
                                {
                                    "SZALLAS_NEV": "Hotel Három Hattyú",
                                    "SZOBA_SZAMA": "21",
                                    "Average guests": "2"
                                },
                                {
                                    "SZALLAS_NEV": "Hotel Három Hattyú",
                                    "SZOBA_SZAMA": "38",
                                    "Average guests": "2"
                                },
                                {
                                    "SZALLAS_NEV": "Hotel Három Hattyú",
                                    "SZOBA_SZAMA": "19",
                                    "Average guests": "2"
                                },
                                {
                                    "SZALLAS_NEV": "Hotel Három Hattyú",
                                    "SZOBA_SZAMA": "4",
                                    "Average guests": "2"
                                },
                                {
                                    "SZALLAS_NEV": "Hotel Három Hattyú",
                                    "SZOBA_SZAMA": "4",
                                    "Average guests": "2"
                                },
                                {
                                    "SZALLAS_NEV": "Hotel Három Hattyú",
                                    "SZOBA_SZAMA": "10",
                                    "Average guests": "2"
                                },
                                {
                                    "SZALLAS_NEV": "Hotel Három Hattyú",
                                    "SZOBA_SZAMA": "11",
                                    "Average guests": "2"
                                },
                                {
                                    "SZALLAS_NEV": "Hotel Három Hattyú",
                                    "SZOBA_SZAMA": "34",
                                    "Average guests": "2"
                                },
                                {
                                    "SZALLAS_NEV": "Hotel Három Hattyú",
                                    "SZOBA_SZAMA": "32",
                                    "Average guests": "2"
                                },
                                {
                                    "SZALLAS_NEV": "Hotel Három Hattyú",
                                    "SZOBA_SZAMA": "30",
                                    "Average guests": "2"
                                },
                                {
                                    "SZALLAS_NEV": "Hotel Három Hattyú",
                                    "SZOBA_SZAMA": "12",
                                    "Average guests": "2"
                                },
                                {
                                    "SZALLAS_NEV": "Hotel Három Hattyú",
                                    "SZOBA_SZAMA": "25",
                                    "Average guests": "2"
                                },
                                {
                                    "SZALLAS_NEV": "Hotel Három Hattyú",
                                    "SZOBA_SZAMA": "21",
                                    "Average guests": "2"
                                },
                                {
                                    "SZALLAS_NEV": "Hotel Három Hattyú",
                                    "SZOBA_SZAMA": "17",
                                    "Average guests": "2"
                                },
                                {
                                    "SZALLAS_NEV": "Hotel Három Hattyú",
                                    "SZOBA_SZAMA": "3",
                                    "Average guests": "2"
                                },
                                {
                                    "SZALLAS_NEV": "Hotel Három Hattyú",
                                    "SZOBA_SZAMA": "39",
                                    "Average guests": "3"
                                },
                                {
                                    "SZALLAS_NEV": "Hotel Három Hattyú",
                                    "SZOBA_SZAMA": "36",
                                    "Average guests": "3"
                                },
                                {
                                    "SZALLAS_NEV": "Hotel Három Hattyú",
                                    "SZOBA_SZAMA": "16",
                                    "Average guests": "2"
                                },
                                {
                                    "SZALLAS_NEV": "Hotel Három Hattyú",
                                    "SZOBA_SZAMA": "31",
                                    "Average guests": "2"
                                },
                                {
                                    "SZALLAS_NEV": "Hotel Három Hattyú",
                                    "SZOBA_SZAMA": "28",
                                    "Average guests": "2"
                                },
                                {
                                    "SZALLAS_NEV": "Hotel Három Hattyú",
                                    "SZOBA_SZAMA": "4",
                                    "Average guests": "1"
                                },
                                {
                                    "SZALLAS_NEV": "Hotel Három Hattyú",
                                    "SZOBA_SZAMA": "6",
                                    "Average guests": "1"
                                },
                                {
                                    "SZALLAS_NEV": "Hotel Három Hattyú",
                                    "SZOBA_SZAMA": "32",
                                    "Average guests": "1"
                                },
                                {
                                    "SZALLAS_NEV": "Hotel Három Hattyú",
                                    "SZOBA_SZAMA": "3",
                                    "Average guests": "2"
                                },
                                {
                                    "SZALLAS_NEV": "Hotel Három Hattyú",
                                    "SZOBA_SZAMA": "18",
                                    "Average guests": "2"
                                },
                                {
                                    "SZALLAS_NEV": "Hotel Három Hattyú",
                                    "SZOBA_SZAMA": "31",
                                    "Average guests": "2"
                                },
                                {
                                    "SZALLAS_NEV": "Hotel Három Hattyú",
                                    "SZOBA_SZAMA": "7",
                                    "Average guests": "2"
                                },
                                {
                                    "SZALLAS_NEV": "Hotel Három Hattyú",
                                    "SZOBA_SZAMA": "1",
                                    "Average guests": "2"
                                },
                                {
                                    "SZALLAS_NEV": "Hotel Három Hattyú",
                                    "SZOBA_SZAMA": "13",
                                    "Average guests": "2"
                                },
                                {
                                    "SZALLAS_NEV": "Hotel Három Hattyú",
                                    "SZOBA_SZAMA": "8",
                                    "Average guests": "2"
                                },
                                {
                                    "SZALLAS_NEV": "Hotel Három Hattyú",
                                    "SZOBA_SZAMA": "34",
                                    "Average guests": "2"
                                },
                                {
                                    "SZALLAS_NEV": "Hotel Három Hattyú",
                                    "SZOBA_SZAMA": "9",
                                    "Average guests": "2"
                                },
                                {
                                    "SZALLAS_NEV": "Hotel Három Hattyú",
                                    "SZOBA_SZAMA": "29",
                                    "Average guests": "1"
                                },
                                {
                                    "SZALLAS_NEV": "Hotel Három Hattyú",
                                    "SZOBA_SZAMA": "7",
                                    "Average guests": "1"
                                },
                                {
                                    "SZALLAS_NEV": "Hotel Három Hattyú",
                                    "SZOBA_SZAMA": "34",
                                    "Average guests": "2"
                                },
                                {
                                    "SZALLAS_NEV": "Hotel Három Hattyú",
                                    "SZOBA_SZAMA": "20",
                                    "Average guests": "2"
                                },
                                {
                                    "SZALLAS_NEV": "Hotel Három Hattyú",
                                    "SZOBA_SZAMA": "36",
                                    "Average guests": "2"
                                },
                                {
                                    "SZALLAS_NEV": "Hotel Három Hattyú",
                                    "SZOBA_SZAMA": "6",
                                    "Average guests": "2"
                                },
                                {
                                    "SZALLAS_NEV": "Hotel Három Hattyú",
                                    "SZOBA_SZAMA": "32",
                                    "Average guests": "2"
                                },
                                {
                                    "SZALLAS_NEV": "Hotel Három Hattyú",
                                    "SZOBA_SZAMA": "39",
                                    "Average guests": "2"
                                },
                                {
                                    "SZALLAS_NEV": "Hotel Három Hattyú",
                                    "SZOBA_SZAMA": "17",
                                    "Average guests": "2"
                                },
                                {
                                    "SZALLAS_NEV": "Hotel Három Hattyú",
                                    "SZOBA_SZAMA": "26",
                                    "Average guests": "2"
                                },
                                {
                                    "SZALLAS_NEV": "Hotel Három Hattyú",
                                    "SZOBA_SZAMA": "27",
                                    "Average guests": "3"
                                },
                                {
                                    "SZALLAS_NEV": "Hotel Három Hattyú",
                                    "SZOBA_SZAMA": "28",
                                    "Average guests": "3"
                                },
                                {
                                    "SZALLAS_NEV": "Hotel Három Hattyú",
                                    "SZOBA_SZAMA": "28",
                                    "Average guests": "2"
                                },
                                {
                                    "SZALLAS_NEV": "Hotel Három Hattyú",
                                    "SZOBA_SZAMA": "10",
                                    "Average guests": "2"
                                },
                                {
                                    "SZALLAS_NEV": "Hotel Három Hattyú",
                                    "SZOBA_SZAMA": "30",
                                    "Average guests": "3"
                                },
                                {
                                    "SZALLAS_NEV": "Hotel Három Hattyú",
                                    "SZOBA_SZAMA": "13",
                                    "Average guests": "3"
                                },
                                {
                                    "SZALLAS_NEV": "Hotel Három Hattyú",
                                    "SZOBA_SZAMA": "9",
                                    "Average guests": "2"
                                },
                                {
                                    "SZALLAS_NEV": "Hotel Három Hattyú",
                                    "SZOBA_SZAMA": "29",
                                    "Average guests": "2"
                                },
                                {
                                    "SZALLAS_NEV": "Hotel Három Hattyú",
                                    "SZOBA_SZAMA": "20",
                                    "Average guests": "2"
                                },
                                {
                                    "SZALLAS_NEV": "Hotel Három Hattyú",
                                    "SZOBA_SZAMA": "30",
                                    "Average guests": "2"
                                },
                                {
                                    "SZALLAS_NEV": "Hotel Három Hattyú",
                                    "SZOBA_SZAMA": "17",
                                    "Average guests": "2"
                                },
                                {
                                    "SZALLAS_NEV": "Hotel Három Hattyú",
                                    "SZOBA_SZAMA": "23",
                                    "Average guests": "3"
                                },
                                {
                                    "SZALLAS_NEV": "Hotel Három Hattyú",
                                    "SZOBA_SZAMA": "23",
                                    "Average guests": "3"
                                },
                                {
                                    "SZALLAS_NEV": "Hotel Három Hattyú",
                                    "SZOBA_SZAMA": "36",
                                    "Average guests": "3"
                                },
                                {
                                    "SZALLAS_NEV": "Hotel Három Hattyú",
                                    "SZOBA_SZAMA": "26",
                                    "Average guests": "3"
                                },
                                {
                                    "SZALLAS_NEV": "Hotel Három Hattyú",
                                    "SZOBA_SZAMA": "39",
                                    "Average guests": "3"
                                },
                                {
                                    "SZALLAS_NEV": "Hotel Három Hattyú",
                                    "SZOBA_SZAMA": "16",
                                    "Average guests": "3"
                                },
                                {
                                    "SZALLAS_NEV": "Hotel Három Hattyú",
                                    "SZOBA_SZAMA": "11",
                                    "Average guests": "2"
                                },
                                {
                                    "SZALLAS_NEV": "Hotel Három Hattyú",
                                    "SZOBA_SZAMA": "4",
                                    "Average guests": "2"
                                },
                                {
                                    "SZALLAS_NEV": "Hotel Három Hattyú",
                                    "SZOBA_SZAMA": "15",
                                    "Average guests": "2"
                                },
                                {
                                    "SZALLAS_NEV": "Hotel Három Hattyú",
                                    "SZOBA_SZAMA": "14",
                                    "Average guests": "2"
                                },
                                {
                                    "SZALLAS_NEV": "Hotel Három Hattyú",
                                    "SZOBA_SZAMA": "22",
                                    "Average guests": "2"
                                },
                                {
                                    "SZALLAS_NEV": "Hotel Három Hattyú",
                                    "SZOBA_SZAMA": "34",
                                    "Average guests": "2"
                                },
                                {
                                    "SZALLAS_NEV": "Hotel Három Hattyú",
                                    "SZOBA_SZAMA": "2",
                                    "Average guests": "2"
                                },
                                {
                                    "SZALLAS_NEV": "Hotel Három Hattyú",
                                    "SZOBA_SZAMA": "7",
                                    "Average guests": "2"
                                },
                                {
                                    "SZALLAS_NEV": "Hotel Három Hattyú",
                                    "SZOBA_SZAMA": "14",
                                    "Average guests": "2"
                                },
                                {
                                    "SZALLAS_NEV": "Hotel Három Hattyú",
                                    "SZOBA_SZAMA": "5",
                                    "Average guests": "2"
                                },
                                {
                                    "SZALLAS_NEV": "Hotel Három Hattyú",
                                    "SZOBA_SZAMA": "24",
                                    "Average guests": "2"
                                },
                                {
                                    "SZALLAS_NEV": "Hotel Három Hattyú",
                                    "SZOBA_SZAMA": "25",
                                    "Average guests": "2"
                                },
                                {
                                    "SZALLAS_NEV": "Hotel Három Hattyú",
                                    "SZOBA_SZAMA": "2",
                                    "Average guests": "2"
                                },
                                {
                                    "SZALLAS_NEV": "Hotel Három Hattyú",
                                    "SZOBA_SZAMA": "4",
                                    "Average guests": "2"
                                },
                                {
                                    "SZALLAS_NEV": "Hotel Három Hattyú",
                                    "SZOBA_SZAMA": "19",
                                    "Average guests": "2"
                                },
                                {
                                    "SZALLAS_NEV": "Hotel Három Hattyú",
                                    "SZOBA_SZAMA": "25",
                                    "Average guests": "2"
                                },
                                {
                                    "SZALLAS_NEV": "Hotel Három Hattyú",
                                    "SZOBA_SZAMA": "6",
                                    "Average guests": "2"
                                },
                                {
                                    "SZALLAS_NEV": "Hotel Három Hattyú",
                                    "SZOBA_SZAMA": "38",
                                    "Average guests": "2"
                                },
                                {
                                    "SZALLAS_NEV": "Hotel Három Hattyú",
                                    "SZOBA_SZAMA": "37",
                                    "Average guests": "2"
                                },
                                {
                                    "SZALLAS_NEV": "Hotel Három Hattyú",
                                    "SZOBA_SZAMA": "38",
                                    "Average guests": "2"
                                },
                                {
                                    "SZALLAS_NEV": "Jáde panzió",
                                    "SZOBA_SZAMA": "2",
                                    "Average guests": "2"
                                },
                                {
                                    "SZALLAS_NEV": "Jáde panzió",
                                    "SZOBA_SZAMA": "1",
                                    "Average guests": "2"
                                },
                                {
                                    "SZALLAS_NEV": "Jáde panzió",
                                    "SZOBA_SZAMA": "1",
                                    "Average guests": "2"
                                },
                                {
                                    "SZALLAS_NEV": "Jáde panzió",
                                    "SZOBA_SZAMA": "3",
                                    "Average guests": "2"
                                },
                                {
                                    "SZALLAS_NEV": "Jáde panzió",
                                    "SZOBA_SZAMA": "2",
                                    "Average guests": "2"
                                },
                                {
                                    "SZALLAS_NEV": "Jáde panzió",
                                    "SZOBA_SZAMA": "2",
                                    "Average guests": "1"
                                },
                                {
                                    "SZALLAS_NEV": "Jáde panzió",
                                    "SZOBA_SZAMA": "4",
                                    "Average guests": "2"
                                },
                                {
                                    "SZALLAS_NEV": "Jáde panzió",
                                    "SZOBA_SZAMA": "1",
                                    "Average guests": "2"
                                },
                                {
                                    "SZALLAS_NEV": "Jáde panzió",
                                    "SZOBA_SZAMA": "4",
                                    "Average guests": "2"
                                },
                                {
                                    "SZALLAS_NEV": "Jáde panzió",
                                    "SZOBA_SZAMA": "3",
                                    "Average guests": "2"
                                },
                                {
                                    "SZALLAS_NEV": "Jáde panzió",
                                    "SZOBA_SZAMA": "5",
                                    "Average guests": "2"
                                },
                                {
                                    "SZALLAS_NEV": "Jáde panzió",
                                    "SZOBA_SZAMA": "5",
                                    "Average guests": "2"
                                },
                                {
                                    "SZALLAS_NEV": "Jáde panzió",
                                    "SZOBA_SZAMA": "2",
                                    "Average guests": "2"
                                },
                                {
                                    "SZALLAS_NEV": "Jáde panzió",
                                    "SZOBA_SZAMA": "1",
                                    "Average guests": "2"
                                },
                                {
                                    "SZALLAS_NEV": "Jáde panzió",
                                    "SZOBA_SZAMA": "1",
                                    "Average guests": "2"
                                },
                                {
                                    "SZALLAS_NEV": "Jáde panzió",
                                    "SZOBA_SZAMA": "5",
                                    "Average guests": "2"
                                },
                                {
                                    "SZALLAS_NEV": "Jáde panzió",
                                    "SZOBA_SZAMA": "3",
                                    "Average guests": "2"
                                },
                                {
                                    "SZALLAS_NEV": "Jáde panzió",
                                    "SZOBA_SZAMA": "3",
                                    "Average guests": "2"
                                },
                                {
                                    "SZALLAS_NEV": "Jáde panzió",
                                    "SZOBA_SZAMA": "4",
                                    "Average guests": "2"
                                },
                                {
                                    "SZALLAS_NEV": "Jáde panzió",
                                    "SZOBA_SZAMA": "5",
                                    "Average guests": "2"
                                },
                                {
                                    "SZALLAS_NEV": "Jáde panzió",
                                    "SZOBA_SZAMA": "5",
                                    "Average guests": "2"
                                },
                                {
                                    "SZALLAS_NEV": "Jáde panzió",
                                    "SZOBA_SZAMA": "4",
                                    "Average guests": "2"
                                },
                                {
                                    "SZALLAS_NEV": "Jáde panzió",
                                    "SZOBA_SZAMA": "3",
                                    "Average guests": "2"
                                },
                                {
                                    "SZALLAS_NEV": "Jáde panzió",
                                    "SZOBA_SZAMA": "4",
                                    "Average guests": "2"
                                },
                                {
                                    "SZALLAS_NEV": "Jáde panzió",
                                    "SZOBA_SZAMA": "4",
                                    "Average guests": "2"
                                },
                                {
                                    "SZALLAS_NEV": "Jáde panzió",
                                    "SZOBA_SZAMA": "2",
                                    "Average guests": "2"
                                },
                                {
                                    "SZALLAS_NEV": "Jáde panzió",
                                    "SZOBA_SZAMA": "1",
                                    "Average guests": "2"
                                },
                                {
                                    "SZALLAS_NEV": "Jáde panzió",
                                    "SZOBA_SZAMA": "3",
                                    "Average guests": "2"
                                },
                                {
                                    "SZALLAS_NEV": "Jáde panzió",
                                    "SZOBA_SZAMA": "5",
                                    "Average guests": "2"
                                },
                                {
                                    "SZALLAS_NEV": "Kentaur Hotel",
                                    "SZOBA_SZAMA": "19",
                                    "Average guests": "4"
                                },
                                {
                                    "SZALLAS_NEV": "Kentaur Hotel",
                                    "SZOBA_SZAMA": "34",
                                    "Average guests": "3"
                                },
                                {
                                    "SZALLAS_NEV": "Kentaur Hotel",
                                    "SZOBA_SZAMA": "29",
                                    "Average guests": "2"
                                },
                                {
                                    "SZALLAS_NEV": "Kentaur Hotel",
                                    "SZOBA_SZAMA": "30",
                                    "Average guests": "2"
                                },
                                {
                                    "SZALLAS_NEV": "Kentaur Hotel",
                                    "SZOBA_SZAMA": "21",
                                    "Average guests": "2"
                                },
                                {
                                    "SZALLAS_NEV": "Kentaur Hotel",
                                    "SZOBA_SZAMA": "28",
                                    "Average guests": "2"
                                },
                                {
                                    "SZALLAS_NEV": "Kentaur Hotel",
                                    "SZOBA_SZAMA": "25",
                                    "Average guests": "2"
                                },
                                {
                                    "SZALLAS_NEV": "Kentaur Hotel",
                                    "SZOBA_SZAMA": "5",
                                    "Average guests": "2"
                                },
                                {
                                    "SZALLAS_NEV": "Kentaur Hotel",
                                    "SZOBA_SZAMA": "14",
                                    "Average guests": "2"
                                },
                                {
                                    "SZALLAS_NEV": "Kentaur Hotel",
                                    "SZOBA_SZAMA": "18",
                                    "Average guests": "2"
                                },
                                {
                                    "SZALLAS_NEV": "Kentaur Hotel",
                                    "SZOBA_SZAMA": "5",
                                    "Average guests": "2"
                                },
                                {
                                    "SZALLAS_NEV": "Kentaur Hotel",
                                    "SZOBA_SZAMA": "18",
                                    "Average guests": "2"
                                },
                                {
                                    "SZALLAS_NEV": "Kentaur Hotel",
                                    "SZOBA_SZAMA": "29",
                                    "Average guests": "2"
                                },
                                {
                                    "SZALLAS_NEV": "Kentaur Hotel",
                                    "SZOBA_SZAMA": "16",
                                    "Average guests": "2"
                                },
                                {
                                    "SZALLAS_NEV": "Kentaur Hotel",
                                    "SZOBA_SZAMA": "4",
                                    "Average guests": "2"
                                },
                                {
                                    "SZALLAS_NEV": "Kentaur Hotel",
                                    "SZOBA_SZAMA": "21",
                                    "Average guests": "2"
                                },
                                {
                                    "SZALLAS_NEV": "Kentaur Hotel",
                                    "SZOBA_SZAMA": "33",
                                    "Average guests": "2"
                                },
                                {
                                    "SZALLAS_NEV": "Kentaur Hotel",
                                    "SZOBA_SZAMA": "34",
                                    "Average guests": "2"
                                },
                                {
                                    "SZALLAS_NEV": "Kentaur Hotel",
                                    "SZOBA_SZAMA": "2",
                                    "Average guests": "2"
                                },
                                {
                                    "SZALLAS_NEV": "Kentaur Hotel",
                                    "SZOBA_SZAMA": "33",
                                    "Average guests": "2"
                                },
                                {
                                    "SZALLAS_NEV": "Kentaur Hotel",
                                    "SZOBA_SZAMA": "18",
                                    "Average guests": "2"
                                },
                                {
                                    "SZALLAS_NEV": "Kentaur Hotel",
                                    "SZOBA_SZAMA": "15",
                                    "Average guests": "2"
                                },
                                {
                                    "SZALLAS_NEV": "Kentaur Hotel",
                                    "SZOBA_SZAMA": "25",
                                    "Average guests": "2"
                                },
                                {
                                    "SZALLAS_NEV": "Kentaur Hotel",
                                    "SZOBA_SZAMA": "34",
                                    "Average guests": "2"
                                },
                                {
                                    "SZALLAS_NEV": "Kentaur Hotel",
                                    "SZOBA_SZAMA": "9",
                                    "Average guests": "2"
                                },
                                {
                                    "SZALLAS_NEV": "Kentaur Hotel",
                                    "SZOBA_SZAMA": "20",
                                    "Average guests": "2"
                                },
                                {
                                    "SZALLAS_NEV": "Kentaur Hotel",
                                    "SZOBA_SZAMA": "31",
                                    "Average guests": "2"
                                },
                                {
                                    "SZALLAS_NEV": "Kentaur Hotel",
                                    "SZOBA_SZAMA": "5",
                                    "Average guests": "2"
                                },
                                {
                                    "SZALLAS_NEV": "Kentaur Hotel",
                                    "SZOBA_SZAMA": "14",
                                    "Average guests": "1"
                                },
                                {
                                    "SZALLAS_NEV": "Kentaur Hotel",
                                    "SZOBA_SZAMA": "23",
                                    "Average guests": "2"
                                },
                                {
                                    "SZALLAS_NEV": "Kentaur Hotel",
                                    "SZOBA_SZAMA": "31",
                                    "Average guests": "2"
                                },
                                {
                                    "SZALLAS_NEV": "Kentaur Hotel",
                                    "SZOBA_SZAMA": "7",
                                    "Average guests": "1"
                                },
                                {
                                    "SZALLAS_NEV": "Kentaur Hotel",
                                    "SZOBA_SZAMA": "13",
                                    "Average guests": "1"
                                },
                                {
                                    "SZALLAS_NEV": "Kentaur Hotel",
                                    "SZOBA_SZAMA": "13",
                                    "Average guests": "1"
                                },
                                {
                                    "SZALLAS_NEV": "Kentaur Hotel",
                                    "SZOBA_SZAMA": "25",
                                    "Average guests": "2"
                                },
                                {
                                    "SZALLAS_NEV": "Kentaur Hotel",
                                    "SZOBA_SZAMA": "17",
                                    "Average guests": "2"
                                },
                                {
                                    "SZALLAS_NEV": "Kentaur Hotel",
                                    "SZOBA_SZAMA": "35",
                                    "Average guests": "2"
                                },
                                {
                                    "SZALLAS_NEV": "Kentaur Hotel",
                                    "SZOBA_SZAMA": "23",
                                    "Average guests": "2"
                                },
                                {
                                    "SZALLAS_NEV": "Kentaur Hotel",
                                    "SZOBA_SZAMA": "25",
                                    "Average guests": "2"
                                },
                                {
                                    "SZALLAS_NEV": "Kentaur Hotel",
                                    "SZOBA_SZAMA": "27",
                                    "Average guests": "2"
                                },
                                {
                                    "SZALLAS_NEV": "Kentaur Hotel",
                                    "SZOBA_SZAMA": "28",
                                    "Average guests": "2"
                                },
                                {
                                    "SZALLAS_NEV": "Kentaur Hotel",
                                    "SZOBA_SZAMA": "31",
                                    "Average guests": "2"
                                },
                                {
                                    "SZALLAS_NEV": "Kentaur Hotel",
                                    "SZOBA_SZAMA": "4",
                                    "Average guests": "2"
                                },
                                {
                                    "SZALLAS_NEV": "Kentaur Hotel",
                                    "SZOBA_SZAMA": "34",
                                    "Average guests": "2"
                                },
                                {
                                    "SZALLAS_NEV": "Kentaur Hotel",
                                    "SZOBA_SZAMA": "33",
                                    "Average guests": "2"
                                },
                                {
                                    "SZALLAS_NEV": "Kentaur Hotel",
                                    "SZOBA_SZAMA": "24",
                                    "Average guests": "2"
                                },
                                {
                                    "SZALLAS_NEV": "Kentaur Hotel",
                                    "SZOBA_SZAMA": "21",
                                    "Average guests": "1"
                                },
                                {
                                    "SZALLAS_NEV": "Kentaur Hotel",
                                    "SZOBA_SZAMA": "22",
                                    "Average guests": "2"
                                },
                                {
                                    "SZALLAS_NEV": "Kentaur Hotel",
                                    "SZOBA_SZAMA": "26",
                                    "Average guests": "2"
                                },
                                {
                                    "SZALLAS_NEV": "Kentaur Hotel",
                                    "SZOBA_SZAMA": "19",
                                    "Average guests": "2"
                                },
                                {
                                    "SZALLAS_NEV": "Kentaur Hotel",
                                    "SZOBA_SZAMA": "31",
                                    "Average guests": "2"
                                },
                                {
                                    "SZALLAS_NEV": "Kentaur Hotel",
                                    "SZOBA_SZAMA": "5",
                                    "Average guests": "2"
                                },
                                {
                                    "SZALLAS_NEV": "Kentaur Hotel",
                                    "SZOBA_SZAMA": "34",
                                    "Average guests": "3"
                                },
                                {
                                    "SZALLAS_NEV": "Kentaur Hotel",
                                    "SZOBA_SZAMA": "11",
                                    "Average guests": "2"
                                },
                                {
                                    "SZALLAS_NEV": "Kentaur Hotel",
                                    "SZOBA_SZAMA": "27",
                                    "Average guests": "2"
                                },
                                {
                                    "SZALLAS_NEV": "Kentaur Hotel",
                                    "SZOBA_SZAMA": "22",
                                    "Average guests": "2"
                                },
                                {
                                    "SZALLAS_NEV": "Kentaur Hotel",
                                    "SZOBA_SZAMA": "29",
                                    "Average guests": "2"
                                },
                                {
                                    "SZALLAS_NEV": "Kentaur Hotel",
                                    "SZOBA_SZAMA": "28",
                                    "Average guests": "2"
                                },
                                {
                                    "SZALLAS_NEV": "Kentaur Hotel",
                                    "SZOBA_SZAMA": "12",
                                    "Average guests": "2"
                                },
                                {
                                    "SZALLAS_NEV": "Kentaur Hotel",
                                    "SZOBA_SZAMA": "13",
                                    "Average guests": "2"
                                },
                                {
                                    "SZALLAS_NEV": "Kentaur Hotel",
                                    "SZOBA_SZAMA": "21",
                                    "Average guests": "2"
                                },
                                {
                                    "SZALLAS_NEV": "Kentaur Hotel",
                                    "SZOBA_SZAMA": "22",
                                    "Average guests": "2"
                                },
                                {
                                    "SZALLAS_NEV": "Kentaur Hotel",
                                    "SZOBA_SZAMA": "24",
                                    "Average guests": "2"
                                },
                                {
                                    "SZALLAS_NEV": "Kentaur Hotel",
                                    "SZOBA_SZAMA": "9",
                                    "Average guests": "2"
                                },
                                {
                                    "SZALLAS_NEV": "Kentaur Hotel",
                                    "SZOBA_SZAMA": "6",
                                    "Average guests": "2"
                                },
                                {
                                    "SZALLAS_NEV": "Kentaur Hotel",
                                    "SZOBA_SZAMA": "17",
                                    "Average guests": "3"
                                },
                                {
                                    "SZALLAS_NEV": "Kentaur Hotel",
                                    "SZOBA_SZAMA": "12",
                                    "Average guests": "3"
                                },
                                {
                                    "SZALLAS_NEV": "Kentaur Hotel",
                                    "SZOBA_SZAMA": "14",
                                    "Average guests": "2"
                                },
                                {
                                    "SZALLAS_NEV": "Kentaur Hotel",
                                    "SZOBA_SZAMA": "9",
                                    "Average guests": "2"
                                },
                                {
                                    "SZALLAS_NEV": "Kentaur Hotel",
                                    "SZOBA_SZAMA": "1",
                                    "Average guests": "2"
                                },
                                {
                                    "SZALLAS_NEV": "Kentaur Hotel",
                                    "SZOBA_SZAMA": "25",
                                    "Average guests": "2"
                                },
                                {
                                    "SZALLAS_NEV": "Kentaur Hotel",
                                    "SZOBA_SZAMA": "34",
                                    "Average guests": "2"
                                },
                                {
                                    "SZALLAS_NEV": "Kentaur Hotel",
                                    "SZOBA_SZAMA": "2",
                                    "Average guests": "2"
                                },
                                {
                                    "SZALLAS_NEV": "Kentaur Hotel",
                                    "SZOBA_SZAMA": "21",
                                    "Average guests": "2"
                                },
                                {
                                    "SZALLAS_NEV": "Kentaur Hotel",
                                    "SZOBA_SZAMA": "35",
                                    "Average guests": "2"
                                },
                                {
                                    "SZALLAS_NEV": "Kentaur Hotel",
                                    "SZOBA_SZAMA": "3",
                                    "Average guests": "2"
                                },
                                {
                                    "SZALLAS_NEV": "Kentaur Hotel",
                                    "SZOBA_SZAMA": "25",
                                    "Average guests": "2"
                                },
                                {
                                    "SZALLAS_NEV": "Kentaur Hotel",
                                    "SZOBA_SZAMA": "7",
                                    "Average guests": "2"
                                },
                                {
                                    "SZALLAS_NEV": "Kentaur Hotel",
                                    "SZOBA_SZAMA": "14",
                                    "Average guests": "2"
                                },
                                {
                                    "SZALLAS_NEV": "Kentaur Hotel",
                                    "SZOBA_SZAMA": "25",
                                    "Average guests": "2"
                                },
                                {
                                    "SZALLAS_NEV": "Kentaur Hotel",
                                    "SZOBA_SZAMA": "30",
                                    "Average guests": "2"
                                },
                                {
                                    "SZALLAS_NEV": "Kentaur Hotel",
                                    "SZOBA_SZAMA": "20",
                                    "Average guests": "2"
                                },
                                {
                                    "SZALLAS_NEV": "Kentaur Hotel",
                                    "SZOBA_SZAMA": "1",
                                    "Average guests": "2"
                                },
                                {
                                    "SZALLAS_NEV": "Kentaur Hotel",
                                    "SZOBA_SZAMA": "31",
                                    "Average guests": "2"
                                },
                                {
                                    "SZALLAS_NEV": "Kentaur Hotel",
                                    "SZOBA_SZAMA": "10",
                                    "Average guests": "2"
                                },
                                {
                                    "SZALLAS_NEV": "Kentaur Hotel",
                                    "SZOBA_SZAMA": "13",
                                    "Average guests": "2"
                                },
                                {
                                    "SZALLAS_NEV": "Kentaur Hotel",
                                    "SZOBA_SZAMA": "10",
                                    "Average guests": "2"
                                },
                                {
                                    "SZALLAS_NEV": "Kentaur Hotel",
                                    "SZOBA_SZAMA": "6",
                                    "Average guests": "2"
                                },
                                {
                                    "SZALLAS_NEV": "Kentaur Hotel",
                                    "SZOBA_SZAMA": "5",
                                    "Average guests": "2"
                                },
                                {
                                    "SZALLAS_NEV": "Kentaur Hotel",
                                    "SZOBA_SZAMA": "21",
                                    "Average guests": "2"
                                },
                                {
                                    "SZALLAS_NEV": "Kentaur Hotel",
                                    "SZOBA_SZAMA": "25",
                                    "Average guests": "2"
                                },
                                {
                                    "SZALLAS_NEV": "Kentaur Hotel",
                                    "SZOBA_SZAMA": "28",
                                    "Average guests": "2"
                                },
                                {
                                    "SZALLAS_NEV": "Kentaur Hotel",
                                    "SZOBA_SZAMA": "9",
                                    "Average guests": "2"
                                },
                                {
                                    "SZALLAS_NEV": "Kentaur Hotel",
                                    "SZOBA_SZAMA": "34",
                                    "Average guests": "2"
                                },
                                {
                                    "SZALLAS_NEV": "Kentaur Hotel",
                                    "SZOBA_SZAMA": "15",
                                    "Average guests": "2"
                                },
                                {
                                    "SZALLAS_NEV": "Kentaur Hotel",
                                    "SZOBA_SZAMA": "21",
                                    "Average guests": "2"
                                },
                                {
                                    "SZALLAS_NEV": "Kentaur Hotel",
                                    "SZOBA_SZAMA": "12",
                                    "Average guests": "2"
                                },
                                {
                                    "SZALLAS_NEV": "Kentaur Hotel",
                                    "SZOBA_SZAMA": "24",
                                    "Average guests": "2"
                                },
                                {
                                    "SZALLAS_NEV": "Kentaur Hotel",
                                    "SZOBA_SZAMA": "6",
                                    "Average guests": "2"
                                },
                                {
                                    "SZALLAS_NEV": "Kentaur Hotel",
                                    "SZOBA_SZAMA": "2",
                                    "Average guests": "2"
                                },
                                {
                                    "SZALLAS_NEV": "Kentaur Hotel",
                                    "SZOBA_SZAMA": "10",
                                    "Average guests": "2"
                                },
                                {
                                    "SZALLAS_NEV": "Kentaur Hotel",
                                    "SZOBA_SZAMA": "25",
                                    "Average guests": "2"
                                },
                                {
                                    "SZALLAS_NEV": "Kentaur Hotel",
                                    "SZOBA_SZAMA": "9",
                                    "Average guests": "1"
                                },
                                {
                                    "SZALLAS_NEV": "Kentaur Hotel",
                                    "SZOBA_SZAMA": "10",
                                    "Average guests": "2"
                                },
                                {
                                    "SZALLAS_NEV": "Kentaur Hotel",
                                    "SZOBA_SZAMA": "3",
                                    "Average guests": "2"
                                },
                                {
                                    "SZALLAS_NEV": "Kentaur Hotel",
                                    "SZOBA_SZAMA": "9",
                                    "Average guests": "2"
                                },
                                {
                                    "SZALLAS_NEV": "Kentaur Hotel",
                                    "SZOBA_SZAMA": "12",
                                    "Average guests": "2"
                                },
                                {
                                    "SZALLAS_NEV": "Kentaur Hotel",
                                    "SZOBA_SZAMA": "1",
                                    "Average guests": "2"
                                },
                                {
                                    "SZALLAS_NEV": "Kentaur Hotel",
                                    "SZOBA_SZAMA": "20",
                                    "Average guests": "2"
                                },
                                {
                                    "SZALLAS_NEV": "Kentaur Hotel",
                                    "SZOBA_SZAMA": "30",
                                    "Average guests": "2"
                                },
                                {
                                    "SZALLAS_NEV": "Kentaur Hotel",
                                    "SZOBA_SZAMA": "6",
                                    "Average guests": "2"
                                },
                                {
                                    "SZALLAS_NEV": "Kentaur Hotel",
                                    "SZOBA_SZAMA": "15",
                                    "Average guests": "2"
                                },
                                {
                                    "SZALLAS_NEV": "Kentaur Hotel",
                                    "SZOBA_SZAMA": "17",
                                    "Average guests": "2"
                                },
                                {
                                    "SZALLAS_NEV": "Kentaur Hotel",
                                    "SZOBA_SZAMA": "10",
                                    "Average guests": "2"
                                },
                                {
                                    "SZALLAS_NEV": "Kentaur Hotel",
                                    "SZOBA_SZAMA": "20",
                                    "Average guests": "3"
                                },
                                {
                                    "SZALLAS_NEV": "Kentaur Hotel",
                                    "SZOBA_SZAMA": "9",
                                    "Average guests": "2"
                                },
                                {
                                    "SZALLAS_NEV": "Kentaur Hotel",
                                    "SZOBA_SZAMA": "3",
                                    "Average guests": "2"
                                },
                                {
                                    "SZALLAS_NEV": "Kentaur Hotel",
                                    "SZOBA_SZAMA": "9",
                                    "Average guests": "2"
                                },
                                {
                                    "SZALLAS_NEV": "Kentaur Hotel",
                                    "SZOBA_SZAMA": "17",
                                    "Average guests": "2"
                                },
                                {
                                    "SZALLAS_NEV": "Kentaur Hotel",
                                    "SZOBA_SZAMA": "29",
                                    "Average guests": "2"
                                },
                                {
                                    "SZALLAS_NEV": "Kentaur Hotel",
                                    "SZOBA_SZAMA": "1",
                                    "Average guests": "2"
                                },
                                {
                                    "SZALLAS_NEV": "Kentaur Hotel",
                                    "SZOBA_SZAMA": "33",
                                    "Average guests": "2"
                                },
                                {
                                    "SZALLAS_NEV": "Kentaur Hotel",
                                    "SZOBA_SZAMA": "31",
                                    "Average guests": "2"
                                },
                                {
                                    "SZALLAS_NEV": "Kentaur Hotel",
                                    "SZOBA_SZAMA": "29",
                                    "Average guests": "2"
                                },
                                {
                                    "SZALLAS_NEV": "Kentaur Hotel",
                                    "SZOBA_SZAMA": "9",
                                    "Average guests": "2"
                                },
                                {
                                    "SZALLAS_NEV": "Kentaur Hotel",
                                    "SZOBA_SZAMA": "10",
                                    "Average guests": "2"
                                },
                                {
                                    "SZALLAS_NEV": "Kentaur Hotel",
                                    "SZOBA_SZAMA": "9",
                                    "Average guests": "2"
                                },
                                {
                                    "SZALLAS_NEV": "Kentaur Hotel",
                                    "SZOBA_SZAMA": "9",
                                    "Average guests": "2"
                                },
                                {
                                    "SZALLAS_NEV": "Kentaur Hotel",
                                    "SZOBA_SZAMA": "23",
                                    "Average guests": "2"
                                },
                                {
                                    "SZALLAS_NEV": "Kentaur Hotel",
                                    "SZOBA_SZAMA": "9",
                                    "Average guests": "2"
                                },
                                {
                                    "SZALLAS_NEV": "Kentaur Hotel",
                                    "SZOBA_SZAMA": "19",
                                    "Average guests": "2"
                                },
                                {
                                    "SZALLAS_NEV": "Kentaur Hotel",
                                    "SZOBA_SZAMA": "21",
                                    "Average guests": "2"
                                },
                                {
                                    "SZALLAS_NEV": "Kentaur Hotel",
                                    "SZOBA_SZAMA": "6",
                                    "Average guests": "3"
                                },
                                {
                                    "SZALLAS_NEV": "Kentaur Hotel",
                                    "SZOBA_SZAMA": "5",
                                    "Average guests": "2"
                                },
                                {
                                    "SZALLAS_NEV": "Kentaur Hotel",
                                    "SZOBA_SZAMA": "24",
                                    "Average guests": "2"
                                },
                                {
                                    "SZALLAS_NEV": "Kentaur Hotel",
                                    "SZOBA_SZAMA": "21",
                                    "Average guests": "2"
                                },
                                {
                                    "SZALLAS_NEV": "Kentaur Hotel",
                                    "SZOBA_SZAMA": "33",
                                    "Average guests": "2"
                                },
                                {
                                    "SZALLAS_NEV": "Kentaur Hotel",
                                    "SZOBA_SZAMA": "30",
                                    "Average guests": "2"
                                },
                                {
                                    "SZALLAS_NEV": "Kentaur Hotel",
                                    "SZOBA_SZAMA": "8",
                                    "Average guests": "2"
                                },
                                {
                                    "SZALLAS_NEV": "Kentaur Hotel",
                                    "SZOBA_SZAMA": "21",
                                    "Average guests": "2"
                                },
                                {
                                    "SZALLAS_NEV": "Kentaur Hotel",
                                    "SZOBA_SZAMA": "32",
                                    "Average guests": "2"
                                },
                                {
                                    "SZALLAS_NEV": "Kentaur Hotel",
                                    "SZOBA_SZAMA": "31",
                                    "Average guests": "1"
                                },
                                {
                                    "SZALLAS_NEV": "Kentaur Hotel",
                                    "SZOBA_SZAMA": "35",
                                    "Average guests": "1"
                                },
                                {
                                    "SZALLAS_NEV": "Kentaur Hotel",
                                    "SZOBA_SZAMA": "34",
                                    "Average guests": "1"
                                },
                                {
                                    "SZALLAS_NEV": "Kentaur Hotel",
                                    "SZOBA_SZAMA": "18",
                                    "Average guests": "1"
                                },
                                {
                                    "SZALLAS_NEV": "Kentaur Hotel",
                                    "SZOBA_SZAMA": "35",
                                    "Average guests": "1"
                                },
                                {
                                    "SZALLAS_NEV": "Kentaur Hotel",
                                    "SZOBA_SZAMA": "6",
                                    "Average guests": "1"
                                },
                                {
                                    "SZALLAS_NEV": "Kentaur Hotel",
                                    "SZOBA_SZAMA": "8",
                                    "Average guests": "2"
                                },
                                {
                                    "SZALLAS_NEV": "Kentaur Hotel",
                                    "SZOBA_SZAMA": "23",
                                    "Average guests": "1"
                                },
                                {
                                    "SZALLAS_NEV": "Kentaur Hotel",
                                    "SZOBA_SZAMA": "33",
                                    "Average guests": "2"
                                },
                                {
                                    "SZALLAS_NEV": "Kentaur Hotel",
                                    "SZOBA_SZAMA": "26",
                                    "Average guests": "2"
                                },
                                {
                                    "SZALLAS_NEV": "Kentaur Hotel",
                                    "SZOBA_SZAMA": "13",
                                    "Average guests": "2"
                                },
                                {
                                    "SZALLAS_NEV": "Kentaur Hotel",
                                    "SZOBA_SZAMA": "3",
                                    "Average guests": "2"
                                },
                                {
                                    "SZALLAS_NEV": "Kentaur Hotel",
                                    "SZOBA_SZAMA": "28",
                                    "Average guests": "2"
                                },
                                {
                                    "SZALLAS_NEV": "Kentaur Hotel",
                                    "SZOBA_SZAMA": "15",
                                    "Average guests": "2"
                                },
                                {
                                    "SZALLAS_NEV": "Kentaur Hotel",
                                    "SZOBA_SZAMA": "30",
                                    "Average guests": "2"
                                },
                                {
                                    "SZALLAS_NEV": "Kentaur Hotel",
                                    "SZOBA_SZAMA": "32",
                                    "Average guests": "2"
                                },
                                {
                                    "SZALLAS_NEV": "Kentaur Hotel",
                                    "SZOBA_SZAMA": "9",
                                    "Average guests": "2"
                                },
                                {
                                    "SZALLAS_NEV": "Kentaur Hotel",
                                    "SZOBA_SZAMA": "21",
                                    "Average guests": "2"
                                },
                                {
                                    "SZALLAS_NEV": "Kentaur Hotel",
                                    "SZOBA_SZAMA": "26",
                                    "Average guests": "2"
                                },
                                {
                                    "SZALLAS_NEV": "Kentaur Hotel",
                                    "SZOBA_SZAMA": "32",
                                    "Average guests": "2"
                                },
                                {
                                    "SZALLAS_NEV": "Kentaur Hotel",
                                    "SZOBA_SZAMA": "15",
                                    "Average guests": "2"
                                },
                                {
                                    "SZALLAS_NEV": "Kentaur Hotel",
                                    "SZOBA_SZAMA": "8",
                                    "Average guests": "2"
                                },
                                {
                                    "SZALLAS_NEV": "Kentaur Hotel",
                                    "SZOBA_SZAMA": "28",
                                    "Average guests": "1"
                                },
                                {
                                    "SZALLAS_NEV": "Kentaur Hotel",
                                    "SZOBA_SZAMA": "2",
                                    "Average guests": "1"
                                },
                                {
                                    "SZALLAS_NEV": "Kentaur Hotel",
                                    "SZOBA_SZAMA": "12",
                                    "Average guests": "1"
                                },
                                {
                                    "SZALLAS_NEV": "Kentaur Hotel",
                                    "SZOBA_SZAMA": "32",
                                    "Average guests": "1"
                                },
                                {
                                    "SZALLAS_NEV": "Kentaur Hotel",
                                    "SZOBA_SZAMA": "8",
                                    "Average guests": "1"
                                },
                                {
                                    "SZALLAS_NEV": "Kentaur Hotel",
                                    "SZOBA_SZAMA": "6",
                                    "Average guests": "2"
                                },
                                {
                                    "SZALLAS_NEV": "Kentaur Hotel",
                                    "SZOBA_SZAMA": "6",
                                    "Average guests": "2"
                                },
                                {
                                    "SZALLAS_NEV": "Kentaur Hotel",
                                    "SZOBA_SZAMA": "3",
                                    "Average guests": "2"
                                },
                                {
                                    "SZALLAS_NEV": "Kentaur Hotel",
                                    "SZOBA_SZAMA": "2",
                                    "Average guests": "2"
                                },
                                {
                                    "SZALLAS_NEV": "Kentaur Hotel",
                                    "SZOBA_SZAMA": "27",
                                    "Average guests": "2"
                                },
                                {
                                    "SZALLAS_NEV": "Kentaur Hotel",
                                    "SZOBA_SZAMA": "32",
                                    "Average guests": "2"
                                },
                                {
                                    "SZALLAS_NEV": "Kentaur Hotel",
                                    "SZOBA_SZAMA": "10",
                                    "Average guests": "2"
                                },
                                {
                                    "SZALLAS_NEV": "Kentaur Hotel",
                                    "SZOBA_SZAMA": "29",
                                    "Average guests": "2"
                                },
                                {
                                    "SZALLAS_NEV": "Kentaur Hotel",
                                    "SZOBA_SZAMA": "18",
                                    "Average guests": "3"
                                },
                                {
                                    "SZALLAS_NEV": "Kentaur Hotel",
                                    "SZOBA_SZAMA": "15",
                                    "Average guests": "2"
                                },
                                {
                                    "SZALLAS_NEV": "Kentaur Hotel",
                                    "SZOBA_SZAMA": "18",
                                    "Average guests": "2"
                                },
                                {
                                    "SZALLAS_NEV": "Lagúna Hotel",
                                    "SZOBA_SZAMA": "7",
                                    "Average guests": "2"
                                },
                                {
                                    "SZALLAS_NEV": "Lagúna Hotel",
                                    "SZOBA_SZAMA": "21",
                                    "Average guests": "3"
                                },
                                {
                                    "SZALLAS_NEV": "Lagúna Hotel",
                                    "SZOBA_SZAMA": "21",
                                    "Average guests": "3"
                                },
                                {
                                    "SZALLAS_NEV": "Lagúna Hotel",
                                    "SZOBA_SZAMA": "5",
                                    "Average guests": "2"
                                },
                                {
                                    "SZALLAS_NEV": "Lagúna Hotel",
                                    "SZOBA_SZAMA": "10",
                                    "Average guests": "2"
                                },
                                {
                                    "SZALLAS_NEV": "Lagúna Hotel",
                                    "SZOBA_SZAMA": "3",
                                    "Average guests": "2"
                                },
                                {
                                    "SZALLAS_NEV": "Lagúna Hotel",
                                    "SZOBA_SZAMA": "2",
                                    "Average guests": "2"
                                },
                                {
                                    "SZALLAS_NEV": "Lagúna Hotel",
                                    "SZOBA_SZAMA": "22",
                                    "Average guests": "2"
                                },
                                {
                                    "SZALLAS_NEV": "Lagúna Hotel",
                                    "SZOBA_SZAMA": "15",
                                    "Average guests": "2"
                                },
                                {
                                    "SZALLAS_NEV": "Lagúna Hotel",
                                    "SZOBA_SZAMA": "19",
                                    "Average guests": "2"
                                },
                                {
                                    "SZALLAS_NEV": "Lagúna Hotel",
                                    "SZOBA_SZAMA": "16",
                                    "Average guests": "2"
                                },
                                {
                                    "SZALLAS_NEV": "Lagúna Hotel",
                                    "SZOBA_SZAMA": "23",
                                    "Average guests": "2"
                                },
                                {
                                    "SZALLAS_NEV": "Lagúna Hotel",
                                    "SZOBA_SZAMA": "3",
                                    "Average guests": "2"
                                },
                                {
                                    "SZALLAS_NEV": "Lagúna Hotel",
                                    "SZOBA_SZAMA": "15",
                                    "Average guests": "1"
                                },
                                {
                                    "SZALLAS_NEV": "Lagúna Hotel",
                                    "SZOBA_SZAMA": "3",
                                    "Average guests": "1"
                                },
                                {
                                    "SZALLAS_NEV": "Lagúna Hotel",
                                    "SZOBA_SZAMA": "2",
                                    "Average guests": "1"
                                },
                                {
                                    "SZALLAS_NEV": "Lagúna Hotel",
                                    "SZOBA_SZAMA": "12",
                                    "Average guests": "1"
                                },
                                {
                                    "SZALLAS_NEV": "Lagúna Hotel",
                                    "SZOBA_SZAMA": "17",
                                    "Average guests": "1"
                                },
                                {
                                    "SZALLAS_NEV": "Lagúna Hotel",
                                    "SZOBA_SZAMA": "22",
                                    "Average guests": "1"
                                },
                                {
                                    "SZALLAS_NEV": "Lagúna Hotel",
                                    "SZOBA_SZAMA": "7",
                                    "Average guests": "1"
                                },
                                {
                                    "SZALLAS_NEV": "Lagúna Hotel",
                                    "SZOBA_SZAMA": "6",
                                    "Average guests": "1"
                                },
                                {
                                    "SZALLAS_NEV": "Lagúna Hotel",
                                    "SZOBA_SZAMA": "22",
                                    "Average guests": "2"
                                },
                                {
                                    "SZALLAS_NEV": "Lagúna Hotel",
                                    "SZOBA_SZAMA": "20",
                                    "Average guests": "2"
                                },
                                {
                                    "SZALLAS_NEV": "Lagúna Hotel",
                                    "SZOBA_SZAMA": "19",
                                    "Average guests": "2"
                                },
                                {
                                    "SZALLAS_NEV": "Lagúna Hotel",
                                    "SZOBA_SZAMA": "9",
                                    "Average guests": "2"
                                },
                                {
                                    "SZALLAS_NEV": "Lagúna Hotel",
                                    "SZOBA_SZAMA": "3",
                                    "Average guests": "2"
                                },
                                {
                                    "SZALLAS_NEV": "Lagúna Hotel",
                                    "SZOBA_SZAMA": "23",
                                    "Average guests": "2"
                                },
                                {
                                    "SZALLAS_NEV": "Lagúna Hotel",
                                    "SZOBA_SZAMA": "12",
                                    "Average guests": "2"
                                },
                                {
                                    "SZALLAS_NEV": "Lagúna Hotel",
                                    "SZOBA_SZAMA": "14",
                                    "Average guests": "2"
                                },
                                {
                                    "SZALLAS_NEV": "Lagúna Hotel",
                                    "SZOBA_SZAMA": "22",
                                    "Average guests": "1"
                                },
                                {
                                    "SZALLAS_NEV": "Lagúna Hotel",
                                    "SZOBA_SZAMA": "11",
                                    "Average guests": "2"
                                },
                                {
                                    "SZALLAS_NEV": "Lagúna Hotel",
                                    "SZOBA_SZAMA": "1",
                                    "Average guests": "2"
                                },
                                {
                                    "SZALLAS_NEV": "Lagúna Hotel",
                                    "SZOBA_SZAMA": "18",
                                    "Average guests": "2"
                                },
                                {
                                    "SZALLAS_NEV": "Lagúna Hotel",
                                    "SZOBA_SZAMA": "6",
                                    "Average guests": "2"
                                },
                                {
                                    "SZALLAS_NEV": "Lagúna Hotel",
                                    "SZOBA_SZAMA": "5",
                                    "Average guests": "2"
                                },
                                {
                                    "SZALLAS_NEV": "Lagúna Hotel",
                                    "SZOBA_SZAMA": "5",
                                    "Average guests": "2"
                                },
                                {
                                    "SZALLAS_NEV": "Lagúna Hotel",
                                    "SZOBA_SZAMA": "7",
                                    "Average guests": "1"
                                },
                                {
                                    "SZALLAS_NEV": "Lagúna Hotel",
                                    "SZOBA_SZAMA": "14",
                                    "Average guests": "1"
                                },
                                {
                                    "SZALLAS_NEV": "Lagúna Hotel",
                                    "SZOBA_SZAMA": "4",
                                    "Average guests": "2"
                                },
                                {
                                    "SZALLAS_NEV": "Lagúna Hotel",
                                    "SZOBA_SZAMA": "13",
                                    "Average guests": "2"
                                },
                                {
                                    "SZALLAS_NEV": "Lagúna Hotel",
                                    "SZOBA_SZAMA": "14",
                                    "Average guests": "2"
                                },
                                {
                                    "SZALLAS_NEV": "Lagúna Hotel",
                                    "SZOBA_SZAMA": "7",
                                    "Average guests": "2"
                                },
                                {
                                    "SZALLAS_NEV": "Lagúna Hotel",
                                    "SZOBA_SZAMA": "12",
                                    "Average guests": "2"
                                },
                                {
                                    "SZALLAS_NEV": "Lagúna Hotel",
                                    "SZOBA_SZAMA": "4",
                                    "Average guests": "2"
                                },
                                {
                                    "SZALLAS_NEV": "Lagúna Hotel",
                                    "SZOBA_SZAMA": "12",
                                    "Average guests": "2"
                                },
                                {
                                    "SZALLAS_NEV": "Lagúna Hotel",
                                    "SZOBA_SZAMA": "14",
                                    "Average guests": "2"
                                },
                                {
                                    "SZALLAS_NEV": "Lagúna Hotel",
                                    "SZOBA_SZAMA": "14",
                                    "Average guests": "2"
                                },
                                {
                                    "SZALLAS_NEV": "Lagúna Hotel",
                                    "SZOBA_SZAMA": "24",
                                    "Average guests": "2"
                                },
                                {
                                    "SZALLAS_NEV": "Lagúna Hotel",
                                    "SZOBA_SZAMA": "15",
                                    "Average guests": "2"
                                },
                                {
                                    "SZALLAS_NEV": "Lagúna Hotel",
                                    "SZOBA_SZAMA": "15",
                                    "Average guests": "2"
                                },
                                {
                                    "SZALLAS_NEV": "Lagúna Hotel",
                                    "SZOBA_SZAMA": "24",
                                    "Average guests": "2"
                                },
                                {
                                    "SZALLAS_NEV": "Lagúna Hotel",
                                    "SZOBA_SZAMA": "15",
                                    "Average guests": "2"
                                },
                                {
                                    "SZALLAS_NEV": "Lagúna Hotel",
                                    "SZOBA_SZAMA": "12",
                                    "Average guests": "2"
                                },
                                {
                                    "SZALLAS_NEV": "Lagúna Hotel",
                                    "SZOBA_SZAMA": "1",
                                    "Average guests": "2"
                                },
                                {
                                    "SZALLAS_NEV": "Lagúna Hotel",
                                    "SZOBA_SZAMA": "5",
                                    "Average guests": "2"
                                },
                                {
                                    "SZALLAS_NEV": "Lagúna Hotel",
                                    "SZOBA_SZAMA": "2",
                                    "Average guests": "2"
                                },
                                {
                                    "SZALLAS_NEV": "Lagúna Hotel",
                                    "SZOBA_SZAMA": "23",
                                    "Average guests": "2"
                                },
                                {
                                    "SZALLAS_NEV": "Lagúna Hotel",
                                    "SZOBA_SZAMA": "17",
                                    "Average guests": "2"
                                },
                                {
                                    "SZALLAS_NEV": "Lagúna Hotel",
                                    "SZOBA_SZAMA": "20",
                                    "Average guests": "2"
                                },
                                {
                                    "SZALLAS_NEV": "Lagúna Hotel",
                                    "SZOBA_SZAMA": "5",
                                    "Average guests": "2"
                                },
                                {
                                    "SZALLAS_NEV": "Lagúna Hotel",
                                    "SZOBA_SZAMA": "11",
                                    "Average guests": "2"
                                },
                                {
                                    "SZALLAS_NEV": "Lagúna Hotel",
                                    "SZOBA_SZAMA": "10",
                                    "Average guests": "2"
                                },
                                {
                                    "SZALLAS_NEV": "Lagúna Hotel",
                                    "SZOBA_SZAMA": "16",
                                    "Average guests": "2"
                                },
                                {
                                    "SZALLAS_NEV": "Lagúna Hotel",
                                    "SZOBA_SZAMA": "6",
                                    "Average guests": "2"
                                },
                                {
                                    "SZALLAS_NEV": "Lagúna Hotel",
                                    "SZOBA_SZAMA": "16",
                                    "Average guests": "2"
                                },
                                {
                                    "SZALLAS_NEV": "Lagúna Hotel",
                                    "SZOBA_SZAMA": "21",
                                    "Average guests": "2"
                                },
                                {
                                    "SZALLAS_NEV": "Lagúna Hotel",
                                    "SZOBA_SZAMA": "17",
                                    "Average guests": "2"
                                },
                                {
                                    "SZALLAS_NEV": "Lagúna Hotel",
                                    "SZOBA_SZAMA": "24",
                                    "Average guests": "2"
                                },
                                {
                                    "SZALLAS_NEV": "Lagúna Hotel",
                                    "SZOBA_SZAMA": "11",
                                    "Average guests": "2"
                                },
                                {
                                    "SZALLAS_NEV": "Lagúna Hotel",
                                    "SZOBA_SZAMA": "11",
                                    "Average guests": "2"
                                },
                                {
                                    "SZALLAS_NEV": "Lagúna Hotel",
                                    "SZOBA_SZAMA": "15",
                                    "Average guests": "2"
                                },
                                {
                                    "SZALLAS_NEV": "Lagúna Hotel",
                                    "SZOBA_SZAMA": "9",
                                    "Average guests": "2"
                                },
                                {
                                    "SZALLAS_NEV": "Lagúna Hotel",
                                    "SZOBA_SZAMA": "6",
                                    "Average guests": "2"
                                },
                                {
                                    "SZALLAS_NEV": "Lagúna Hotel",
                                    "SZOBA_SZAMA": "18",
                                    "Average guests": "2"
                                },
                                {
                                    "SZALLAS_NEV": "Lagúna Hotel",
                                    "SZOBA_SZAMA": "20",
                                    "Average guests": "2"
                                },
                                {
                                    "SZALLAS_NEV": "Lagúna Hotel",
                                    "SZOBA_SZAMA": "16",
                                    "Average guests": "1"
                                },
                                {
                                    "SZALLAS_NEV": "Lagúna Hotel",
                                    "SZOBA_SZAMA": "16",
                                    "Average guests": "2"
                                },
                                {
                                    "SZALLAS_NEV": "Lagúna Hotel",
                                    "SZOBA_SZAMA": "3",
                                    "Average guests": "2"
                                },
                                {
                                    "SZALLAS_NEV": "Lagúna Hotel",
                                    "SZOBA_SZAMA": "10",
                                    "Average guests": "2"
                                },
                                {
                                    "SZALLAS_NEV": "Lagúna Hotel",
                                    "SZOBA_SZAMA": "9",
                                    "Average guests": "2"
                                },
                                {
                                    "SZALLAS_NEV": "Lagúna Hotel",
                                    "SZOBA_SZAMA": "18",
                                    "Average guests": "2"
                                },
                                {
                                    "SZALLAS_NEV": "Lagúna Hotel",
                                    "SZOBA_SZAMA": "9",
                                    "Average guests": "3"
                                },
                                {
                                    "SZALLAS_NEV": "Lagúna Hotel",
                                    "SZOBA_SZAMA": "23",
                                    "Average guests": "2"
                                },
                                {
                                    "SZALLAS_NEV": "Lagúna Hotel",
                                    "SZOBA_SZAMA": "4",
                                    "Average guests": "2"
                                },
                                {
                                    "SZALLAS_NEV": "Lagúna Hotel",
                                    "SZOBA_SZAMA": "7",
                                    "Average guests": "2"
                                },
                                {
                                    "SZALLAS_NEV": "Lagúna Hotel",
                                    "SZOBA_SZAMA": "20",
                                    "Average guests": "2"
                                },
                                {
                                    "SZALLAS_NEV": "Lagúna Hotel",
                                    "SZOBA_SZAMA": "6",
                                    "Average guests": "2"
                                },
                                {
                                    "SZALLAS_NEV": "Lagúna Hotel",
                                    "SZOBA_SZAMA": "3",
                                    "Average guests": "2"
                                },
                                {
                                    "SZALLAS_NEV": "Lagúna Hotel",
                                    "SZOBA_SZAMA": "4",
                                    "Average guests": "2"
                                },
                                {
                                    "SZALLAS_NEV": "Lagúna Hotel",
                                    "SZOBA_SZAMA": "1",
                                    "Average guests": "2"
                                },
                                {
                                    "SZALLAS_NEV": "Lagúna Hotel",
                                    "SZOBA_SZAMA": "4",
                                    "Average guests": "2"
                                },
                                {
                                    "SZALLAS_NEV": "Lagúna Hotel",
                                    "SZOBA_SZAMA": "10",
                                    "Average guests": "2"
                                },
                                {
                                    "SZALLAS_NEV": "Lagúna Hotel",
                                    "SZOBA_SZAMA": "9",
                                    "Average guests": "3"
                                },
                                {
                                    "SZALLAS_NEV": "Lagúna Hotel",
                                    "SZOBA_SZAMA": "21",
                                    "Average guests": "3"
                                },
                                {
                                    "SZALLAS_NEV": "Lagúna Hotel",
                                    "SZOBA_SZAMA": "11",
                                    "Average guests": "3"
                                },
                                {
                                    "SZALLAS_NEV": "Lagúna Hotel",
                                    "SZOBA_SZAMA": "6",
                                    "Average guests": "3"
                                },
                                {
                                    "SZALLAS_NEV": "Lagúna Hotel",
                                    "SZOBA_SZAMA": "4",
                                    "Average guests": "3"
                                },
                                {
                                    "SZALLAS_NEV": "Lagúna Hotel",
                                    "SZOBA_SZAMA": "6",
                                    "Average guests": "2"
                                },
                                {
                                    "SZALLAS_NEV": "Lagúna Hotel",
                                    "SZOBA_SZAMA": "8",
                                    "Average guests": "2"
                                },
                                {
                                    "SZALLAS_NEV": "Lagúna Hotel",
                                    "SZOBA_SZAMA": "4",
                                    "Average guests": "2"
                                },
                                {
                                    "SZALLAS_NEV": "Lagúna Hotel",
                                    "SZOBA_SZAMA": "6",
                                    "Average guests": "2"
                                },
                                {
                                    "SZALLAS_NEV": "Lagúna Hotel",
                                    "SZOBA_SZAMA": "9",
                                    "Average guests": "3"
                                },
                                {
                                    "SZALLAS_NEV": "Lagúna Hotel",
                                    "SZOBA_SZAMA": "7",
                                    "Average guests": "3"
                                },
                                {
                                    "SZALLAS_NEV": "Lagúna Hotel",
                                    "SZOBA_SZAMA": "16",
                                    "Average guests": "2"
                                },
                                {
                                    "SZALLAS_NEV": "Lagúna Hotel",
                                    "SZOBA_SZAMA": "5",
                                    "Average guests": "2"
                                },
                                {
                                    "SZALLAS_NEV": "Lagúna Hotel",
                                    "SZOBA_SZAMA": "9",
                                    "Average guests": "2"
                                },
                                {
                                    "SZALLAS_NEV": "Lagúna Hotel",
                                    "SZOBA_SZAMA": "5",
                                    "Average guests": "2"
                                },
                                {
                                    "SZALLAS_NEV": "Lagúna Hotel",
                                    "SZOBA_SZAMA": "19",
                                    "Average guests": "2"
                                },
                                {
                                    "SZALLAS_NEV": "Lagúna Hotel",
                                    "SZOBA_SZAMA": "22",
                                    "Average guests": "2"
                                },
                                {
                                    "SZALLAS_NEV": "Lagúna Hotel",
                                    "SZOBA_SZAMA": "19",
                                    "Average guests": "2"
                                },
                                {
                                    "SZALLAS_NEV": "Lagúna Hotel",
                                    "SZOBA_SZAMA": "11",
                                    "Average guests": "2"
                                },
                                {
                                    "SZALLAS_NEV": "Lagúna Hotel",
                                    "SZOBA_SZAMA": "12",
                                    "Average guests": "2"
                                },
                                {
                                    "SZALLAS_NEV": "Lagúna Hotel",
                                    "SZOBA_SZAMA": "22",
                                    "Average guests": "2"
                                },
                                {
                                    "SZALLAS_NEV": "Lagúna Hotel",
                                    "SZOBA_SZAMA": "19",
                                    "Average guests": "2"
                                },
                                {
                                    "SZALLAS_NEV": "Lagúna Hotel",
                                    "SZOBA_SZAMA": "15",
                                    "Average guests": "2"
                                },
                                {
                                    "SZALLAS_NEV": "Lagúna Hotel",
                                    "SZOBA_SZAMA": "21",
                                    "Average guests": "2"
                                },
                                {
                                    "SZALLAS_NEV": "Lagúna Hotel",
                                    "SZOBA_SZAMA": "20",
                                    "Average guests": "2"
                                },
                                {
                                    "SZALLAS_NEV": "Lagúna Hotel",
                                    "SZOBA_SZAMA": "8",
                                    "Average guests": "2"
                                },
                                {
                                    "SZALLAS_NEV": "Lagúna Hotel",
                                    "SZOBA_SZAMA": "23",
                                    "Average guests": "2"
                                },
                                {
                                    "SZALLAS_NEV": "Lagúna Hotel",
                                    "SZOBA_SZAMA": "18",
                                    "Average guests": "1"
                                },
                                {
                                    "SZALLAS_NEV": "Lagúna Hotel",
                                    "SZOBA_SZAMA": "22",
                                    "Average guests": "2"
                                },
                                {
                                    "SZALLAS_NEV": "Lagúna Hotel",
                                    "SZOBA_SZAMA": "10",
                                    "Average guests": "2"
                                },
                                {
                                    "SZALLAS_NEV": "Lagúna Hotel",
                                    "SZOBA_SZAMA": "14",
                                    "Average guests": "2"
                                },
                                {
                                    "SZALLAS_NEV": "Partiszél Vendégház",
                                    "SZOBA_SZAMA": "5",
                                    "Average guests": "2"
                                },
                                {
                                    "SZALLAS_NEV": "Partiszél Vendégház",
                                    "SZOBA_SZAMA": "3",
                                    "Average guests": "2"
                                },
                                {
                                    "SZALLAS_NEV": "Partiszél Vendégház",
                                    "SZOBA_SZAMA": "4",
                                    "Average guests": "2"
                                },
                                {
                                    "SZALLAS_NEV": "Partiszél Vendégház",
                                    "SZOBA_SZAMA": "2",
                                    "Average guests": "2"
                                },
                                {
                                    "SZALLAS_NEV": "Partiszél Vendégház",
                                    "SZOBA_SZAMA": "2",
                                    "Average guests": "2"
                                },
                                {
                                    "SZALLAS_NEV": "Partiszél Vendégház",
                                    "SZOBA_SZAMA": "2",
                                    "Average guests": "2"
                                },
                                {
                                    "SZALLAS_NEV": "Partiszél Vendégház",
                                    "SZOBA_SZAMA": "1",
                                    "Average guests": "2"
                                },
                                {
                                    "SZALLAS_NEV": "Partiszél Vendégház",
                                    "SZOBA_SZAMA": "1",
                                    "Average guests": "2"
                                },
                                {
                                    "SZALLAS_NEV": "Partiszél Vendégház",
                                    "SZOBA_SZAMA": "1",
                                    "Average guests": "2"
                                },
                                {
                                    "SZALLAS_NEV": "Partiszél Vendégház",
                                    "SZOBA_SZAMA": "4",
                                    "Average guests": "2"
                                },
                                {
                                    "SZALLAS_NEV": "Partiszél Vendégház",
                                    "SZOBA_SZAMA": "5",
                                    "Average guests": "2"
                                },
                                {
                                    "SZALLAS_NEV": "Partiszél Vendégház",
                                    "SZOBA_SZAMA": "1",
                                    "Average guests": "3"
                                },
                                {
                                    "SZALLAS_NEV": "Partiszél Vendégház",
                                    "SZOBA_SZAMA": "5",
                                    "Average guests": "2"
                                },
                                {
                                    "SZALLAS_NEV": "Partiszél Vendégház",
                                    "SZOBA_SZAMA": "4",
                                    "Average guests": "2"
                                },
                                {
                                    "SZALLAS_NEV": "Partiszél Vendégház",
                                    "SZOBA_SZAMA": "2",
                                    "Average guests": "2"
                                },
                                {
                                    "SZALLAS_NEV": "Partiszél Vendégház",
                                    "SZOBA_SZAMA": "4",
                                    "Average guests": "2"
                                },
                                {
                                    "SZALLAS_NEV": "Partiszél Vendégház",
                                    "SZOBA_SZAMA": "4",
                                    "Average guests": "2"
                                },
                                {
                                    "SZALLAS_NEV": "Partiszél Vendégház",
                                    "SZOBA_SZAMA": "2",
                                    "Average guests": "2"
                                },
                                {
                                    "SZALLAS_NEV": "Partiszél Vendégház",
                                    "SZOBA_SZAMA": "3",
                                    "Average guests": "2"
                                },
                                {
                                    "SZALLAS_NEV": "Partiszél Vendégház",
                                    "SZOBA_SZAMA": "4",
                                    "Average guests": "2"
                                },
                                {
                                    "SZALLAS_NEV": "Partiszél Vendégház",
                                    "SZOBA_SZAMA": "5",
                                    "Average guests": "2"
                                },
                                {
                                    "SZALLAS_NEV": "Partiszél Vendégház",
                                    "SZOBA_SZAMA": "5",
                                    "Average guests": "2"
                                },
                                {
                                    "SZALLAS_NEV": "Partiszél Vendégház",
                                    "SZOBA_SZAMA": "3",
                                    "Average guests": "2"
                                },
                                {
                                    "SZALLAS_NEV": "Partiszél Vendégház",
                                    "SZOBA_SZAMA": "4",
                                    "Average guests": "2"
                                },
                                {
                                    "SZALLAS_NEV": "Partiszél Vendégház",
                                    "SZOBA_SZAMA": "1",
                                    "Average guests": "2"
                                },
                                {
                                    "SZALLAS_NEV": "Partiszél Vendégház",
                                    "SZOBA_SZAMA": "2",
                                    "Average guests": "2"
                                },
                                {
                                    "SZALLAS_NEV": "Sába-Ház",
                                    "SZOBA_SZAMA": "6",
                                    "Average guests": "2"
                                },
                                {
                                    "SZALLAS_NEV": "Sába-Ház",
                                    "SZOBA_SZAMA": "7",
                                    "Average guests": "1"
                                },
                                {
                                    "SZALLAS_NEV": "Sába-Ház",
                                    "SZOBA_SZAMA": "5",
                                    "Average guests": "1"
                                },
                                {
                                    "SZALLAS_NEV": "Sába-Ház",
                                    "SZOBA_SZAMA": "10",
                                    "Average guests": "1"
                                },
                                {
                                    "SZALLAS_NEV": "Sába-Ház",
                                    "SZOBA_SZAMA": "9",
                                    "Average guests": "1"
                                },
                                {
                                    "SZALLAS_NEV": "Sába-Ház",
                                    "SZOBA_SZAMA": "1",
                                    "Average guests": "1"
                                },
                                {
                                    "SZALLAS_NEV": "Sába-Ház",
                                    "SZOBA_SZAMA": "3",
                                    "Average guests": "1"
                                },
                                {
                                    "SZALLAS_NEV": "Sába-Ház",
                                    "SZOBA_SZAMA": "4",
                                    "Average guests": "1"
                                },
                                {
                                    "SZALLAS_NEV": "Sába-Ház",
                                    "SZOBA_SZAMA": "6",
                                    "Average guests": "1"
                                },
                                {
                                    "SZALLAS_NEV": "Sába-Ház",
                                    "SZOBA_SZAMA": "12",
                                    "Average guests": "2"
                                },
                                {
                                    "SZALLAS_NEV": "Sába-Ház",
                                    "SZOBA_SZAMA": "8",
                                    "Average guests": "2"
                                },
                                {
                                    "SZALLAS_NEV": "Sába-Ház",
                                    "SZOBA_SZAMA": "11",
                                    "Average guests": "2"
                                },
                                {
                                    "SZALLAS_NEV": "Sába-Ház",
                                    "SZOBA_SZAMA": "1",
                                    "Average guests": "2"
                                },
                                {
                                    "SZALLAS_NEV": "Sába-Ház",
                                    "SZOBA_SZAMA": "4",
                                    "Average guests": "2"
                                },
                                {
                                    "SZALLAS_NEV": "Sába-Ház",
                                    "SZOBA_SZAMA": "8",
                                    "Average guests": "2"
                                },
                                {
                                    "SZALLAS_NEV": "Sába-Ház",
                                    "SZOBA_SZAMA": "12",
                                    "Average guests": "2"
                                },
                                {
                                    "SZALLAS_NEV": "Sába-Ház",
                                    "SZOBA_SZAMA": "5",
                                    "Average guests": "2"
                                },
                                {
                                    "SZALLAS_NEV": "Sába-Ház",
                                    "SZOBA_SZAMA": "12",
                                    "Average guests": "1"
                                },
                                {
                                    "SZALLAS_NEV": "Sába-Ház",
                                    "SZOBA_SZAMA": "6",
                                    "Average guests": "1"
                                },
                                {
                                    "SZALLAS_NEV": "Sába-Ház",
                                    "SZOBA_SZAMA": "4",
                                    "Average guests": "1"
                                },
                                {
                                    "SZALLAS_NEV": "Sába-Ház",
                                    "SZOBA_SZAMA": "12",
                                    "Average guests": "1"
                                },
                                {
                                    "SZALLAS_NEV": "Sába-Ház",
                                    "SZOBA_SZAMA": "3",
                                    "Average guests": "1"
                                },
                                {
                                    "SZALLAS_NEV": "Sába-Ház",
                                    "SZOBA_SZAMA": "8",
                                    "Average guests": "2"
                                },
                                {
                                    "SZALLAS_NEV": "Sába-Ház",
                                    "SZOBA_SZAMA": "12",
                                    "Average guests": "1"
                                },
                                {
                                    "SZALLAS_NEV": "Sába-Ház",
                                    "SZOBA_SZAMA": "1",
                                    "Average guests": "2"
                                },
                                {
                                    "SZALLAS_NEV": "Sába-Ház",
                                    "SZOBA_SZAMA": "7",
                                    "Average guests": "2"
                                },
                                {
                                    "SZALLAS_NEV": "Sába-Ház",
                                    "SZOBA_SZAMA": "6",
                                    "Average guests": "2"
                                },
                                {
                                    "SZALLAS_NEV": "Sába-Ház",
                                    "SZOBA_SZAMA": "12",
                                    "Average guests": "2"
                                },
                                {
                                    "SZALLAS_NEV": "Sába-Ház",
                                    "SZOBA_SZAMA": "10",
                                    "Average guests": "2"
                                },
                                {
                                    "SZALLAS_NEV": "Sába-Ház",
                                    "SZOBA_SZAMA": "3",
                                    "Average guests": "2"
                                },
                                {
                                    "SZALLAS_NEV": "Sába-Ház",
                                    "SZOBA_SZAMA": "10",
                                    "Average guests": "2"
                                },
                                {
                                    "SZALLAS_NEV": "Sába-Ház",
                                    "SZOBA_SZAMA": "1",
                                    "Average guests": "2"
                                },
                                {
                                    "SZALLAS_NEV": "Sába-Ház",
                                    "SZOBA_SZAMA": "8",
                                    "Average guests": "2"
                                },
                                {
                                    "SZALLAS_NEV": "Sába-Ház",
                                    "SZOBA_SZAMA": "2",
                                    "Average guests": "2"
                                },
                                {
                                    "SZALLAS_NEV": "Sába-Ház",
                                    "SZOBA_SZAMA": "8",
                                    "Average guests": "2"
                                },
                                {
                                    "SZALLAS_NEV": "Sába-Ház",
                                    "SZOBA_SZAMA": "6",
                                    "Average guests": "2"
                                },
                                {
                                    "SZALLAS_NEV": "Sába-Ház",
                                    "SZOBA_SZAMA": "3",
                                    "Average guests": "2"
                                },
                                {
                                    "SZALLAS_NEV": "Sába-Ház",
                                    "SZOBA_SZAMA": "2",
                                    "Average guests": "3"
                                },
                                {
                                    "SZALLAS_NEV": "Sába-Ház",
                                    "SZOBA_SZAMA": "2",
                                    "Average guests": "3"
                                },
                                {
                                    "SZALLAS_NEV": "Sába-Ház",
                                    "SZOBA_SZAMA": "5",
                                    "Average guests": "3"
                                },
                                {
                                    "SZALLAS_NEV": "Sába-Ház",
                                    "SZOBA_SZAMA": "3",
                                    "Average guests": "3"
                                },
                                {
                                    "SZALLAS_NEV": "Sába-Ház",
                                    "SZOBA_SZAMA": "6",
                                    "Average guests": "3"
                                },
                                {
                                    "SZALLAS_NEV": "Sába-Ház",
                                    "SZOBA_SZAMA": "11",
                                    "Average guests": "3"
                                },
                                {
                                    "SZALLAS_NEV": "Sába-Ház",
                                    "SZOBA_SZAMA": "4",
                                    "Average guests": "2"
                                },
                                {
                                    "SZALLAS_NEV": "Sába-Ház",
                                    "SZOBA_SZAMA": "7",
                                    "Average guests": "2"
                                },
                                {
                                    "SZALLAS_NEV": "Sába-Ház",
                                    "SZOBA_SZAMA": "4",
                                    "Average guests": "2"
                                },
                                {
                                    "SZALLAS_NEV": "Sába-Ház",
                                    "SZOBA_SZAMA": "1",
                                    "Average guests": "2"
                                },
                                {
                                    "SZALLAS_NEV": "Sába-Ház",
                                    "SZOBA_SZAMA": "12",
                                    "Average guests": "2"
                                },
                                {
                                    "SZALLAS_NEV": "Sába-Ház",
                                    "SZOBA_SZAMA": "3",
                                    "Average guests": "2"
                                },
                                {
                                    "SZALLAS_NEV": "Sába-Ház",
                                    "SZOBA_SZAMA": "1",
                                    "Average guests": "2"
                                },
                                {
                                    "SZALLAS_NEV": "Sába-Ház",
                                    "SZOBA_SZAMA": "9",
                                    "Average guests": "2"
                                },
                                {
                                    "SZALLAS_NEV": "Sába-Ház",
                                    "SZOBA_SZAMA": "12",
                                    "Average guests": "2"
                                },
                                {
                                    "SZALLAS_NEV": "Sába-Ház",
                                    "SZOBA_SZAMA": "7",
                                    "Average guests": "2"
                                },
                                {
                                    "SZALLAS_NEV": "Sába-Ház",
                                    "SZOBA_SZAMA": "7",
                                    "Average guests": "2"
                                },
                                {
                                    "SZALLAS_NEV": "Sába-Ház",
                                    "SZOBA_SZAMA": "9",
                                    "Average guests": "2"
                                },
                                {
                                    "SZALLAS_NEV": "Sába-Ház",
                                    "SZOBA_SZAMA": "11",
                                    "Average guests": "2"
                                },
                                {
                                    "SZALLAS_NEV": "Sába-Ház",
                                    "SZOBA_SZAMA": "7",
                                    "Average guests": "2"
                                },
                                {
                                    "SZALLAS_NEV": "Sába-Ház",
                                    "SZOBA_SZAMA": "9",
                                    "Average guests": "2"
                                },
                                {
                                    "SZALLAS_NEV": "Sába-Ház",
                                    "SZOBA_SZAMA": "5",
                                    "Average guests": "2"
                                },
                                {
                                    "SZALLAS_NEV": "Sába-Ház",
                                    "SZOBA_SZAMA": "1",
                                    "Average guests": "2"
                                },
                                {
                                    "SZALLAS_NEV": "Sába-Ház",
                                    "SZOBA_SZAMA": "2",
                                    "Average guests": "2"
                                },
                                {
                                    "SZALLAS_NEV": "Sába-Ház",
                                    "SZOBA_SZAMA": "10",
                                    "Average guests": "2"
                                },
                                {
                                    "SZALLAS_NEV": "Sába-Ház",
                                    "SZOBA_SZAMA": "1",
                                    "Average guests": "3"
                                },
                                {
                                    "SZALLAS_NEV": "Sába-Ház",
                                    "SZOBA_SZAMA": "9",
                                    "Average guests": "3"
                                },
                                {
                                    "SZALLAS_NEV": "Sába-Ház",
                                    "SZOBA_SZAMA": "12",
                                    "Average guests": "2"
                                },
                                {
                                    "SZALLAS_NEV": "Sába-Ház",
                                    "SZOBA_SZAMA": "3",
                                    "Average guests": "2"
                                },
                                {
                                    "SZALLAS_NEV": "Sába-Ház",
                                    "SZOBA_SZAMA": "4",
                                    "Average guests": "2"
                                },
                                {
                                    "SZALLAS_NEV": "Sába-Ház",
                                    "SZOBA_SZAMA": "11",
                                    "Average guests": "2"
                                },
                                {
                                    "SZALLAS_NEV": "Sába-Ház",
                                    "SZOBA_SZAMA": "9",
                                    "Average guests": "2"
                                },
                                {
                                    "SZALLAS_NEV": "Sába-Ház",
                                    "SZOBA_SZAMA": "3",
                                    "Average guests": "2"
                                },
                                {
                                    "SZALLAS_NEV": "Szieszta Apartmanház",
                                    "SZOBA_SZAMA": "3",
                                    "Average guests": "3"
                                },
                                {
                                    "SZALLAS_NEV": "Szieszta Apartmanház",
                                    "SZOBA_SZAMA": "1",
                                    "Average guests": "2"
                                },
                                {
                                    "SZALLAS_NEV": "Szieszta Apartmanház",
                                    "SZOBA_SZAMA": "2",
                                    "Average guests": "2"
                                },
                                {
                                    "SZALLAS_NEV": "Szieszta Apartmanház",
                                    "SZOBA_SZAMA": "4",
                                    "Average guests": "2"
                                },
                                {
                                    "SZALLAS_NEV": "Szieszta Apartmanház",
                                    "SZOBA_SZAMA": "6",
                                    "Average guests": "2"
                                },
                                {
                                    "SZALLAS_NEV": "Szieszta Apartmanház",
                                    "SZOBA_SZAMA": "4",
                                    "Average guests": "2"
                                },
                                {
                                    "SZALLAS_NEV": "Szieszta Apartmanház",
                                    "SZOBA_SZAMA": "5",
                                    "Average guests": "2"
                                },
                                {
                                    "SZALLAS_NEV": "Szieszta Apartmanház",
                                    "SZOBA_SZAMA": "3",
                                    "Average guests": "2"
                                },
                                {
                                    "SZALLAS_NEV": "Szieszta Apartmanház",
                                    "SZOBA_SZAMA": "5",
                                    "Average guests": "2"
                                },
                                {
                                    "SZALLAS_NEV": "Szieszta Apartmanház",
                                    "SZOBA_SZAMA": "2",
                                    "Average guests": "2"
                                },
                                {
                                    "SZALLAS_NEV": "Szieszta Apartmanház",
                                    "SZOBA_SZAMA": "1",
                                    "Average guests": "2"
                                },
                                {
                                    "SZALLAS_NEV": "Szieszta Apartmanház",
                                    "SZOBA_SZAMA": "2",
                                    "Average guests": "2"
                                },
                                {
                                    "SZALLAS_NEV": "Szieszta Apartmanház",
                                    "SZOBA_SZAMA": "5",
                                    "Average guests": "2"
                                },
                                {
                                    "SZALLAS_NEV": "Szieszta Apartmanház",
                                    "SZOBA_SZAMA": "3",
                                    "Average guests": "1"
                                },
                                {
                                    "SZALLAS_NEV": "Szieszta Apartmanház",
                                    "SZOBA_SZAMA": "2",
                                    "Average guests": "1"
                                },
                                {
                                    "SZALLAS_NEV": "Szieszta Apartmanház",
                                    "SZOBA_SZAMA": "6",
                                    "Average guests": "2"
                                },
                                {
                                    "SZALLAS_NEV": "Szieszta Apartmanház",
                                    "SZOBA_SZAMA": "5",
                                    "Average guests": "2"
                                },
                                {
                                    "SZALLAS_NEV": "Szieszta Apartmanház",
                                    "SZOBA_SZAMA": "4",
                                    "Average guests": "2"
                                },
                                {
                                    "SZALLAS_NEV": "Szieszta Apartmanház",
                                    "SZOBA_SZAMA": "5",
                                    "Average guests": "2"
                                },
                                {
                                    "SZALLAS_NEV": "Szieszta Apartmanház",
                                    "SZOBA_SZAMA": "5",
                                    "Average guests": "2"
                                },
                                {
                                    "SZALLAS_NEV": "Szieszta Apartmanház",
                                    "SZOBA_SZAMA": "4",
                                    "Average guests": "2"
                                },
                                {
                                    "SZALLAS_NEV": "Szieszta Apartmanház",
                                    "SZOBA_SZAMA": "6",
                                    "Average guests": "2"
                                },
                                {
                                    "SZALLAS_NEV": "Szieszta Apartmanház",
                                    "SZOBA_SZAMA": "4",
                                    "Average guests": "2"
                                },
                                {
                                    "SZALLAS_NEV": "Szieszta Apartmanház",
                                    "SZOBA_SZAMA": "1",
                                    "Average guests": "2"
                                },
                                {
                                    "SZALLAS_NEV": "Szieszta Apartmanház",
                                    "SZOBA_SZAMA": "3",
                                    "Average guests": "2"
                                },
                                {
                                    "SZALLAS_NEV": "Szieszta Apartmanház",
                                    "SZOBA_SZAMA": "4",
                                    "Average guests": "2"
                                },
                                {
                                    "SZALLAS_NEV": "Szieszta Apartmanház",
                                    "SZOBA_SZAMA": "5",
                                    "Average guests": "2"
                                },
                                {
                                    "SZALLAS_NEV": "Szieszta Apartmanház",
                                    "SZOBA_SZAMA": "6",
                                    "Average guests": "2"
                                },
                                {
                                    "SZALLAS_NEV": "Szieszta Apartmanház",
                                    "SZOBA_SZAMA": "2",
                                    "Average guests": "2"
                                },
                                {
                                    "SZALLAS_NEV": "Szieszta Apartmanház",
                                    "SZOBA_SZAMA": "3",
                                    "Average guests": "2"
                                },
                                {
                                    "SZALLAS_NEV": "Szieszta Apartmanház",
                                    "SZOBA_SZAMA": "1",
                                    "Average guests": "2"
                                },
                                {
                                    "SZALLAS_NEV": "Szieszta Apartmanház",
                                    "SZOBA_SZAMA": "5",
                                    "Average guests": "2"
                                },
                                {
                                    "SZALLAS_NEV": "Szieszta Apartmanház",
                                    "SZOBA_SZAMA": "4",
                                    "Average guests": "2"
                                },
                                {
                                    "SZALLAS_NEV": "Szieszta Apartmanház",
                                    "SZOBA_SZAMA": "4",
                                    "Average guests": "2"
                                }
                            ]
                        },
                        "text/html": "<table><tr><th>SZALLAS_NEV</th><th>SZOBA_SZAMA</th><th>Average guests</th></tr><tr><td>Családi Ház</td><td>2</td><td>4</td></tr><tr><td>Családi Ház</td><td>4</td><td>4</td></tr><tr><td>Családi Ház</td><td>4</td><td>3</td></tr><tr><td>Családi Ház</td><td>4</td><td>3</td></tr><tr><td>Családi Ház</td><td>3</td><td>3</td></tr><tr><td>Családi Ház</td><td>4</td><td>3</td></tr><tr><td>Családi Ház</td><td>1</td><td>3</td></tr><tr><td>Családi Ház</td><td>3</td><td>2</td></tr><tr><td>Családi Ház</td><td>2</td><td>2</td></tr><tr><td>Családi Ház</td><td>1</td><td>2</td></tr><tr><td>Családi Ház</td><td>3</td><td>2</td></tr><tr><td>Családi Ház</td><td>3</td><td>2</td></tr><tr><td>Családi Ház</td><td>1</td><td>2</td></tr><tr><td>Családi Ház</td><td>3</td><td>2</td></tr><tr><td>Családi Ház</td><td>3</td><td>2</td></tr><tr><td>Családi Ház</td><td>1</td><td>2</td></tr><tr><td>Családi Ház</td><td>4</td><td>2</td></tr><tr><td>Családi Ház</td><td>2</td><td>2</td></tr><tr><td>Fortuna Apartman</td><td>5</td><td>2</td></tr><tr><td>Fortuna Apartman</td><td>1</td><td>3</td></tr><tr><td>Fortuna Apartman</td><td>2</td><td>2</td></tr><tr><td>Fortuna Apartman</td><td>5</td><td>2</td></tr><tr><td>Fortuna Apartman</td><td>8</td><td>2</td></tr><tr><td>Fortuna Apartman</td><td>6</td><td>2</td></tr><tr><td>Fortuna Apartman</td><td>1</td><td>2</td></tr><tr><td>Fortuna Apartman</td><td>7</td><td>2</td></tr><tr><td>Fortuna Apartman</td><td>7</td><td>2</td></tr><tr><td>Fortuna Apartman</td><td>3</td><td>1</td></tr><tr><td>Fortuna Apartman</td><td>6</td><td>1</td></tr><tr><td>Fortuna Apartman</td><td>3</td><td>1</td></tr><tr><td>Fortuna Apartman</td><td>1</td><td>1</td></tr><tr><td>Fortuna Apartman</td><td>1</td><td>1</td></tr><tr><td>Fortuna Apartman</td><td>4</td><td>1</td></tr><tr><td>Fortuna Apartman</td><td>2</td><td>2</td></tr><tr><td>Fortuna Apartman</td><td>3</td><td>2</td></tr><tr><td>Fortuna Apartman</td><td>5</td><td>2</td></tr><tr><td>Fortuna Apartman</td><td>4</td><td>2</td></tr><tr><td>Fortuna Apartman</td><td>7</td><td>2</td></tr><tr><td>Fortuna Apartman</td><td>2</td><td>2</td></tr><tr><td>Fortuna Apartman</td><td>4</td><td>2</td></tr><tr><td>Fortuna Apartman</td><td>4</td><td>2</td></tr><tr><td>Fortuna Apartman</td><td>4</td><td>2</td></tr><tr><td>Fortuna Apartman</td><td>6</td><td>3</td></tr><tr><td>Fortuna Apartman</td><td>3</td><td>3</td></tr><tr><td>Fortuna Apartman</td><td>8</td><td>3</td></tr><tr><td>Fortuna Apartman</td><td>2</td><td>3</td></tr><tr><td>Fortuna Apartman</td><td>6</td><td>3</td></tr><tr><td>Fortuna Apartman</td><td>2</td><td>3</td></tr><tr><td>Fortuna Apartman</td><td>6</td><td>3</td></tr><tr><td>Fortuna Apartman</td><td>5</td><td>3</td></tr><tr><td>Fortuna Apartman</td><td>3</td><td>3</td></tr><tr><td>Fortuna Apartman</td><td>6</td><td>2</td></tr><tr><td>Fortuna Apartman</td><td>1</td><td>2</td></tr><tr><td>Fortuna Apartman</td><td>8</td><td>3</td></tr><tr><td>Fortuna Apartman</td><td>2</td><td>3</td></tr><tr><td>Fortuna Apartman</td><td>3</td><td>3</td></tr><tr><td>Fortuna Apartman</td><td>1</td><td>3</td></tr><tr><td>Fortuna Panzió</td><td>3</td><td>2</td></tr><tr><td>Fortuna Panzió</td><td>5</td><td>2</td></tr><tr><td>Fortuna Panzió</td><td>3</td><td>2</td></tr><tr><td>Fortuna panzió</td><td>7</td><td>2</td></tr><tr><td>Fortuna panzió</td><td>15</td><td>2</td></tr><tr><td>Fortuna Panzió</td><td>9</td><td>2</td></tr><tr><td>Fortuna panzió</td><td>6</td><td>2</td></tr><tr><td>Fortuna panzió</td><td>7</td><td>2</td></tr><tr><td>Fortuna panzió</td><td>5</td><td>2</td></tr><tr><td>Fortuna panzió</td><td>14</td><td>2</td></tr><tr><td>Fortuna panzió</td><td>9</td><td>3</td></tr><tr><td>Fortuna Panzió</td><td>9</td><td>3</td></tr><tr><td>Fortuna Panzió</td><td>5</td><td>3</td></tr><tr><td>Fortuna Panzió</td><td>3</td><td>3</td></tr><tr><td>Fortuna panzió</td><td>10</td><td>3</td></tr><tr><td>Fortuna panzió</td><td>4</td><td>2</td></tr><tr><td>Fortuna panzió</td><td>4</td><td>2</td></tr><tr><td>Fortuna Panzió</td><td>10</td><td>2</td></tr><tr><td>Fortuna panzió</td><td>5</td><td>2</td></tr><tr><td>Fortuna panzió</td><td>12</td><td>2</td></tr><tr><td>Fortuna panzió</td><td>15</td><td>2</td></tr><tr><td>Fortuna panzió</td><td>4</td><td>2</td></tr><tr><td>Fortuna panzió</td><td>10</td><td>2</td></tr><tr><td>Fortuna Panzió</td><td>9</td><td>2</td></tr><tr><td>Fortuna panzió</td><td>12</td><td>2</td></tr><tr><td>Fortuna panzió</td><td>8</td><td>2</td></tr><tr><td>Fortuna Panzió</td><td>1</td><td>2</td></tr><tr><td>Fortuna Panzió</td><td>1</td><td>2</td></tr><tr><td>Fortuna Panzió</td><td>8</td><td>2</td></tr><tr><td>Fortuna Panzió</td><td>2</td><td>2</td></tr><tr><td>Fortuna panzió</td><td>11</td><td>2</td></tr><tr><td>Fortuna panzió</td><td>11</td><td>2</td></tr><tr><td>Fortuna panzió</td><td>12</td><td>2</td></tr><tr><td>Fortuna Panzió</td><td>9</td><td>2</td></tr><tr><td>Fortuna panzió</td><td>12</td><td>3</td></tr><tr><td>Fortuna panzió</td><td>9</td><td>3</td></tr><tr><td>Fortuna Panzió</td><td>1</td><td>2</td></tr><tr><td>Fortuna Panzió</td><td>4</td><td>2</td></tr><tr><td>Fortuna panzió</td><td>6</td><td>2</td></tr><tr><td>Fortuna Panzió</td><td>4</td><td>2</td></tr><tr><td>Fortuna panzió</td><td>11</td><td>2</td></tr><tr><td>Fortuna panzió</td><td>13</td><td>2</td></tr><tr><td>Fortuna panzió</td><td>13</td><td>2</td></tr><tr><td>Fortuna panzió</td><td>11</td><td>2</td></tr><tr><td>Fortuna panzió</td><td>4</td><td>2</td></tr><tr><td>Fortuna panzió</td><td>7</td><td>2</td></tr><tr><td>Fortuna panzió</td><td>12</td><td>2</td></tr><tr><td>Fortuna panzió</td><td>12</td><td>3</td></tr><tr><td>Fortuna Panzió</td><td>7</td><td>3</td></tr><tr><td>Fortuna panzió</td><td>3</td><td>3</td></tr><tr><td>Fortuna Panzió</td><td>3</td><td>3</td></tr><tr><td>Fortuna panzió</td><td>10</td><td>3</td></tr><tr><td>Fortuna Panzió</td><td>10</td><td>3</td></tr><tr><td>Fortuna Panzió</td><td>6</td><td>2</td></tr><tr><td>Fortuna Panzió</td><td>6</td><td>2</td></tr><tr><td>Fortuna panzió</td><td>3</td><td>2</td></tr><tr><td>Fortuna panzió</td><td>10</td><td>2</td></tr><tr><td>Fortuna Panzió</td><td>5</td><td>2</td></tr><tr><td>Fortuna Panzió</td><td>9</td><td>2</td></tr><tr><td>Fortuna Panzió</td><td>10</td><td>2</td></tr><tr><td>Fortuna panzió</td><td>11</td><td>2</td></tr><tr><td>Fortuna Panzió</td><td>6</td><td>2</td></tr><tr><td>Fortuna panzió</td><td>3</td><td>2</td></tr><tr><td>Fortuna panzió</td><td>14</td><td>2</td></tr><tr><td>Fortuna panzió</td><td>1</td><td>2</td></tr><tr><td>Fortuna panzió</td><td>9</td><td>2</td></tr><tr><td>Fortuna Panzió</td><td>8</td><td>2</td></tr><tr><td>Fortuna panzió</td><td>14</td><td>2</td></tr><tr><td>Fortuna Panzió</td><td>10</td><td>2</td></tr><tr><td>Fortuna panzió</td><td>5</td><td>2</td></tr><tr><td>Fortuna panzió</td><td>14</td><td>2</td></tr><tr><td>Fortuna panzió</td><td>3</td><td>2</td></tr><tr><td>Fortuna Panzió</td><td>4</td><td>2</td></tr><tr><td>Fortuna Panzió</td><td>1</td><td>2</td></tr><tr><td>Fortuna Panzió</td><td>6</td><td>2</td></tr><tr><td>Fortuna panzió</td><td>6</td><td>2</td></tr><tr><td>Fortuna Panzió</td><td>2</td><td>2</td></tr><tr><td>Fortuna panzió</td><td>4</td><td>2</td></tr><tr><td>Fortuna panzió</td><td>2</td><td>2</td></tr><tr><td>Fortuna panzió</td><td>5</td><td>2</td></tr><tr><td>Fortuna Panzió</td><td>7</td><td>2</td></tr><tr><td>Fortuna Panzió</td><td>10</td><td>2</td></tr><tr><td>Fortuna Panzió</td><td>4</td><td>2</td></tr><tr><td>Fortuna panzió</td><td>15</td><td>2</td></tr><tr><td>Fortuna Panzió</td><td>10</td><td>2</td></tr><tr><td>Fortuna Panzió</td><td>4</td><td>2</td></tr><tr><td>Fortuna panzió</td><td>5</td><td>2</td></tr><tr><td>Fortuna Panzió</td><td>9</td><td>2</td></tr><tr><td>Fortuna Panzió</td><td>4</td><td>2</td></tr><tr><td>Fortuna panzió</td><td>3</td><td>2</td></tr><tr><td>Fortuna Panzió</td><td>7</td><td>2</td></tr><tr><td>Fortuna Panzió</td><td>5</td><td>2</td></tr><tr><td>Fortuna Panzió</td><td>6</td><td>2</td></tr><tr><td>Fortuna Panzió</td><td>3</td><td>2</td></tr><tr><td>Fortuna panzió</td><td>9</td><td>2</td></tr><tr><td>Fortuna panzió</td><td>13</td><td>2</td></tr><tr><td>Fortuna panzió</td><td>9</td><td>2</td></tr><tr><td>Fortuna panzió</td><td>14</td><td>2</td></tr><tr><td>Fortuna panzió</td><td>1</td><td>2</td></tr><tr><td>Fortuna panzió</td><td>3</td><td>2</td></tr><tr><td>Fortuna panzió</td><td>15</td><td>2</td></tr><tr><td>Fortuna panzió</td><td>9</td><td>2</td></tr><tr><td>Fortuna panzió</td><td>2</td><td>2</td></tr><tr><td>Fortuna panzió</td><td>11</td><td>2</td></tr><tr><td>Fortuna panzió</td><td>11</td><td>2</td></tr><tr><td>Fortuna panzió</td><td>14</td><td>2</td></tr><tr><td>Fortuna Panzió</td><td>5</td><td>2</td></tr><tr><td>Fortuna panzió</td><td>15</td><td>2</td></tr><tr><td>Fortuna panzió</td><td>11</td><td>2</td></tr><tr><td>Fortuna Panzió</td><td>3</td><td>2</td></tr><tr><td>Fortuna panzió</td><td>15</td><td>2</td></tr><tr><td>Fortuna panzió</td><td>4</td><td>2</td></tr><tr><td>Fortuna panzió</td><td>3</td><td>2</td></tr><tr><td>Fortuna panzió</td><td>14</td><td>2</td></tr><tr><td>Fortuna Panzió</td><td>7</td><td>2</td></tr><tr><td>Fortuna Panzió</td><td>4</td><td>2</td></tr><tr><td>Fortuna panzió</td><td>11</td><td>2</td></tr><tr><td>Fortuna Panzió</td><td>10</td><td>2</td></tr><tr><td>Fortuna panzió</td><td>15</td><td>2</td></tr><tr><td>Fortuna Panzió</td><td>9</td><td>2</td></tr><tr><td>Fortuna Panzió</td><td>9</td><td>2</td></tr><tr><td>Fortuna Panzió</td><td>5</td><td>2</td></tr><tr><td>Fortuna Panzió</td><td>4</td><td>2</td></tr><tr><td>Fortuna panzió</td><td>14</td><td>2</td></tr><tr><td>Fortuna panzió</td><td>5</td><td>2</td></tr><tr><td>Fortuna Panzió</td><td>9</td><td>2</td></tr><tr><td>Gold Hotel</td><td>6</td><td>1</td></tr><tr><td>Gold Hotel</td><td>18</td><td>1</td></tr><tr><td>Gold Hotel</td><td>5</td><td>1</td></tr><tr><td>Gold Hotel</td><td>7</td><td>1</td></tr><tr><td>Gold Hotel</td><td>21</td><td>2</td></tr><tr><td>Gold Hotel</td><td>12</td><td>2</td></tr><tr><td>Gold Hotel</td><td>26</td><td>2</td></tr><tr><td>Gold Hotel</td><td>20</td><td>2</td></tr><tr><td>Gold Hotel</td><td>22</td><td>2</td></tr><tr><td>Gold Hotel</td><td>23</td><td>2</td></tr><tr><td>Gold Hotel</td><td>29</td><td>2</td></tr><tr><td>Gold Hotel</td><td>1</td><td>2</td></tr><tr><td>Gold Hotel</td><td>2</td><td>2</td></tr><tr><td>Gold Hotel</td><td>5</td><td>2</td></tr><tr><td>Gold Hotel</td><td>15</td><td>2</td></tr><tr><td>Gold Hotel</td><td>3</td><td>2</td></tr><tr><td>Gold Hotel</td><td>1</td><td>2</td></tr><tr><td>Gold Hotel</td><td>21</td><td>2</td></tr><tr><td>Gold Hotel</td><td>11</td><td>2</td></tr><tr><td>Gold Hotel</td><td>23</td><td>2</td></tr><tr><td>Gold Hotel</td><td>20</td><td>1</td></tr><tr><td>Gold Hotel</td><td>1</td><td>1</td></tr><tr><td>Gold Hotel</td><td>21</td><td>2</td></tr><tr><td>Gold Hotel</td><td>1</td><td>1</td></tr><tr><td>Gold Hotel</td><td>1</td><td>2</td></tr><tr><td>Gold Hotel</td><td>16</td><td>2</td></tr><tr><td>Gold Hotel</td><td>28</td><td>2</td></tr><tr><td>Gold Hotel</td><td>24</td><td>2</td></tr><tr><td>Gold Hotel</td><td>9</td><td>2</td></tr><tr><td>Gold Hotel</td><td>10</td><td>2</td></tr><tr><td>Gold Hotel</td><td>18</td><td>2</td></tr><tr><td>Gold Hotel</td><td>4</td><td>2</td></tr><tr><td>Gold Hotel</td><td>21</td><td>2</td></tr><tr><td>Gold Hotel</td><td>29</td><td>3</td></tr><tr><td>Gold Hotel</td><td>17</td><td>3</td></tr><tr><td>Gold Hotel</td><td>19</td><td>3</td></tr><tr><td>Gold Hotel</td><td>6</td><td>3</td></tr><tr><td>Gold Hotel</td><td>32</td><td>3</td></tr><tr><td>Gold Hotel</td><td>23</td><td>3</td></tr><tr><td>Gold Hotel</td><td>17</td><td>2</td></tr><tr><td>Gold Hotel</td><td>5</td><td>2</td></tr><tr><td>Gold Hotel</td><td>29</td><td>2</td></tr><tr><td>Gold Hotel</td><td>34</td><td>3</td></tr><tr><td>Gold Hotel</td><td>7</td><td>2</td></tr><tr><td>Gold Hotel</td><td>8</td><td>2</td></tr><tr><td>Gold Hotel</td><td>26</td><td>2</td></tr><tr><td>Gold Hotel</td><td>14</td><td>2</td></tr><tr><td>Gold Hotel</td><td>33</td><td>2</td></tr><tr><td>Gold Hotel</td><td>34</td><td>2</td></tr><tr><td>Gold Hotel</td><td>18</td><td>2</td></tr><tr><td>Gold Hotel</td><td>10</td><td>2</td></tr><tr><td>Gold Hotel</td><td>26</td><td>2</td></tr><tr><td>Gold Hotel</td><td>15</td><td>2</td></tr><tr><td>Gold Hotel</td><td>17</td><td>2</td></tr><tr><td>Gold Hotel</td><td>9</td><td>2</td></tr><tr><td>Gold Hotel</td><td>21</td><td>2</td></tr><tr><td>Gold Hotel</td><td>32</td><td>2</td></tr><tr><td>Gold Hotel</td><td>29</td><td>2</td></tr><tr><td>Gold Hotel</td><td>17</td><td>2</td></tr><tr><td>Gold Hotel</td><td>21</td><td>2</td></tr><tr><td>Gold Hotel</td><td>28</td><td>2</td></tr><tr><td>Gold Hotel</td><td>10</td><td>2</td></tr><tr><td>Gold Hotel</td><td>20</td><td>2</td></tr><tr><td>Gold Hotel</td><td>24</td><td>2</td></tr><tr><td>Gold Hotel</td><td>21</td><td>2</td></tr><tr><td>Gold Hotel</td><td>25</td><td>1</td></tr><tr><td>Gold Hotel</td><td>23</td><td>2</td></tr><tr><td>Gold Hotel</td><td>8</td><td>1</td></tr><tr><td>Gold Hotel</td><td>24</td><td>2</td></tr><tr><td>Gold Hotel</td><td>21</td><td>2</td></tr><tr><td>Gold Hotel</td><td>31</td><td>2</td></tr><tr><td>Gold Hotel</td><td>17</td><td>2</td></tr><tr><td>Gold Hotel</td><td>18</td><td>2</td></tr><tr><td>Gold Hotel</td><td>23</td><td>2</td></tr><tr><td>Gold Hotel</td><td>5</td><td>2</td></tr><tr><td>Gold Hotel</td><td>24</td><td>2</td></tr><tr><td>Gold Hotel</td><td>8</td><td>2</td></tr><tr><td>Gold Hotel</td><td>25</td><td>2</td></tr><tr><td>Gold Hotel</td><td>33</td><td>2</td></tr><tr><td>Gold Hotel</td><td>23</td><td>2</td></tr><tr><td>Gold Hotel</td><td>26</td><td>2</td></tr><tr><td>Gold Hotel</td><td>4</td><td>2</td></tr><tr><td>Gold Hotel</td><td>2</td><td>2</td></tr><tr><td>Gold Hotel</td><td>13</td><td>2</td></tr><tr><td>Gold Hotel</td><td>4</td><td>2</td></tr><tr><td>Gold Hotel</td><td>11</td><td>2</td></tr><tr><td>Gold Hotel</td><td>14</td><td>2</td></tr><tr><td>Gold Hotel</td><td>13</td><td>2</td></tr><tr><td>Gold Hotel</td><td>29</td><td>3</td></tr><tr><td>Gold Hotel</td><td>8</td><td>2</td></tr><tr><td>Gold Hotel</td><td>31</td><td>2</td></tr><tr><td>Gold Hotel</td><td>24</td><td>2</td></tr><tr><td>Gold Hotel</td><td>27</td><td>2</td></tr><tr><td>Gold Hotel</td><td>29</td><td>2</td></tr><tr><td>Gold Hotel</td><td>34</td><td>2</td></tr><tr><td>Gold Hotel</td><td>19</td><td>2</td></tr><tr><td>Gold Hotel</td><td>31</td><td>2</td></tr><tr><td>Gold Hotel</td><td>33</td><td>2</td></tr><tr><td>Gold Hotel</td><td>11</td><td>2</td></tr><tr><td>Gold Hotel</td><td>30</td><td>2</td></tr><tr><td>Gold Hotel</td><td>34</td><td>2</td></tr><tr><td>Gold Hotel</td><td>21</td><td>2</td></tr><tr><td>Gold Hotel</td><td>11</td><td>2</td></tr><tr><td>Gold Hotel</td><td>34</td><td>2</td></tr><tr><td>Gold Hotel</td><td>1</td><td>2</td></tr><tr><td>Gold Hotel</td><td>8</td><td>2</td></tr><tr><td>Gold Hotel</td><td>12</td><td>2</td></tr><tr><td>Gold Hotel</td><td>19</td><td>2</td></tr><tr><td>Gold Hotel</td><td>22</td><td>2</td></tr><tr><td>Gold Hotel</td><td>34</td><td>2</td></tr><tr><td>Gold Hotel</td><td>8</td><td>2</td></tr><tr><td>Gold Hotel</td><td>33</td><td>2</td></tr><tr><td>Gold Hotel</td><td>13</td><td>2</td></tr><tr><td>Gold Hotel</td><td>7</td><td>2</td></tr><tr><td>Gold Hotel</td><td>21</td><td>2</td></tr><tr><td>Gold Hotel</td><td>31</td><td>2</td></tr><tr><td>Gold Hotel</td><td>18</td><td>2</td></tr><tr><td>Gold Hotel</td><td>6</td><td>2</td></tr><tr><td>Gold Hotel</td><td>25</td><td>2</td></tr><tr><td>Gold Hotel</td><td>14</td><td>2</td></tr><tr><td>Gold Hotel</td><td>34</td><td>2</td></tr><tr><td>Gold Hotel</td><td>18</td><td>2</td></tr><tr><td>Gold Hotel</td><td>18</td><td>2</td></tr><tr><td>Gold Hotel</td><td>29</td><td>2</td></tr><tr><td>Gold Hotel</td><td>14</td><td>2</td></tr><tr><td>Gold Hotel</td><td>22</td><td>2</td></tr><tr><td>Gold Hotel</td><td>4</td><td>2</td></tr><tr><td>Gold Hotel</td><td>20</td><td>2</td></tr><tr><td>Gold Hotel</td><td>4</td><td>2</td></tr><tr><td>Gold Hotel</td><td>6</td><td>2</td></tr><tr><td>Gold Hotel</td><td>10</td><td>1</td></tr><tr><td>Gold Hotel</td><td>12</td><td>2</td></tr><tr><td>Gold Hotel</td><td>27</td><td>2</td></tr><tr><td>Gold Hotel</td><td>33</td><td>2</td></tr><tr><td>Gold Hotel</td><td>18</td><td>2</td></tr><tr><td>Gold Hotel</td><td>32</td><td>2</td></tr><tr><td>Gold Hotel</td><td>18</td><td>2</td></tr><tr><td>Gold Hotel</td><td>27</td><td>2</td></tr><tr><td>Gold Hotel</td><td>18</td><td>2</td></tr><tr><td>Gold Hotel</td><td>7</td><td>1</td></tr><tr><td>Gold Hotel</td><td>8</td><td>1</td></tr><tr><td>Gold Hotel</td><td>32</td><td>2</td></tr><tr><td>Gold Hotel</td><td>6</td><td>1</td></tr><tr><td>Gold Hotel</td><td>17</td><td>1</td></tr><tr><td>Gold Hotel</td><td>9</td><td>1</td></tr><tr><td>Gold Hotel</td><td>5</td><td>2</td></tr><tr><td>Gold Hotel</td><td>1</td><td>2</td></tr><tr><td>Gold Hotel</td><td>12</td><td>2</td></tr><tr><td>Gold Hotel</td><td>33</td><td>2</td></tr><tr><td>Gold Hotel</td><td>24</td><td>2</td></tr><tr><td>Gold Hotel</td><td>23</td><td>2</td></tr><tr><td>Gold Hotel</td><td>11</td><td>2</td></tr><tr><td>Gold Hotel</td><td>18</td><td>2</td></tr><tr><td>Gold Hotel</td><td>3</td><td>2</td></tr><tr><td>Gold Hotel</td><td>34</td><td>2</td></tr><tr><td>Gold Hotel</td><td>8</td><td>2</td></tr><tr><td>Gold Hotel</td><td>18</td><td>1</td></tr><tr><td>Gold Hotel</td><td>5</td><td>1</td></tr><tr><td>Gold Hotel</td><td>9</td><td>1</td></tr><tr><td>Gold Hotel</td><td>19</td><td>1</td></tr><tr><td>Gold Hotel</td><td>21</td><td>2</td></tr><tr><td>Gold Hotel</td><td>25</td><td>2</td></tr><tr><td>Gold Hotel</td><td>21</td><td>2</td></tr><tr><td>Gold Hotel</td><td>22</td><td>2</td></tr><tr><td>Gold Hotel</td><td>31</td><td>2</td></tr><tr><td>Gold Hotel</td><td>31</td><td>2</td></tr><tr><td>Gold Hotel</td><td>8</td><td>2</td></tr><tr><td>Gold Hotel</td><td>15</td><td>2</td></tr><tr><td>Gold Hotel</td><td>27</td><td>2</td></tr><tr><td>Gold Hotel</td><td>13</td><td>2</td></tr><tr><td>Gold Hotel</td><td>27</td><td>2</td></tr><tr><td>Gold Hotel</td><td>12</td><td>2</td></tr><tr><td>Gold Hotel</td><td>26</td><td>2</td></tr><tr><td>Gold Hotel</td><td>2</td><td>2</td></tr><tr><td>Gold Hotel</td><td>16</td><td>2</td></tr><tr><td>Gold Hotel</td><td>16</td><td>2</td></tr><tr><td>Gold Hotel</td><td>7</td><td>3</td></tr><tr><td>Gold Hotel</td><td>12</td><td>2</td></tr><tr><td>Gold Hotel</td><td>25</td><td>2</td></tr><tr><td>Hotel Három Hattyú</td><td>35</td><td>3</td></tr><tr><td>Hotel Három Hattyú</td><td>17</td><td>2</td></tr><tr><td>Hotel Három Hattyú</td><td>33</td><td>1</td></tr><tr><td>Hotel Három Hattyú</td><td>25</td><td>2</td></tr><tr><td>Hotel Három Hattyú</td><td>10</td><td>2</td></tr><tr><td>Hotel Három Hattyú</td><td>21</td><td>2</td></tr><tr><td>Hotel Három Hattyú</td><td>6</td><td>2</td></tr><tr><td>Hotel Három Hattyú</td><td>16</td><td>2</td></tr><tr><td>Hotel Három Hattyú</td><td>27</td><td>2</td></tr><tr><td>Hotel Három Hattyú</td><td>19</td><td>2</td></tr><tr><td>Hotel Három Hattyú</td><td>4</td><td>2</td></tr><tr><td>Hotel Három Hattyú</td><td>27</td><td>2</td></tr><tr><td>Hotel Három Hattyú</td><td>15</td><td>2</td></tr><tr><td>Hotel Három Hattyú</td><td>19</td><td>2</td></tr><tr><td>Hotel Három Hattyú</td><td>6</td><td>2</td></tr><tr><td>Hotel Három Hattyú</td><td>8</td><td>2</td></tr><tr><td>Hotel Három Hattyú</td><td>9</td><td>2</td></tr><tr><td>Hotel Három Hattyú</td><td>7</td><td>2</td></tr><tr><td>Hotel Három Hattyú</td><td>1</td><td>2</td></tr><tr><td>Hotel Három Hattyú</td><td>10</td><td>2</td></tr><tr><td>Hotel Három Hattyú</td><td>37</td><td>2</td></tr><tr><td>Hotel Három Hattyú</td><td>19</td><td>2</td></tr><tr><td>Hotel Három Hattyú</td><td>5</td><td>2</td></tr><tr><td>Hotel Három Hattyú</td><td>37</td><td>2</td></tr><tr><td>Hotel Három Hattyú</td><td>31</td><td>1</td></tr><tr><td>Hotel Három Hattyú</td><td>34</td><td>2</td></tr><tr><td>Hotel Három Hattyú</td><td>28</td><td>2</td></tr><tr><td>Hotel Három Hattyú</td><td>37</td><td>2</td></tr><tr><td>Hotel Három Hattyú</td><td>8</td><td>1</td></tr><tr><td>Hotel Három Hattyú</td><td>22</td><td>2</td></tr><tr><td>Hotel Három Hattyú</td><td>20</td><td>2</td></tr><tr><td>Hotel Három Hattyú</td><td>33</td><td>1</td></tr><tr><td>Hotel Három Hattyú</td><td>2</td><td>2</td></tr><tr><td>Hotel Három Hattyú</td><td>25</td><td>2</td></tr><tr><td>Hotel Három Hattyú</td><td>27</td><td>2</td></tr><tr><td>Hotel Három Hattyú</td><td>21</td><td>2</td></tr><tr><td>Hotel Három Hattyú</td><td>27</td><td>2</td></tr><tr><td>Hotel Három Hattyú</td><td>20</td><td>2</td></tr><tr><td>Hotel Három Hattyú</td><td>24</td><td>2</td></tr><tr><td>Hotel Három Hattyú</td><td>33</td><td>2</td></tr><tr><td>Hotel Három Hattyú</td><td>13</td><td>2</td></tr><tr><td>Hotel Három Hattyú</td><td>4</td><td>2</td></tr><tr><td>Hotel Három Hattyú</td><td>13</td><td>2</td></tr><tr><td>Hotel Három Hattyú</td><td>28</td><td>2</td></tr><tr><td>Hotel Három Hattyú</td><td>28</td><td>2</td></tr><tr><td>Hotel Három Hattyú</td><td>30</td><td>2</td></tr><tr><td>Hotel Három Hattyú</td><td>27</td><td>2</td></tr><tr><td>Hotel Három Hattyú</td><td>32</td><td>3</td></tr><tr><td>Hotel Három Hattyú</td><td>2</td><td>3</td></tr><tr><td>Hotel Három Hattyú</td><td>29</td><td>3</td></tr><tr><td>Hotel Három Hattyú</td><td>4</td><td>2</td></tr><tr><td>Hotel Három Hattyú</td><td>6</td><td>2</td></tr><tr><td>Hotel Három Hattyú</td><td>20</td><td>2</td></tr><tr><td>Hotel Három Hattyú</td><td>12</td><td>2</td></tr><tr><td>Hotel Három Hattyú</td><td>9</td><td>1</td></tr><tr><td>Hotel Három Hattyú</td><td>29</td><td>2</td></tr><tr><td>Hotel Három Hattyú</td><td>16</td><td>1</td></tr><tr><td>Hotel Három Hattyú</td><td>11</td><td>1</td></tr><tr><td>Hotel Három Hattyú</td><td>28</td><td>1</td></tr><tr><td>Hotel Három Hattyú</td><td>38</td><td>2</td></tr><tr><td>Hotel Három Hattyú</td><td>7</td><td>2</td></tr><tr><td>Hotel Három Hattyú</td><td>29</td><td>2</td></tr><tr><td>Hotel Három Hattyú</td><td>39</td><td>2</td></tr><tr><td>Hotel Három Hattyú</td><td>7</td><td>3</td></tr><tr><td>Hotel Három Hattyú</td><td>4</td><td>2</td></tr><tr><td>Hotel Három Hattyú</td><td>1</td><td>2</td></tr><tr><td>Hotel Három Hattyú</td><td>31</td><td>2</td></tr><tr><td>Hotel Három Hattyú</td><td>24</td><td>2</td></tr><tr><td>Hotel Három Hattyú</td><td>3</td><td>2</td></tr><tr><td>Hotel Három Hattyú</td><td>31</td><td>2</td></tr><tr><td>Hotel Három Hattyú</td><td>36</td><td>2</td></tr><tr><td>Hotel Három Hattyú</td><td>30</td><td>2</td></tr><tr><td>Hotel Három Hattyú</td><td>22</td><td>2</td></tr><tr><td>Hotel Három Hattyú</td><td>6</td><td>2</td></tr><tr><td>Hotel Három Hattyú</td><td>21</td><td>2</td></tr><tr><td>Hotel Három Hattyú</td><td>22</td><td>2</td></tr><tr><td>Hotel Három Hattyú</td><td>36</td><td>2</td></tr><tr><td>Hotel Három Hattyú</td><td>2</td><td>2</td></tr><tr><td>Hotel Három Hattyú</td><td>19</td><td>2</td></tr><tr><td>Hotel Három Hattyú</td><td>38</td><td>2</td></tr><tr><td>Hotel Három Hattyú</td><td>24</td><td>2</td></tr><tr><td>Hotel Három Hattyú</td><td>7</td><td>2</td></tr><tr><td>Hotel Három Hattyú</td><td>14</td><td>2</td></tr><tr><td>Hotel Három Hattyú</td><td>2</td><td>2</td></tr><tr><td>Hotel Három Hattyú</td><td>23</td><td>3</td></tr><tr><td>Hotel Három Hattyú</td><td>37</td><td>2</td></tr><tr><td>Hotel Három Hattyú</td><td>32</td><td>3</td></tr><tr><td>Hotel Három Hattyú</td><td>20</td><td>3</td></tr><tr><td>Hotel Három Hattyú</td><td>5</td><td>2</td></tr><tr><td>Hotel Három Hattyú</td><td>31</td><td>2</td></tr><tr><td>Hotel Három Hattyú</td><td>8</td><td>2</td></tr><tr><td>Hotel Három Hattyú</td><td>32</td><td>2</td></tr><tr><td>Hotel Három Hattyú</td><td>9</td><td>2</td></tr><tr><td>Hotel Három Hattyú</td><td>19</td><td>2</td></tr><tr><td>Hotel Három Hattyú</td><td>23</td><td>2</td></tr><tr><td>Hotel Három Hattyú</td><td>30</td><td>2</td></tr><tr><td>Hotel Három Hattyú</td><td>20</td><td>2</td></tr><tr><td>Hotel Három Hattyú</td><td>5</td><td>2</td></tr><tr><td>Hotel Három Hattyú</td><td>18</td><td>2</td></tr><tr><td>Hotel Három Hattyú</td><td>25</td><td>2</td></tr><tr><td>Hotel Három Hattyú</td><td>22</td><td>2</td></tr><tr><td>Hotel Három Hattyú</td><td>36</td><td>2</td></tr><tr><td>Hotel Három Hattyú</td><td>31</td><td>2</td></tr><tr><td>Hotel Három Hattyú</td><td>25</td><td>2</td></tr><tr><td>Hotel Három Hattyú</td><td>20</td><td>2</td></tr><tr><td>Hotel Három Hattyú</td><td>32</td><td>2</td></tr><tr><td>Hotel Három Hattyú</td><td>3</td><td>1</td></tr><tr><td>Hotel Három Hattyú</td><td>14</td><td>2</td></tr><tr><td>Hotel Három Hattyú</td><td>27</td><td>1</td></tr><tr><td>Hotel Három Hattyú</td><td>1</td><td>1</td></tr><tr><td>Hotel Három Hattyú</td><td>32</td><td>2</td></tr><tr><td>Hotel Három Hattyú</td><td>34</td><td>2</td></tr><tr><td>Hotel Három Hattyú</td><td>3</td><td>2</td></tr><tr><td>Hotel Három Hattyú</td><td>31</td><td>2</td></tr><tr><td>Hotel Három Hattyú</td><td>37</td><td>3</td></tr><tr><td>Hotel Három Hattyú</td><td>16</td><td>3</td></tr><tr><td>Hotel Három Hattyú</td><td>33</td><td>3</td></tr><tr><td>Hotel Három Hattyú</td><td>4</td><td>2</td></tr><tr><td>Hotel Három Hattyú</td><td>32</td><td>2</td></tr><tr><td>Hotel Három Hattyú</td><td>17</td><td>2</td></tr><tr><td>Hotel Három Hattyú</td><td>27</td><td>2</td></tr><tr><td>Hotel Három Hattyú</td><td>23</td><td>2</td></tr><tr><td>Hotel Három Hattyú</td><td>16</td><td>2</td></tr><tr><td>Hotel Három Hattyú</td><td>33</td><td>2</td></tr><tr><td>Hotel Három Hattyú</td><td>37</td><td>2</td></tr><tr><td>Hotel Három Hattyú</td><td>21</td><td>2</td></tr><tr><td>Hotel Három Hattyú</td><td>38</td><td>2</td></tr><tr><td>Hotel Három Hattyú</td><td>19</td><td>2</td></tr><tr><td>Hotel Három Hattyú</td><td>4</td><td>2</td></tr><tr><td>Hotel Három Hattyú</td><td>4</td><td>2</td></tr><tr><td>Hotel Három Hattyú</td><td>10</td><td>2</td></tr><tr><td>Hotel Három Hattyú</td><td>11</td><td>2</td></tr><tr><td>Hotel Három Hattyú</td><td>34</td><td>2</td></tr><tr><td>Hotel Három Hattyú</td><td>32</td><td>2</td></tr><tr><td>Hotel Három Hattyú</td><td>30</td><td>2</td></tr><tr><td>Hotel Három Hattyú</td><td>12</td><td>2</td></tr><tr><td>Hotel Három Hattyú</td><td>25</td><td>2</td></tr><tr><td>Hotel Három Hattyú</td><td>21</td><td>2</td></tr><tr><td>Hotel Három Hattyú</td><td>17</td><td>2</td></tr><tr><td>Hotel Három Hattyú</td><td>3</td><td>2</td></tr><tr><td>Hotel Három Hattyú</td><td>39</td><td>3</td></tr><tr><td>Hotel Három Hattyú</td><td>36</td><td>3</td></tr><tr><td>Hotel Három Hattyú</td><td>16</td><td>2</td></tr><tr><td>Hotel Három Hattyú</td><td>31</td><td>2</td></tr><tr><td>Hotel Három Hattyú</td><td>28</td><td>2</td></tr><tr><td>Hotel Három Hattyú</td><td>4</td><td>1</td></tr><tr><td>Hotel Három Hattyú</td><td>6</td><td>1</td></tr><tr><td>Hotel Három Hattyú</td><td>32</td><td>1</td></tr><tr><td>Hotel Három Hattyú</td><td>3</td><td>2</td></tr><tr><td>Hotel Három Hattyú</td><td>18</td><td>2</td></tr><tr><td>Hotel Három Hattyú</td><td>31</td><td>2</td></tr><tr><td>Hotel Három Hattyú</td><td>7</td><td>2</td></tr><tr><td>Hotel Három Hattyú</td><td>1</td><td>2</td></tr><tr><td>Hotel Három Hattyú</td><td>13</td><td>2</td></tr><tr><td>Hotel Három Hattyú</td><td>8</td><td>2</td></tr><tr><td>Hotel Három Hattyú</td><td>34</td><td>2</td></tr><tr><td>Hotel Három Hattyú</td><td>9</td><td>2</td></tr><tr><td>Hotel Három Hattyú</td><td>29</td><td>1</td></tr><tr><td>Hotel Három Hattyú</td><td>7</td><td>1</td></tr><tr><td>Hotel Három Hattyú</td><td>34</td><td>2</td></tr><tr><td>Hotel Három Hattyú</td><td>20</td><td>2</td></tr><tr><td>Hotel Három Hattyú</td><td>36</td><td>2</td></tr><tr><td>Hotel Három Hattyú</td><td>6</td><td>2</td></tr><tr><td>Hotel Három Hattyú</td><td>32</td><td>2</td></tr><tr><td>Hotel Három Hattyú</td><td>39</td><td>2</td></tr><tr><td>Hotel Három Hattyú</td><td>17</td><td>2</td></tr><tr><td>Hotel Három Hattyú</td><td>26</td><td>2</td></tr><tr><td>Hotel Három Hattyú</td><td>27</td><td>3</td></tr><tr><td>Hotel Három Hattyú</td><td>28</td><td>3</td></tr><tr><td>Hotel Három Hattyú</td><td>28</td><td>2</td></tr><tr><td>Hotel Három Hattyú</td><td>10</td><td>2</td></tr><tr><td>Hotel Három Hattyú</td><td>30</td><td>3</td></tr><tr><td>Hotel Három Hattyú</td><td>13</td><td>3</td></tr><tr><td>Hotel Három Hattyú</td><td>9</td><td>2</td></tr><tr><td>Hotel Három Hattyú</td><td>29</td><td>2</td></tr><tr><td>Hotel Három Hattyú</td><td>20</td><td>2</td></tr><tr><td>Hotel Három Hattyú</td><td>30</td><td>2</td></tr><tr><td>Hotel Három Hattyú</td><td>17</td><td>2</td></tr><tr><td>Hotel Három Hattyú</td><td>23</td><td>3</td></tr><tr><td>Hotel Három Hattyú</td><td>23</td><td>3</td></tr><tr><td>Hotel Három Hattyú</td><td>36</td><td>3</td></tr><tr><td>Hotel Három Hattyú</td><td>26</td><td>3</td></tr><tr><td>Hotel Három Hattyú</td><td>39</td><td>3</td></tr><tr><td>Hotel Három Hattyú</td><td>16</td><td>3</td></tr><tr><td>Hotel Három Hattyú</td><td>11</td><td>2</td></tr><tr><td>Hotel Három Hattyú</td><td>4</td><td>2</td></tr><tr><td>Hotel Három Hattyú</td><td>15</td><td>2</td></tr><tr><td>Hotel Három Hattyú</td><td>14</td><td>2</td></tr><tr><td>Hotel Három Hattyú</td><td>22</td><td>2</td></tr><tr><td>Hotel Három Hattyú</td><td>34</td><td>2</td></tr><tr><td>Hotel Három Hattyú</td><td>2</td><td>2</td></tr><tr><td>Hotel Három Hattyú</td><td>7</td><td>2</td></tr><tr><td>Hotel Három Hattyú</td><td>14</td><td>2</td></tr><tr><td>Hotel Három Hattyú</td><td>5</td><td>2</td></tr><tr><td>Hotel Három Hattyú</td><td>24</td><td>2</td></tr><tr><td>Hotel Három Hattyú</td><td>25</td><td>2</td></tr><tr><td>Hotel Három Hattyú</td><td>2</td><td>2</td></tr><tr><td>Hotel Három Hattyú</td><td>4</td><td>2</td></tr><tr><td>Hotel Három Hattyú</td><td>19</td><td>2</td></tr><tr><td>Hotel Három Hattyú</td><td>25</td><td>2</td></tr><tr><td>Hotel Három Hattyú</td><td>6</td><td>2</td></tr><tr><td>Hotel Három Hattyú</td><td>38</td><td>2</td></tr><tr><td>Hotel Három Hattyú</td><td>37</td><td>2</td></tr><tr><td>Hotel Három Hattyú</td><td>38</td><td>2</td></tr><tr><td>Jáde panzió</td><td>2</td><td>2</td></tr><tr><td>Jáde panzió</td><td>1</td><td>2</td></tr><tr><td>Jáde panzió</td><td>1</td><td>2</td></tr><tr><td>Jáde panzió</td><td>3</td><td>2</td></tr><tr><td>Jáde panzió</td><td>2</td><td>2</td></tr><tr><td>Jáde panzió</td><td>2</td><td>1</td></tr><tr><td>Jáde panzió</td><td>4</td><td>2</td></tr><tr><td>Jáde panzió</td><td>1</td><td>2</td></tr><tr><td>Jáde panzió</td><td>4</td><td>2</td></tr><tr><td>Jáde panzió</td><td>3</td><td>2</td></tr><tr><td>Jáde panzió</td><td>5</td><td>2</td></tr><tr><td>Jáde panzió</td><td>5</td><td>2</td></tr><tr><td>Jáde panzió</td><td>2</td><td>2</td></tr><tr><td>Jáde panzió</td><td>1</td><td>2</td></tr><tr><td>Jáde panzió</td><td>1</td><td>2</td></tr><tr><td>Jáde panzió</td><td>5</td><td>2</td></tr><tr><td>Jáde panzió</td><td>3</td><td>2</td></tr><tr><td>Jáde panzió</td><td>3</td><td>2</td></tr><tr><td>Jáde panzió</td><td>4</td><td>2</td></tr><tr><td>Jáde panzió</td><td>5</td><td>2</td></tr><tr><td>Jáde panzió</td><td>5</td><td>2</td></tr><tr><td>Jáde panzió</td><td>4</td><td>2</td></tr><tr><td>Jáde panzió</td><td>3</td><td>2</td></tr><tr><td>Jáde panzió</td><td>4</td><td>2</td></tr><tr><td>Jáde panzió</td><td>4</td><td>2</td></tr><tr><td>Jáde panzió</td><td>2</td><td>2</td></tr><tr><td>Jáde panzió</td><td>1</td><td>2</td></tr><tr><td>Jáde panzió</td><td>3</td><td>2</td></tr><tr><td>Jáde panzió</td><td>5</td><td>2</td></tr><tr><td>Kentaur Hotel</td><td>19</td><td>4</td></tr><tr><td>Kentaur Hotel</td><td>34</td><td>3</td></tr><tr><td>Kentaur Hotel</td><td>29</td><td>2</td></tr><tr><td>Kentaur Hotel</td><td>30</td><td>2</td></tr><tr><td>Kentaur Hotel</td><td>21</td><td>2</td></tr><tr><td>Kentaur Hotel</td><td>28</td><td>2</td></tr><tr><td>Kentaur Hotel</td><td>25</td><td>2</td></tr><tr><td>Kentaur Hotel</td><td>5</td><td>2</td></tr><tr><td>Kentaur Hotel</td><td>14</td><td>2</td></tr><tr><td>Kentaur Hotel</td><td>18</td><td>2</td></tr><tr><td>Kentaur Hotel</td><td>5</td><td>2</td></tr><tr><td>Kentaur Hotel</td><td>18</td><td>2</td></tr><tr><td>Kentaur Hotel</td><td>29</td><td>2</td></tr><tr><td>Kentaur Hotel</td><td>16</td><td>2</td></tr><tr><td>Kentaur Hotel</td><td>4</td><td>2</td></tr><tr><td>Kentaur Hotel</td><td>21</td><td>2</td></tr><tr><td>Kentaur Hotel</td><td>33</td><td>2</td></tr><tr><td>Kentaur Hotel</td><td>34</td><td>2</td></tr><tr><td>Kentaur Hotel</td><td>2</td><td>2</td></tr><tr><td>Kentaur Hotel</td><td>33</td><td>2</td></tr><tr><td>Kentaur Hotel</td><td>18</td><td>2</td></tr><tr><td>Kentaur Hotel</td><td>15</td><td>2</td></tr><tr><td>Kentaur Hotel</td><td>25</td><td>2</td></tr><tr><td>Kentaur Hotel</td><td>34</td><td>2</td></tr><tr><td>Kentaur Hotel</td><td>9</td><td>2</td></tr><tr><td>Kentaur Hotel</td><td>20</td><td>2</td></tr><tr><td>Kentaur Hotel</td><td>31</td><td>2</td></tr><tr><td>Kentaur Hotel</td><td>5</td><td>2</td></tr><tr><td>Kentaur Hotel</td><td>14</td><td>1</td></tr><tr><td>Kentaur Hotel</td><td>23</td><td>2</td></tr><tr><td>Kentaur Hotel</td><td>31</td><td>2</td></tr><tr><td>Kentaur Hotel</td><td>7</td><td>1</td></tr><tr><td>Kentaur Hotel</td><td>13</td><td>1</td></tr><tr><td>Kentaur Hotel</td><td>13</td><td>1</td></tr><tr><td>Kentaur Hotel</td><td>25</td><td>2</td></tr><tr><td>Kentaur Hotel</td><td>17</td><td>2</td></tr><tr><td>Kentaur Hotel</td><td>35</td><td>2</td></tr><tr><td>Kentaur Hotel</td><td>23</td><td>2</td></tr><tr><td>Kentaur Hotel</td><td>25</td><td>2</td></tr><tr><td>Kentaur Hotel</td><td>27</td><td>2</td></tr><tr><td>Kentaur Hotel</td><td>28</td><td>2</td></tr><tr><td>Kentaur Hotel</td><td>31</td><td>2</td></tr><tr><td>Kentaur Hotel</td><td>4</td><td>2</td></tr><tr><td>Kentaur Hotel</td><td>34</td><td>2</td></tr><tr><td>Kentaur Hotel</td><td>33</td><td>2</td></tr><tr><td>Kentaur Hotel</td><td>24</td><td>2</td></tr><tr><td>Kentaur Hotel</td><td>21</td><td>1</td></tr><tr><td>Kentaur Hotel</td><td>22</td><td>2</td></tr><tr><td>Kentaur Hotel</td><td>26</td><td>2</td></tr><tr><td>Kentaur Hotel</td><td>19</td><td>2</td></tr><tr><td>Kentaur Hotel</td><td>31</td><td>2</td></tr><tr><td>Kentaur Hotel</td><td>5</td><td>2</td></tr><tr><td>Kentaur Hotel</td><td>34</td><td>3</td></tr><tr><td>Kentaur Hotel</td><td>11</td><td>2</td></tr><tr><td>Kentaur Hotel</td><td>27</td><td>2</td></tr><tr><td>Kentaur Hotel</td><td>22</td><td>2</td></tr><tr><td>Kentaur Hotel</td><td>29</td><td>2</td></tr><tr><td>Kentaur Hotel</td><td>28</td><td>2</td></tr><tr><td>Kentaur Hotel</td><td>12</td><td>2</td></tr><tr><td>Kentaur Hotel</td><td>13</td><td>2</td></tr><tr><td>Kentaur Hotel</td><td>21</td><td>2</td></tr><tr><td>Kentaur Hotel</td><td>22</td><td>2</td></tr><tr><td>Kentaur Hotel</td><td>24</td><td>2</td></tr><tr><td>Kentaur Hotel</td><td>9</td><td>2</td></tr><tr><td>Kentaur Hotel</td><td>6</td><td>2</td></tr><tr><td>Kentaur Hotel</td><td>17</td><td>3</td></tr><tr><td>Kentaur Hotel</td><td>12</td><td>3</td></tr><tr><td>Kentaur Hotel</td><td>14</td><td>2</td></tr><tr><td>Kentaur Hotel</td><td>9</td><td>2</td></tr><tr><td>Kentaur Hotel</td><td>1</td><td>2</td></tr><tr><td>Kentaur Hotel</td><td>25</td><td>2</td></tr><tr><td>Kentaur Hotel</td><td>34</td><td>2</td></tr><tr><td>Kentaur Hotel</td><td>2</td><td>2</td></tr><tr><td>Kentaur Hotel</td><td>21</td><td>2</td></tr><tr><td>Kentaur Hotel</td><td>35</td><td>2</td></tr><tr><td>Kentaur Hotel</td><td>3</td><td>2</td></tr><tr><td>Kentaur Hotel</td><td>25</td><td>2</td></tr><tr><td>Kentaur Hotel</td><td>7</td><td>2</td></tr><tr><td>Kentaur Hotel</td><td>14</td><td>2</td></tr><tr><td>Kentaur Hotel</td><td>25</td><td>2</td></tr><tr><td>Kentaur Hotel</td><td>30</td><td>2</td></tr><tr><td>Kentaur Hotel</td><td>20</td><td>2</td></tr><tr><td>Kentaur Hotel</td><td>1</td><td>2</td></tr><tr><td>Kentaur Hotel</td><td>31</td><td>2</td></tr><tr><td>Kentaur Hotel</td><td>10</td><td>2</td></tr><tr><td>Kentaur Hotel</td><td>13</td><td>2</td></tr><tr><td>Kentaur Hotel</td><td>10</td><td>2</td></tr><tr><td>Kentaur Hotel</td><td>6</td><td>2</td></tr><tr><td>Kentaur Hotel</td><td>5</td><td>2</td></tr><tr><td>Kentaur Hotel</td><td>21</td><td>2</td></tr><tr><td>Kentaur Hotel</td><td>25</td><td>2</td></tr><tr><td>Kentaur Hotel</td><td>28</td><td>2</td></tr><tr><td>Kentaur Hotel</td><td>9</td><td>2</td></tr><tr><td>Kentaur Hotel</td><td>34</td><td>2</td></tr><tr><td>Kentaur Hotel</td><td>15</td><td>2</td></tr><tr><td>Kentaur Hotel</td><td>21</td><td>2</td></tr><tr><td>Kentaur Hotel</td><td>12</td><td>2</td></tr><tr><td>Kentaur Hotel</td><td>24</td><td>2</td></tr><tr><td>Kentaur Hotel</td><td>6</td><td>2</td></tr><tr><td>Kentaur Hotel</td><td>2</td><td>2</td></tr><tr><td>Kentaur Hotel</td><td>10</td><td>2</td></tr><tr><td>Kentaur Hotel</td><td>25</td><td>2</td></tr><tr><td>Kentaur Hotel</td><td>9</td><td>1</td></tr><tr><td>Kentaur Hotel</td><td>10</td><td>2</td></tr><tr><td>Kentaur Hotel</td><td>3</td><td>2</td></tr><tr><td>Kentaur Hotel</td><td>9</td><td>2</td></tr><tr><td>Kentaur Hotel</td><td>12</td><td>2</td></tr><tr><td>Kentaur Hotel</td><td>1</td><td>2</td></tr><tr><td>Kentaur Hotel</td><td>20</td><td>2</td></tr><tr><td>Kentaur Hotel</td><td>30</td><td>2</td></tr><tr><td>Kentaur Hotel</td><td>6</td><td>2</td></tr><tr><td>Kentaur Hotel</td><td>15</td><td>2</td></tr><tr><td>Kentaur Hotel</td><td>17</td><td>2</td></tr><tr><td>Kentaur Hotel</td><td>10</td><td>2</td></tr><tr><td>Kentaur Hotel</td><td>20</td><td>3</td></tr><tr><td>Kentaur Hotel</td><td>9</td><td>2</td></tr><tr><td>Kentaur Hotel</td><td>3</td><td>2</td></tr><tr><td>Kentaur Hotel</td><td>9</td><td>2</td></tr><tr><td>Kentaur Hotel</td><td>17</td><td>2</td></tr><tr><td>Kentaur Hotel</td><td>29</td><td>2</td></tr><tr><td>Kentaur Hotel</td><td>1</td><td>2</td></tr><tr><td>Kentaur Hotel</td><td>33</td><td>2</td></tr><tr><td>Kentaur Hotel</td><td>31</td><td>2</td></tr><tr><td>Kentaur Hotel</td><td>29</td><td>2</td></tr><tr><td>Kentaur Hotel</td><td>9</td><td>2</td></tr><tr><td>Kentaur Hotel</td><td>10</td><td>2</td></tr><tr><td>Kentaur Hotel</td><td>9</td><td>2</td></tr><tr><td>Kentaur Hotel</td><td>9</td><td>2</td></tr><tr><td>Kentaur Hotel</td><td>23</td><td>2</td></tr><tr><td>Kentaur Hotel</td><td>9</td><td>2</td></tr><tr><td>Kentaur Hotel</td><td>19</td><td>2</td></tr><tr><td>Kentaur Hotel</td><td>21</td><td>2</td></tr><tr><td>Kentaur Hotel</td><td>6</td><td>3</td></tr><tr><td>Kentaur Hotel</td><td>5</td><td>2</td></tr><tr><td>Kentaur Hotel</td><td>24</td><td>2</td></tr><tr><td>Kentaur Hotel</td><td>21</td><td>2</td></tr><tr><td>Kentaur Hotel</td><td>33</td><td>2</td></tr><tr><td>Kentaur Hotel</td><td>30</td><td>2</td></tr><tr><td>Kentaur Hotel</td><td>8</td><td>2</td></tr><tr><td>Kentaur Hotel</td><td>21</td><td>2</td></tr><tr><td>Kentaur Hotel</td><td>32</td><td>2</td></tr><tr><td>Kentaur Hotel</td><td>31</td><td>1</td></tr><tr><td>Kentaur Hotel</td><td>35</td><td>1</td></tr><tr><td>Kentaur Hotel</td><td>34</td><td>1</td></tr><tr><td>Kentaur Hotel</td><td>18</td><td>1</td></tr><tr><td>Kentaur Hotel</td><td>35</td><td>1</td></tr><tr><td>Kentaur Hotel</td><td>6</td><td>1</td></tr><tr><td>Kentaur Hotel</td><td>8</td><td>2</td></tr><tr><td>Kentaur Hotel</td><td>23</td><td>1</td></tr><tr><td>Kentaur Hotel</td><td>33</td><td>2</td></tr><tr><td>Kentaur Hotel</td><td>26</td><td>2</td></tr><tr><td>Kentaur Hotel</td><td>13</td><td>2</td></tr><tr><td>Kentaur Hotel</td><td>3</td><td>2</td></tr><tr><td>Kentaur Hotel</td><td>28</td><td>2</td></tr><tr><td>Kentaur Hotel</td><td>15</td><td>2</td></tr><tr><td>Kentaur Hotel</td><td>30</td><td>2</td></tr><tr><td>Kentaur Hotel</td><td>32</td><td>2</td></tr><tr><td>Kentaur Hotel</td><td>9</td><td>2</td></tr><tr><td>Kentaur Hotel</td><td>21</td><td>2</td></tr><tr><td>Kentaur Hotel</td><td>26</td><td>2</td></tr><tr><td>Kentaur Hotel</td><td>32</td><td>2</td></tr><tr><td>Kentaur Hotel</td><td>15</td><td>2</td></tr><tr><td>Kentaur Hotel</td><td>8</td><td>2</td></tr><tr><td>Kentaur Hotel</td><td>28</td><td>1</td></tr><tr><td>Kentaur Hotel</td><td>2</td><td>1</td></tr><tr><td>Kentaur Hotel</td><td>12</td><td>1</td></tr><tr><td>Kentaur Hotel</td><td>32</td><td>1</td></tr><tr><td>Kentaur Hotel</td><td>8</td><td>1</td></tr><tr><td>Kentaur Hotel</td><td>6</td><td>2</td></tr><tr><td>Kentaur Hotel</td><td>6</td><td>2</td></tr><tr><td>Kentaur Hotel</td><td>3</td><td>2</td></tr><tr><td>Kentaur Hotel</td><td>2</td><td>2</td></tr><tr><td>Kentaur Hotel</td><td>27</td><td>2</td></tr><tr><td>Kentaur Hotel</td><td>32</td><td>2</td></tr><tr><td>Kentaur Hotel</td><td>10</td><td>2</td></tr><tr><td>Kentaur Hotel</td><td>29</td><td>2</td></tr><tr><td>Kentaur Hotel</td><td>18</td><td>3</td></tr><tr><td>Kentaur Hotel</td><td>15</td><td>2</td></tr><tr><td>Kentaur Hotel</td><td>18</td><td>2</td></tr><tr><td>Lagúna Hotel</td><td>7</td><td>2</td></tr><tr><td>Lagúna Hotel</td><td>21</td><td>3</td></tr><tr><td>Lagúna Hotel</td><td>21</td><td>3</td></tr><tr><td>Lagúna Hotel</td><td>5</td><td>2</td></tr><tr><td>Lagúna Hotel</td><td>10</td><td>2</td></tr><tr><td>Lagúna Hotel</td><td>3</td><td>2</td></tr><tr><td>Lagúna Hotel</td><td>2</td><td>2</td></tr><tr><td>Lagúna Hotel</td><td>22</td><td>2</td></tr><tr><td>Lagúna Hotel</td><td>15</td><td>2</td></tr><tr><td>Lagúna Hotel</td><td>19</td><td>2</td></tr><tr><td>Lagúna Hotel</td><td>16</td><td>2</td></tr><tr><td>Lagúna Hotel</td><td>23</td><td>2</td></tr><tr><td>Lagúna Hotel</td><td>3</td><td>2</td></tr><tr><td>Lagúna Hotel</td><td>15</td><td>1</td></tr><tr><td>Lagúna Hotel</td><td>3</td><td>1</td></tr><tr><td>Lagúna Hotel</td><td>2</td><td>1</td></tr><tr><td>Lagúna Hotel</td><td>12</td><td>1</td></tr><tr><td>Lagúna Hotel</td><td>17</td><td>1</td></tr><tr><td>Lagúna Hotel</td><td>22</td><td>1</td></tr><tr><td>Lagúna Hotel</td><td>7</td><td>1</td></tr><tr><td>Lagúna Hotel</td><td>6</td><td>1</td></tr><tr><td>Lagúna Hotel</td><td>22</td><td>2</td></tr><tr><td>Lagúna Hotel</td><td>20</td><td>2</td></tr><tr><td>Lagúna Hotel</td><td>19</td><td>2</td></tr><tr><td>Lagúna Hotel</td><td>9</td><td>2</td></tr><tr><td>Lagúna Hotel</td><td>3</td><td>2</td></tr><tr><td>Lagúna Hotel</td><td>23</td><td>2</td></tr><tr><td>Lagúna Hotel</td><td>12</td><td>2</td></tr><tr><td>Lagúna Hotel</td><td>14</td><td>2</td></tr><tr><td>Lagúna Hotel</td><td>22</td><td>1</td></tr><tr><td>Lagúna Hotel</td><td>11</td><td>2</td></tr><tr><td>Lagúna Hotel</td><td>1</td><td>2</td></tr><tr><td>Lagúna Hotel</td><td>18</td><td>2</td></tr><tr><td>Lagúna Hotel</td><td>6</td><td>2</td></tr><tr><td>Lagúna Hotel</td><td>5</td><td>2</td></tr><tr><td>Lagúna Hotel</td><td>5</td><td>2</td></tr><tr><td>Lagúna Hotel</td><td>7</td><td>1</td></tr><tr><td>Lagúna Hotel</td><td>14</td><td>1</td></tr><tr><td>Lagúna Hotel</td><td>4</td><td>2</td></tr><tr><td>Lagúna Hotel</td><td>13</td><td>2</td></tr><tr><td>Lagúna Hotel</td><td>14</td><td>2</td></tr><tr><td>Lagúna Hotel</td><td>7</td><td>2</td></tr><tr><td>Lagúna Hotel</td><td>12</td><td>2</td></tr><tr><td>Lagúna Hotel</td><td>4</td><td>2</td></tr><tr><td>Lagúna Hotel</td><td>12</td><td>2</td></tr><tr><td>Lagúna Hotel</td><td>14</td><td>2</td></tr><tr><td>Lagúna Hotel</td><td>14</td><td>2</td></tr><tr><td>Lagúna Hotel</td><td>24</td><td>2</td></tr><tr><td>Lagúna Hotel</td><td>15</td><td>2</td></tr><tr><td>Lagúna Hotel</td><td>15</td><td>2</td></tr><tr><td>Lagúna Hotel</td><td>24</td><td>2</td></tr><tr><td>Lagúna Hotel</td><td>15</td><td>2</td></tr><tr><td>Lagúna Hotel</td><td>12</td><td>2</td></tr><tr><td>Lagúna Hotel</td><td>1</td><td>2</td></tr><tr><td>Lagúna Hotel</td><td>5</td><td>2</td></tr><tr><td>Lagúna Hotel</td><td>2</td><td>2</td></tr><tr><td>Lagúna Hotel</td><td>23</td><td>2</td></tr><tr><td>Lagúna Hotel</td><td>17</td><td>2</td></tr><tr><td>Lagúna Hotel</td><td>20</td><td>2</td></tr><tr><td>Lagúna Hotel</td><td>5</td><td>2</td></tr><tr><td>Lagúna Hotel</td><td>11</td><td>2</td></tr><tr><td>Lagúna Hotel</td><td>10</td><td>2</td></tr><tr><td>Lagúna Hotel</td><td>16</td><td>2</td></tr><tr><td>Lagúna Hotel</td><td>6</td><td>2</td></tr><tr><td>Lagúna Hotel</td><td>16</td><td>2</td></tr><tr><td>Lagúna Hotel</td><td>21</td><td>2</td></tr><tr><td>Lagúna Hotel</td><td>17</td><td>2</td></tr><tr><td>Lagúna Hotel</td><td>24</td><td>2</td></tr><tr><td>Lagúna Hotel</td><td>11</td><td>2</td></tr><tr><td>Lagúna Hotel</td><td>11</td><td>2</td></tr><tr><td>Lagúna Hotel</td><td>15</td><td>2</td></tr><tr><td>Lagúna Hotel</td><td>9</td><td>2</td></tr><tr><td>Lagúna Hotel</td><td>6</td><td>2</td></tr><tr><td>Lagúna Hotel</td><td>18</td><td>2</td></tr><tr><td>Lagúna Hotel</td><td>20</td><td>2</td></tr><tr><td>Lagúna Hotel</td><td>16</td><td>1</td></tr><tr><td>Lagúna Hotel</td><td>16</td><td>2</td></tr><tr><td>Lagúna Hotel</td><td>3</td><td>2</td></tr><tr><td>Lagúna Hotel</td><td>10</td><td>2</td></tr><tr><td>Lagúna Hotel</td><td>9</td><td>2</td></tr><tr><td>Lagúna Hotel</td><td>18</td><td>2</td></tr><tr><td>Lagúna Hotel</td><td>9</td><td>3</td></tr><tr><td>Lagúna Hotel</td><td>23</td><td>2</td></tr><tr><td>Lagúna Hotel</td><td>4</td><td>2</td></tr><tr><td>Lagúna Hotel</td><td>7</td><td>2</td></tr><tr><td>Lagúna Hotel</td><td>20</td><td>2</td></tr><tr><td>Lagúna Hotel</td><td>6</td><td>2</td></tr><tr><td>Lagúna Hotel</td><td>3</td><td>2</td></tr><tr><td>Lagúna Hotel</td><td>4</td><td>2</td></tr><tr><td>Lagúna Hotel</td><td>1</td><td>2</td></tr><tr><td>Lagúna Hotel</td><td>4</td><td>2</td></tr><tr><td>Lagúna Hotel</td><td>10</td><td>2</td></tr><tr><td>Lagúna Hotel</td><td>9</td><td>3</td></tr><tr><td>Lagúna Hotel</td><td>21</td><td>3</td></tr><tr><td>Lagúna Hotel</td><td>11</td><td>3</td></tr><tr><td>Lagúna Hotel</td><td>6</td><td>3</td></tr><tr><td>Lagúna Hotel</td><td>4</td><td>3</td></tr><tr><td>Lagúna Hotel</td><td>6</td><td>2</td></tr><tr><td>Lagúna Hotel</td><td>8</td><td>2</td></tr><tr><td>Lagúna Hotel</td><td>4</td><td>2</td></tr><tr><td>Lagúna Hotel</td><td>6</td><td>2</td></tr><tr><td>Lagúna Hotel</td><td>9</td><td>3</td></tr><tr><td>Lagúna Hotel</td><td>7</td><td>3</td></tr><tr><td>Lagúna Hotel</td><td>16</td><td>2</td></tr><tr><td>Lagúna Hotel</td><td>5</td><td>2</td></tr><tr><td>Lagúna Hotel</td><td>9</td><td>2</td></tr><tr><td>Lagúna Hotel</td><td>5</td><td>2</td></tr><tr><td>Lagúna Hotel</td><td>19</td><td>2</td></tr><tr><td>Lagúna Hotel</td><td>22</td><td>2</td></tr><tr><td>Lagúna Hotel</td><td>19</td><td>2</td></tr><tr><td>Lagúna Hotel</td><td>11</td><td>2</td></tr><tr><td>Lagúna Hotel</td><td>12</td><td>2</td></tr><tr><td>Lagúna Hotel</td><td>22</td><td>2</td></tr><tr><td>Lagúna Hotel</td><td>19</td><td>2</td></tr><tr><td>Lagúna Hotel</td><td>15</td><td>2</td></tr><tr><td>Lagúna Hotel</td><td>21</td><td>2</td></tr><tr><td>Lagúna Hotel</td><td>20</td><td>2</td></tr><tr><td>Lagúna Hotel</td><td>8</td><td>2</td></tr><tr><td>Lagúna Hotel</td><td>23</td><td>2</td></tr><tr><td>Lagúna Hotel</td><td>18</td><td>1</td></tr><tr><td>Lagúna Hotel</td><td>22</td><td>2</td></tr><tr><td>Lagúna Hotel</td><td>10</td><td>2</td></tr><tr><td>Lagúna Hotel</td><td>14</td><td>2</td></tr><tr><td>Partiszél Vendégház</td><td>5</td><td>2</td></tr><tr><td>Partiszél Vendégház</td><td>3</td><td>2</td></tr><tr><td>Partiszél Vendégház</td><td>4</td><td>2</td></tr><tr><td>Partiszél Vendégház</td><td>2</td><td>2</td></tr><tr><td>Partiszél Vendégház</td><td>2</td><td>2</td></tr><tr><td>Partiszél Vendégház</td><td>2</td><td>2</td></tr><tr><td>Partiszél Vendégház</td><td>1</td><td>2</td></tr><tr><td>Partiszél Vendégház</td><td>1</td><td>2</td></tr><tr><td>Partiszél Vendégház</td><td>1</td><td>2</td></tr><tr><td>Partiszél Vendégház</td><td>4</td><td>2</td></tr><tr><td>Partiszél Vendégház</td><td>5</td><td>2</td></tr><tr><td>Partiszél Vendégház</td><td>1</td><td>3</td></tr><tr><td>Partiszél Vendégház</td><td>5</td><td>2</td></tr><tr><td>Partiszél Vendégház</td><td>4</td><td>2</td></tr><tr><td>Partiszél Vendégház</td><td>2</td><td>2</td></tr><tr><td>Partiszél Vendégház</td><td>4</td><td>2</td></tr><tr><td>Partiszél Vendégház</td><td>4</td><td>2</td></tr><tr><td>Partiszél Vendégház</td><td>2</td><td>2</td></tr><tr><td>Partiszél Vendégház</td><td>3</td><td>2</td></tr><tr><td>Partiszél Vendégház</td><td>4</td><td>2</td></tr><tr><td>Partiszél Vendégház</td><td>5</td><td>2</td></tr><tr><td>Partiszél Vendégház</td><td>5</td><td>2</td></tr><tr><td>Partiszél Vendégház</td><td>3</td><td>2</td></tr><tr><td>Partiszél Vendégház</td><td>4</td><td>2</td></tr><tr><td>Partiszél Vendégház</td><td>1</td><td>2</td></tr><tr><td>Partiszél Vendégház</td><td>2</td><td>2</td></tr><tr><td>Sába-Ház</td><td>6</td><td>2</td></tr><tr><td>Sába-Ház</td><td>7</td><td>1</td></tr><tr><td>Sába-Ház</td><td>5</td><td>1</td></tr><tr><td>Sába-Ház</td><td>10</td><td>1</td></tr><tr><td>Sába-Ház</td><td>9</td><td>1</td></tr><tr><td>Sába-Ház</td><td>1</td><td>1</td></tr><tr><td>Sába-Ház</td><td>3</td><td>1</td></tr><tr><td>Sába-Ház</td><td>4</td><td>1</td></tr><tr><td>Sába-Ház</td><td>6</td><td>1</td></tr><tr><td>Sába-Ház</td><td>12</td><td>2</td></tr><tr><td>Sába-Ház</td><td>8</td><td>2</td></tr><tr><td>Sába-Ház</td><td>11</td><td>2</td></tr><tr><td>Sába-Ház</td><td>1</td><td>2</td></tr><tr><td>Sába-Ház</td><td>4</td><td>2</td></tr><tr><td>Sába-Ház</td><td>8</td><td>2</td></tr><tr><td>Sába-Ház</td><td>12</td><td>2</td></tr><tr><td>Sába-Ház</td><td>5</td><td>2</td></tr><tr><td>Sába-Ház</td><td>12</td><td>1</td></tr><tr><td>Sába-Ház</td><td>6</td><td>1</td></tr><tr><td>Sába-Ház</td><td>4</td><td>1</td></tr><tr><td>Sába-Ház</td><td>12</td><td>1</td></tr><tr><td>Sába-Ház</td><td>3</td><td>1</td></tr><tr><td>Sába-Ház</td><td>8</td><td>2</td></tr><tr><td>Sába-Ház</td><td>12</td><td>1</td></tr><tr><td>Sába-Ház</td><td>1</td><td>2</td></tr><tr><td>Sába-Ház</td><td>7</td><td>2</td></tr><tr><td>Sába-Ház</td><td>6</td><td>2</td></tr><tr><td>Sába-Ház</td><td>12</td><td>2</td></tr><tr><td>Sába-Ház</td><td>10</td><td>2</td></tr><tr><td>Sába-Ház</td><td>3</td><td>2</td></tr><tr><td>Sába-Ház</td><td>10</td><td>2</td></tr><tr><td>Sába-Ház</td><td>1</td><td>2</td></tr><tr><td>Sába-Ház</td><td>8</td><td>2</td></tr><tr><td>Sába-Ház</td><td>2</td><td>2</td></tr><tr><td>Sába-Ház</td><td>8</td><td>2</td></tr><tr><td>Sába-Ház</td><td>6</td><td>2</td></tr><tr><td>Sába-Ház</td><td>3</td><td>2</td></tr><tr><td>Sába-Ház</td><td>2</td><td>3</td></tr><tr><td>Sába-Ház</td><td>2</td><td>3</td></tr><tr><td>Sába-Ház</td><td>5</td><td>3</td></tr><tr><td>Sába-Ház</td><td>3</td><td>3</td></tr><tr><td>Sába-Ház</td><td>6</td><td>3</td></tr><tr><td>Sába-Ház</td><td>11</td><td>3</td></tr><tr><td>Sába-Ház</td><td>4</td><td>2</td></tr><tr><td>Sába-Ház</td><td>7</td><td>2</td></tr><tr><td>Sába-Ház</td><td>4</td><td>2</td></tr><tr><td>Sába-Ház</td><td>1</td><td>2</td></tr><tr><td>Sába-Ház</td><td>12</td><td>2</td></tr><tr><td>Sába-Ház</td><td>3</td><td>2</td></tr><tr><td>Sába-Ház</td><td>1</td><td>2</td></tr><tr><td>Sába-Ház</td><td>9</td><td>2</td></tr><tr><td>Sába-Ház</td><td>12</td><td>2</td></tr><tr><td>Sába-Ház</td><td>7</td><td>2</td></tr><tr><td>Sába-Ház</td><td>7</td><td>2</td></tr><tr><td>Sába-Ház</td><td>9</td><td>2</td></tr><tr><td>Sába-Ház</td><td>11</td><td>2</td></tr><tr><td>Sába-Ház</td><td>7</td><td>2</td></tr><tr><td>Sába-Ház</td><td>9</td><td>2</td></tr><tr><td>Sába-Ház</td><td>5</td><td>2</td></tr><tr><td>Sába-Ház</td><td>1</td><td>2</td></tr><tr><td>Sába-Ház</td><td>2</td><td>2</td></tr><tr><td>Sába-Ház</td><td>10</td><td>2</td></tr><tr><td>Sába-Ház</td><td>1</td><td>3</td></tr><tr><td>Sába-Ház</td><td>9</td><td>3</td></tr><tr><td>Sába-Ház</td><td>12</td><td>2</td></tr><tr><td>Sába-Ház</td><td>3</td><td>2</td></tr><tr><td>Sába-Ház</td><td>4</td><td>2</td></tr><tr><td>Sába-Ház</td><td>11</td><td>2</td></tr><tr><td>Sába-Ház</td><td>9</td><td>2</td></tr><tr><td>Sába-Ház</td><td>3</td><td>2</td></tr><tr><td>Szieszta Apartmanház</td><td>3</td><td>3</td></tr><tr><td>Szieszta Apartmanház</td><td>1</td><td>2</td></tr><tr><td>Szieszta Apartmanház</td><td>2</td><td>2</td></tr><tr><td>Szieszta Apartmanház</td><td>4</td><td>2</td></tr><tr><td>Szieszta Apartmanház</td><td>6</td><td>2</td></tr><tr><td>Szieszta Apartmanház</td><td>4</td><td>2</td></tr><tr><td>Szieszta Apartmanház</td><td>5</td><td>2</td></tr><tr><td>Szieszta Apartmanház</td><td>3</td><td>2</td></tr><tr><td>Szieszta Apartmanház</td><td>5</td><td>2</td></tr><tr><td>Szieszta Apartmanház</td><td>2</td><td>2</td></tr><tr><td>Szieszta Apartmanház</td><td>1</td><td>2</td></tr><tr><td>Szieszta Apartmanház</td><td>2</td><td>2</td></tr><tr><td>Szieszta Apartmanház</td><td>5</td><td>2</td></tr><tr><td>Szieszta Apartmanház</td><td>3</td><td>1</td></tr><tr><td>Szieszta Apartmanház</td><td>2</td><td>1</td></tr><tr><td>Szieszta Apartmanház</td><td>6</td><td>2</td></tr><tr><td>Szieszta Apartmanház</td><td>5</td><td>2</td></tr><tr><td>Szieszta Apartmanház</td><td>4</td><td>2</td></tr><tr><td>Szieszta Apartmanház</td><td>5</td><td>2</td></tr><tr><td>Szieszta Apartmanház</td><td>5</td><td>2</td></tr><tr><td>Szieszta Apartmanház</td><td>4</td><td>2</td></tr><tr><td>Szieszta Apartmanház</td><td>6</td><td>2</td></tr><tr><td>Szieszta Apartmanház</td><td>4</td><td>2</td></tr><tr><td>Szieszta Apartmanház</td><td>1</td><td>2</td></tr><tr><td>Szieszta Apartmanház</td><td>3</td><td>2</td></tr><tr><td>Szieszta Apartmanház</td><td>4</td><td>2</td></tr><tr><td>Szieszta Apartmanház</td><td>5</td><td>2</td></tr><tr><td>Szieszta Apartmanház</td><td>6</td><td>2</td></tr><tr><td>Szieszta Apartmanház</td><td>2</td><td>2</td></tr><tr><td>Szieszta Apartmanház</td><td>3</td><td>2</td></tr><tr><td>Szieszta Apartmanház</td><td>1</td><td>2</td></tr><tr><td>Szieszta Apartmanház</td><td>5</td><td>2</td></tr><tr><td>Szieszta Apartmanház</td><td>4</td><td>2</td></tr><tr><td>Szieszta Apartmanház</td><td>4</td><td>2</td></tr></table>"
                    },
                    "metadata": {}
                }
            ],
            "execution_count": 60
        },
        {
            "cell_type": "markdown",
            "source": [
                "Készítsünk ideiglenes táblát #MASKED\\_GUEST néven, ahol \n",
                "\n",
                "- a tábla felépítése megegyezik a vendég tábláéval, DE\n",
                "- a vendégek nevének csak az első 2, és az utolsó 3 karaktere jelenjen meg, közötte X-ek legyenek!"
            ],
            "metadata": {
                "azdata_cell_guid": "26066b8f-eea7-47da-beb9-42223c32b4ff"
            },
            "attachments": {}
        },
        {
            "cell_type": "code",
            "source": [
                "CREATE TABLE #MASKED_GUEST\r\n",
                "(\r\n",
                "    USERNEV NVARCHAR(15) PRIMARY KEY,\r\n",
                "    NEV NVARCHAR(40) MASKED WITH (FUNCTION = 'partial(2,\"XXX\",3)'),\r\n",
                "    EMAIL NVARCHAR(30),\r\n",
                "    SZAML_CIM NVARCHAR(80),\r\n",
                "    SZUL_DATE DATE\r\n",
                ")"
            ],
            "metadata": {
                "azdata_cell_guid": "e192d923-fd0b-4e41-b42e-07fbc805d5f5",
                "language": "sql",
                "tags": []
            },
            "outputs": [
                {
                    "output_type": "display_data",
                    "data": {
                        "text/html": "Commands completed successfully."
                    },
                    "metadata": {}
                },
                {
                    "output_type": "display_data",
                    "data": {
                        "text/html": "Total execution time: 00:00:00.012"
                    },
                    "metadata": {}
                }
            ],
            "execution_count": 37
        },
        {
            "cell_type": "markdown",
            "source": [
                "Valósítsa meg REDIS-ben a következő táblákat:\n",
                "\n",
                "- <span style=\"box-sizing: border-box; font-size: 0.9375rem;\">IRO(ID, nev, nemzetiseg)</span>\n",
                "- KONYV(ID, cim, mufaj, IRO\\_ID)\n",
                "\n",
                "Vigyen fel táblánként legalább 2-2 sornyi adatot!"
            ],
            "metadata": {
                "azdata_cell_guid": "736eecfc-0728-4bda-8012-575d978c8114"
            },
            "attachments": {}
        },
        {
            "cell_type": "code",
            "source": [
                "HSET IRO:1 nev \"Donald Trump\" nemzetiseg \"USA\"\r\n",
                "HSET IRO:2 nev \"Orbán Viktor\" nemzetiseg \"Hungary\"\r\n",
                "\r\n",
                "HSET KONYV:1 cim \"How to make America Great Again?\" mufaj \"politikatudomany\" IRO_ID 1\r\n",
                "HSET KONYV:2 cim \"A Puskás Akadémia története\" mufaj \"sport\" IRO_ID 2"
            ],
            "metadata": {
                "azdata_cell_guid": "652d6439-d757-443b-b732-41f3312327df",
                "language": "sql"
            },
            "outputs": [
                {
                    "output_type": "error",
                    "ename": "",
                    "evalue": "Msg 102, Level 15, State 1, Line 1\r\nIncorrect syntax near '1'.",
                    "traceback": []
                },
                {
                    "output_type": "error",
                    "ename": "",
                    "evalue": "Msg 132, Level 15, State 1, Line 2\r\nThe label 'IRO' has already been declared. Label names must be unique within a query batch or stored procedure.",
                    "traceback": []
                },
                {
                    "output_type": "error",
                    "ename": "",
                    "evalue": "Msg 132, Level 15, State 1, Line 5\r\nThe label 'KONYV' has already been declared. Label names must be unique within a query batch or stored procedure.",
                    "traceback": []
                },
                {
                    "output_type": "display_data",
                    "data": {
                        "text/html": "Total execution time: 00:00:00.003"
                    },
                    "metadata": {}
                }
            ],
            "execution_count": 50
        },
        {
            "cell_type": "markdown",
            "source": [
                "A Neo4j Sandbox-ban vagy a Desktopban jelenítsük meg azon személyeket, akik egy filmben szerepeltek Tom Hanks-sel.\n",
                "\n",
                "- Egy szereplő neve csak egyszer jelenjen meg\n",
                "- Tom Hanks ne legyen benne a listában"
            ],
            "metadata": {
                "azdata_cell_guid": "73b44eb3-3487-42ff-a81f-12b3c2bce23c"
            },
            "attachments": {}
        },
        {
            "cell_type": "code",
            "source": [
                "MATCH (p:Person)-[:ACTED_IN]->(m:Movie)<-[:ACTED_IN]-(p2:Person)\r\n",
                "WHERE  p2.name = 'Tom Hanks' AND  p.name <> 'Tom Hanks'\r\n",
                "RETURN  p.name"
            ],
            "metadata": {
                "azdata_cell_guid": "02a3b33e-1e77-4ec0-b7ea-8784db79f169",
                "language": "sql"
            },
            "outputs": [],
            "execution_count": null
        }
    ]
}